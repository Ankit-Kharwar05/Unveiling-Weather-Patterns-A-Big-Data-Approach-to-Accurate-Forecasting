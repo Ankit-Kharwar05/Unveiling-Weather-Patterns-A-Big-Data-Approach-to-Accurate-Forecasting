{
 "cells": [
  {
   "cell_type": "code",
   "execution_count": 11,
   "id": "e1fe7d31",
   "metadata": {},
   "outputs": [
    {
     "name": "stderr",
     "output_type": "stream",
     "text": [
      "/var/folders/yp/tcxqwqns2w52l01lkcdwsy6w0000gn/T/ipykernel_13008/1464552274.py:35: FutureWarning: The frame.append method is deprecated and will be removed from pandas in a future version. Use pandas.concat instead.\n",
      "  combined_df = combined_df.append(df)\n",
      "/var/folders/yp/tcxqwqns2w52l01lkcdwsy6w0000gn/T/ipykernel_13008/1464552274.py:35: FutureWarning: The frame.append method is deprecated and will be removed from pandas in a future version. Use pandas.concat instead.\n",
      "  combined_df = combined_df.append(df)\n",
      "/var/folders/yp/tcxqwqns2w52l01lkcdwsy6w0000gn/T/ipykernel_13008/1464552274.py:35: FutureWarning: The frame.append method is deprecated and will be removed from pandas in a future version. Use pandas.concat instead.\n",
      "  combined_df = combined_df.append(df)\n"
     ]
    },
    {
     "name": "stdout",
     "output_type": "stream",
     "text": [
      "              T2M  T2MDEW  T2MWET     PS     PSC\n",
      "2004010105   6.47   -4.14    1.16  99.45  101.64\n",
      "2004010106   5.83   -3.41    1.22  99.49  101.68\n",
      "2004010107   6.50   -2.63    1.94  99.53  101.72\n",
      "2004010108   9.53   -1.91    3.81  99.60  101.77\n",
      "2004010109  12.12   -1.47    5.32  99.65  101.80\n",
      "...           ...     ...     ...    ...     ...\n",
      "2014010100   4.73   -6.91   -1.09  99.96  102.17\n",
      "2014010101   4.01   -3.86    0.08  99.95  102.17\n",
      "2014010102   3.40   -1.49    0.95  99.93  102.16\n",
      "2014010103   2.87    0.34    1.60  99.90  102.13\n",
      "2014010104   2.40    1.78    2.09  99.88  102.12\n",
      "\n",
      "[175320 rows x 5 columns]\n"
     ]
    },
    {
     "name": "stderr",
     "output_type": "stream",
     "text": [
      "/var/folders/yp/tcxqwqns2w52l01lkcdwsy6w0000gn/T/ipykernel_13008/1464552274.py:35: FutureWarning: The frame.append method is deprecated and will be removed from pandas in a future version. Use pandas.concat instead.\n",
      "  combined_df = combined_df.append(df)\n"
     ]
    }
   ],
   "source": [
    "import json\n",
    "import pandas as pd\n",
    "import os\n",
    "\n",
    "# Specify the directory containing your JSON files\n",
    "json_files_directory = '/Users/darshmac/Documents/Cdac Project/Sample'\n",
    "\n",
    "# Get a list of all JSON files in the directory\n",
    "json_files = [file for file in os.listdir(json_files_directory) if file.endswith('.json')]\n",
    "\n",
    "# Create an empty DataFrame to store the combined data\n",
    "combined_df = pd.DataFrame()\n",
    "\n",
    "# Loop through each JSON file and append its data to the combined DataFrame\n",
    "for json_file in json_files:\n",
    "    json_file_path = os.path.join(json_files_directory, json_file)\n",
    "\n",
    "    # Read JSON data from file\n",
    "    with open(json_file_path, 'r') as file:\n",
    "        json_data = json.load(file)\n",
    "\n",
    "    # Extract parameter data\n",
    "    parameter_data = json_data['properties']['parameter']\n",
    "\n",
    "    # Convert to DataFrame\n",
    "    df = pd.DataFrame(parameter_data)\n",
    "\n",
    "    # Transpose the DataFrame for a better structure\n",
    "    # df = df.transpose()\n",
    "\n",
    "    # Convert index (date) to datetime objects with a more flexible approach\n",
    "    #df.index = pd.to_datetime(df.index, errors='coerce')\n",
    "    df.index = pd.to_datetime(df.index, format='%Y%m%d%H')\n",
    "\n",
    "    # Append the DataFrame to the combined DataFrame\n",
    "    combined_df = combined_df.append(df)\n",
    "\n",
    "# Display the combined DataFrame\n",
    "print(combined_df)\n"
   ]
  },
  {
   "cell_type": "code",
   "execution_count": 18,
   "id": "eb681edb",
   "metadata": {},
   "outputs": [
    {
     "name": "stdout",
     "output_type": "stream",
     "text": [
      "The combined data has been saved to /Users/darshmac/Documents/Cdac Project/combined_data.csv\n"
     ]
    }
   ],
   "source": [
    "# Specify the CSV file path where you want to save the combined DataFrame\n",
    "csv_file_path = '/Users/darshmac/Documents/Cdac Project/combined_data.csv'\n",
    "\n",
    "# Save the DataFrame to CSV\n",
    "combined_df.to_csv(csv_file_path, index=False)\n",
    "\n",
    "# Display a message indicating that the CSV file has been saved\n",
    "print(f\"The combined data has been saved to {csv_file_path}\")\n"
   ]
  },
  {
   "cell_type": "code",
   "execution_count": null,
   "id": "e281490d",
   "metadata": {},
   "outputs": [],
   "source": []
  }
 ],
 "metadata": {
  "kernelspec": {
   "display_name": "Python 3 (ipykernel)",
   "language": "python",
   "name": "python3"
  },
  "language_info": {
   "codemirror_mode": {
    "name": "ipython",
    "version": 3
   },
   "file_extension": ".py",
   "mimetype": "text/x-python",
   "name": "python",
   "nbconvert_exporter": "python",
   "pygments_lexer": "ipython3",
   "version": "3.9.18"
  }
 },
 "nbformat": 4,
 "nbformat_minor": 5
}
