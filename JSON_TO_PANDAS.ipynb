{
 "cells": [
  {
   "cell_type": "code",
   "execution_count": 25,
   "id": "0c38d324",
   "metadata": {},
   "outputs": [
    {
     "name": "stderr",
     "output_type": "stream",
     "text": [
      "/var/folders/yp/tcxqwqns2w52l01lkcdwsy6w0000gn/T/ipykernel_13008/3059620145.py:40: FutureWarning: The frame.append method is deprecated and will be removed from pandas in a future version. Use pandas.concat instead.\n",
      "  city_dataframes[row['City']] = city_dataframes[row['City']].append(df)\n",
      "/var/folders/yp/tcxqwqns2w52l01lkcdwsy6w0000gn/T/ipykernel_13008/3059620145.py:40: FutureWarning: The frame.append method is deprecated and will be removed from pandas in a future version. Use pandas.concat instead.\n",
      "  city_dataframes[row['City']] = city_dataframes[row['City']].append(df)\n",
      "/var/folders/yp/tcxqwqns2w52l01lkcdwsy6w0000gn/T/ipykernel_13008/3059620145.py:40: FutureWarning: The frame.append method is deprecated and will be removed from pandas in a future version. Use pandas.concat instead.\n",
      "  city_dataframes[row['City']] = city_dataframes[row['City']].append(df)\n",
      "/var/folders/yp/tcxqwqns2w52l01lkcdwsy6w0000gn/T/ipykernel_13008/3059620145.py:40: FutureWarning: The frame.append method is deprecated and will be removed from pandas in a future version. Use pandas.concat instead.\n",
      "  city_dataframes[row['City']] = city_dataframes[row['City']].append(df)\n",
      "/var/folders/yp/tcxqwqns2w52l01lkcdwsy6w0000gn/T/ipykernel_13008/3059620145.py:40: FutureWarning: The frame.append method is deprecated and will be removed from pandas in a future version. Use pandas.concat instead.\n",
      "  city_dataframes[row['City']] = city_dataframes[row['City']].append(df)\n",
      "/var/folders/yp/tcxqwqns2w52l01lkcdwsy6w0000gn/T/ipykernel_13008/3059620145.py:40: FutureWarning: The frame.append method is deprecated and will be removed from pandas in a future version. Use pandas.concat instead.\n",
      "  city_dataframes[row['City']] = city_dataframes[row['City']].append(df)\n",
      "/var/folders/yp/tcxqwqns2w52l01lkcdwsy6w0000gn/T/ipykernel_13008/3059620145.py:40: FutureWarning: The frame.append method is deprecated and will be removed from pandas in a future version. Use pandas.concat instead.\n",
      "  city_dataframes[row['City']] = city_dataframes[row['City']].append(df)\n",
      "/var/folders/yp/tcxqwqns2w52l01lkcdwsy6w0000gn/T/ipykernel_13008/3059620145.py:40: FutureWarning: The frame.append method is deprecated and will be removed from pandas in a future version. Use pandas.concat instead.\n",
      "  city_dataframes[row['City']] = city_dataframes[row['City']].append(df)\n"
     ]
    },
    {
     "name": "stdout",
     "output_type": "stream",
     "text": [
      "The combined data for Abohar has been saved to /Users/darshmac/Documents/Cdac Project/Abohar_combined_data.csv\n",
      "The combined data for Pune has been saved to /Users/darshmac/Documents/Cdac Project/Pune_combined_data.csv\n"
     ]
    }
   ],
   "source": [
    "import json\n",
    "import pandas as pd\n",
    "import os\n",
    "from glob import glob\n",
    "\n",
    "# Specify the directory containing your JSON files\n",
    "json_files_directory = '/Users/darshmac/Documents/Cdac Project/Sample'\n",
    "\n",
    "# Specify the path to the CSV file containing common names and corresponding city names\n",
    "common_names_csv_path = '/Users/darshmac/Documents/Cdac Project/CDAC-Project/CDAC_Project/CDAC-Project/Indian_Cities_Database.csv'\n",
    "\n",
    "# Read common names and city names from the CSV file\n",
    "common_names_df = pd.read_csv(common_names_csv_path)\n",
    "\n",
    "# Create a dictionary to store DataFrames for each city\n",
    "city_dataframes = {}\n",
    "\n",
    "# Loop through each row in the common names DataFrame\n",
    "for index, row in common_names_df.iterrows():\n",
    "    # Construct the expected JSON file name based on the common name\n",
    "    json_file_pattern = os.path.join(json_files_directory, row['City'] + '*.json')\n",
    "\n",
    "    # Use glob to get a list of matching files\n",
    "    matching_files = glob(json_file_pattern)\n",
    "\n",
    "    # Loop through each matching file and read JSON data\n",
    "    for json_file_path in matching_files:\n",
    "        with open(json_file_path, 'r') as file:\n",
    "            json_data = json.load(file)\n",
    "\n",
    "        # Extract parameter data\n",
    "        parameter_data = json_data['properties']['parameter']\n",
    "\n",
    "        # Convert to DataFrame\n",
    "        df = pd.DataFrame(parameter_data)\n",
    "\n",
    "        # Append the DataFrame to the city's DataFrame\n",
    "        if row['City'] not in city_dataframes:\n",
    "            city_dataframes[row['City']] = pd.DataFrame()\n",
    "        city_dataframes[row['City']] = city_dataframes[row['City']].append(df)\n",
    "\n",
    "# Save each city's DataFrame to a separate CSV file\n",
    "for city, city_df in city_dataframes.items():\n",
    "    csv_file_path = f'/Users/darshmac/Documents/Cdac Project/{city}_combined_data.csv'\n",
    "    city_df.to_csv(csv_file_path, index=False)\n",
    "    print(f\"The combined data for {city} has been saved to {csv_file_path}\")\n"
   ]
  },
  {
   "cell_type": "code",
   "execution_count": null,
   "id": "bf535ada",
   "metadata": {},
   "outputs": [],
   "source": []
  }
 ],
 "metadata": {
  "kernelspec": {
   "display_name": "Python 3 (ipykernel)",
   "language": "python",
   "name": "python3"
  },
  "language_info": {
   "codemirror_mode": {
    "name": "ipython",
    "version": 3
   },
   "file_extension": ".py",
   "mimetype": "text/x-python",
   "name": "python",
   "nbconvert_exporter": "python",
   "pygments_lexer": "ipython3",
   "version": "3.9.18"
  }
 },
 "nbformat": 4,
 "nbformat_minor": 5
}
