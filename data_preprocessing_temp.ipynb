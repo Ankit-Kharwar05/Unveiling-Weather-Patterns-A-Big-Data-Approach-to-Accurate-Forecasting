{
 "cells": [
  {
   "cell_type": "markdown",
   "metadata": {},
   "source": [
    "# Using pyspark Data-PreProcessing\n"
   ]
  },
  {
   "cell_type": "code",
   "execution_count": null,
   "metadata": {},
   "outputs": [],
   "source": [
    "# Intialization\n",
    "import os\n",
    "import sys\n",
    "\n",
    "os.environ[\"SPARK_HOME\"] = \"/home/talentum/spark\"\n",
    "os.environ[\"PYLIB\"] = os.environ[\"SPARK_HOME\"] + \"/python/lib\"\n",
    "# In below two lines, use /usr/bin/python2.7 if you want to use Python 2\n",
    "os.environ[\"PYSPARK_PYTHON\"] = \"/usr/bin/python3.6\" \n",
    "os.environ[\"PYSPARK_DRIVER_PYTHON\"] = \"/usr/bin/python3\"\n",
    "sys.path.insert(0, os.environ[\"PYLIB\"] +\"/py4j-0.10.7-src.zip\")\n",
    "sys.path.insert(0, os.environ[\"PYLIB\"] +\"/pyspark.zip\")\n",
    "\n",
    "# NOTE: Whichever package you want mention here.\n",
    "# os.environ['PYSPARK_SUBMIT_ARGS'] = '--packages com.databricks:spark-xml_2.11:0.6.0 pyspark-shell' \n",
    "# os.environ['PYSPARK_SUBMIT_ARGS'] = '--packages org.apache.spark:spark-avro_2.11:2.4.0 pyspark-shell'\n",
    "os.environ['PYSPARK_SUBMIT_ARGS'] = '--packages com.databricks:spark-xml_2.11:0.6.0,org.apache.spark:spark-avro_2.11:2.4.3 pyspark-shell'\n",
    "# os.environ['PYSPARK_SUBMIT_ARGS'] = '--packages com.databricks:spark-xml_2.11:0.6.0,org.apache.spark:spark-avro_2.11:2.4.0 pyspark-shell'"
   ]
  },
  {
   "cell_type": "code",
   "execution_count": null,
   "metadata": {},
   "outputs": [],
   "source": [
    "#Entrypoint 2.x\n",
    "from pyspark.sql import SparkSession\n",
    "spark = SparkSession.builder.appName(\"Spark SQL basic example\").enableHiveSupport().getOrCreate()\n",
    "\n",
    "# On yarn:\n",
    "# spark = SparkSession.builder.appName(\"Spark SQL basic example\").enableHiveSupport().master(\"yarn\").getOrCreate()\n",
    "# specify .master(\"yarn\")\n",
    "\n",
    "sc = spark.sparkContext"
   ]
  },
  {
   "cell_type": "code",
   "execution_count": null,
   "metadata": {},
   "outputs": [],
   "source": [
    "import pyspark.sql.functions as F\n",
    "from pyspark.sql.types import *\n",
    "import os"
   ]
  },
  {
   "cell_type": "code",
   "execution_count": null,
   "metadata": {},
   "outputs": [],
   "source": [
    "from pyspark.sql.types import StructType,StructField, StringType, IntegerType, DoubleType, DateType\n",
    "\n",
    "schema = StructType([\n",
    "    StructField(\"properties\", StructType([\n",
    "        StructField(\"parameter\", StructType([\n",
    "            StructField(\"PS\", MapType(StringType(),DoubleType()),True),\n",
    "            StructField(\"PSC\", MapType(StringType(),DoubleType()),True),\n",
    "            StructField(\"T2MWET\",  MapType(StringType(),DoubleType()),True),\n",
    "            StructField(\"T2MDEW\",  MapType(StringType(),DoubleType()),True),\n",
    "            StructField(\"T2M\",  MapType(StringType(),DoubleType()),True)\n",
    "        ]), True)\n",
    "    ]), True),\n",
    "    StructField(\"geometry\", StructType([\n",
    "        StructField(\"coordinates\", ArrayType(DoubleType()),True)\n",
    "    ]), True)\n",
    "])\n",
    "\n",
    "city_df = spark.read.csv('file:///home/talentum/test-jupyter/Daily/program/Indian_Cities_Database.csv', header=True)\n",
    "\n",
    "for city in city_df.collect():\n",
    "    # print(city[\"City\"])\n",
    "    # Load the json file\n",
    "    file_path = f'file:///home/talentum/test-jupyter/Hourly/dataset/{city[\"City\"]}_*.json'\n",
    "\n",
    "    data_df = spark.read.json(file_path, multiLine=True, schema=schema)\n",
    "    # Load the json file\n",
    "    #data_df = spark.read.json('file:///home/talentum/test-jupyter/Hourly/dataset/Adilabad_19.4000_78.3100_*.json', multiLine=True, schema=schema)\n",
    "\n",
    "    #print(data_df.printSchema())\n",
    "    #print(data_df.show())\n",
    "    # print(city[\"City\"])\n",
    "    data_df = data_df.select(F.col(\"properties.parameter.*\"),F.col(\"geometry.coordinates\"))\n",
    "\n",
    "    # create dataframe for features \"PS\",\"PSC\",\"T2M\",\"T2MWET\",\"T2MDEW\" \n",
    "    from pyspark.sql.functions import explode\n",
    "    PS =  data_df.select('coordinates',explode(data_df.PS).alias(\"Date\", \"PS\"))\n",
    "    PSC = data_df.select(explode(data_df.PSC).alias(\"Date\", \"PSC\"))\n",
    "    T2MDEW = data_df.select(explode(data_df.T2MDEW).alias(\"Date\", \"T2MDEW\"))\n",
    "    T2MWET = data_df.select(explode(data_df.T2MWET).alias(\"Date\", \"T2MWET\"))\n",
    "    T2M = data_df.select(explode(data_df.T2M).alias(\"Date\", \"T2M\"))\n",
    "\n",
    "\n",
    "\n",
    "    from pyspark.sql.functions import desc\n",
    "    temp_df = PS.join(PSC, PS.key == PSC.key, 'inner') \\\n",
    "    .join(T2M , PS.key == T2M.key, 'inner') \\\n",
    "    .join(T2MWET , PS.key == T2MWET.key, 'inner') \\\n",
    "    .join(T2MDEW , PS.key == T2MDEW.key, 'inner') \\\n",
    "    .select(PS.key, \"coordinates\",\"PS\",\"PSC\",\"T2M\",\"T2MWET\",\"T2MDEW\")\n",
    "\n",
    "\n",
    "    # another approach is by renaming.\n",
    "\n",
    "    # final_df.show()\n",
    "    # write dataframe to file in csv format\n",
    "    temp_df.write.csv(f'file:///home/talentum/test-jupyter/Hourly/Output/{city[\"City\"]}_temp', header=True)"
   ]
  },
  {
   "cell_type": "code",
   "execution_count": null,
   "metadata": {},
   "outputs": [],
   "source": [
    "# for column in data_df.columns:\n",
    "#     attribute =  data_df.select('coordinates',explode(data_df[column]).alias(\"Date\", column))\n",
    "\n",
    "#     # Perform a outer join between the empty DataFrame and the non-empty DataFrame on the \"key\" column\n",
    "#     empty_df = empty_df.join(attribute, on=\"Date\", how=\"outer\")\n",
    "\n",
    "# # Show the joined DataFrame\n",
    "# #joined_df.show()\n",
    "# empty_df.show()"
   ]
  },
  {
   "cell_type": "code",
   "execution_count": null,
   "metadata": {},
   "outputs": [],
   "source": []
  }
 ],
 "metadata": {
  "kernelspec": {
   "display_name": "Python 3",
   "language": "python",
   "name": "python3"
  },
  "language_info": {
   "codemirror_mode": {
    "name": "ipython",
    "version": 3
   },
   "file_extension": ".py",
   "mimetype": "text/x-python",
   "name": "python",
   "nbconvert_exporter": "python",
   "pygments_lexer": "ipython3",
   "version": "3.6.9"
  },
  "toc": {
   "base_numbering": 1,
   "nav_menu": {},
   "number_sections": true,
   "sideBar": true,
   "skip_h1_title": false,
   "title_cell": "Table of Contents",
   "title_sidebar": "Contents",
   "toc_cell": false,
   "toc_position": {},
   "toc_section_display": true,
   "toc_window_display": false
  }
 },
 "nbformat": 4,
 "nbformat_minor": 2
}
