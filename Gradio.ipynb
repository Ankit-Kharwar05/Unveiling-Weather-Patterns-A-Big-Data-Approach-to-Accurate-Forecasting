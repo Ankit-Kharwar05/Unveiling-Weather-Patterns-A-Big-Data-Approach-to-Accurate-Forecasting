{
 "cells": [
  {
   "cell_type": "code",
   "execution_count": 3,
   "id": "1eb94a2b",
   "metadata": {},
   "outputs": [
    {
     "name": "stderr",
     "output_type": "stream",
     "text": [
      "/Users/darshmac/opt/anaconda3/lib/python3.9/site-packages/gradio/blocks.py:530: UserWarning: Cannot load compact. Caught Exception: 404 Client Error: Not Found for url: https://huggingface.co/api/spaces/compact (Request ID: Root=1-65d4d63a-3f79f3f469a96ec071224926;2055116f-6f4d-43c5-a7bb-663cef9a2901)\n",
      "\n",
      "Sorry, we can't find the page you are looking for.\n",
      "  warnings.warn(f\"Cannot load {theme}. Caught Exception: {str(e)}\")\n",
      "/Users/darshmac/opt/anaconda3/lib/python3.9/site-packages/gradio/utils.py:854: UserWarning: Expected 2 arguments for function <function forecast_temperature at 0x7f7f917d5940>, received 1.\n",
      "  warnings.warn(\n",
      "/Users/darshmac/opt/anaconda3/lib/python3.9/site-packages/gradio/utils.py:858: UserWarning: Expected at least 2 arguments for function <function forecast_temperature at 0x7f7f917d5940>, received 1.\n",
      "  warnings.warn(\n"
     ]
    },
    {
     "name": "stdout",
     "output_type": "stream",
     "text": [
      "Running on local URL:  http://127.0.0.1:7860\n",
      "\n",
      "To create a public link, set `share=True` in `launch()`.\n"
     ]
    },
    {
     "data": {
      "text/html": [
       "<div><iframe src=\"http://127.0.0.1:7860/\" width=\"100%\" height=\"500\" allow=\"autoplay; camera; microphone; clipboard-read; clipboard-write;\" frameborder=\"0\" allowfullscreen></iframe></div>"
      ],
      "text/plain": [
       "<IPython.core.display.HTML object>"
      ]
     },
     "metadata": {},
     "output_type": "display_data"
    },
    {
     "data": {
      "text/plain": []
     },
     "execution_count": 3,
     "metadata": {},
     "output_type": "execute_result"
    },
    {
     "name": "stderr",
     "output_type": "stream",
     "text": [
      "/Users/darshmac/opt/anaconda3/lib/python3.9/site-packages/gradio/helpers.py:821: UserWarning: Unexpected argument. Filling with None.\n",
      "  warnings.warn(\"Unexpected argument. Filling with None.\")\n"
     ]
    }
   ],
   "source": [
    "import gradio as gr\n",
    "import pickle\n",
    "import pandas as pd\n",
    "from statsmodels.tsa.statespace.sarimax import SARIMAX\n",
    "\n",
    "# Load the trained model for a specific city\n",
    "def load_model(city_name):\n",
    "    # Convert city name to lowercase\n",
    "    city_name_lower = city_name.lower()\n",
    "    model_file_path = f\"{city_name_lower}_model.pkl\"\n",
    "    with open(model_file_path, 'rb') as f:\n",
    "        model = pickle.load(f)\n",
    "    return model\n",
    "\n",
    "# Your forecast_temperature function\n",
    "def forecast_temperature(city_name, show_average_temperature):\n",
    "    # Convert city name to lowercase\n",
    "    city_name_lower = city_name.lower()\n",
    "    \n",
    "    # Load the model for the specified city\n",
    "    model = load_model(city_name_lower)\n",
    "    \n",
    "    # Assuming your model has a method to get the forecast for the next 12 hours\n",
    "    forecast = model.get_forecast(steps=12)  # Replace with your actual method\n",
    "    \n",
    "    # Convert Series to DataFrame\n",
    "    forecast_table = forecast.predicted_mean.reset_index().rename(columns={'index': 'timestamp', 0: 'temperature'})\n",
    "    \n",
    "    # Calculate average temperature\n",
    "    average_temperature = forecast_table['predicted_mean'].mean()\n",
    "    max_temperature = forecast_table['predicted_mean'].max()\n",
    "    min_temperature = forecast_table['predicted_mean'].min()\n",
    "\n",
    "    # Create the output strings\n",
    "    output_string = f\"Forecasted Temperature for {city_name_lower} °C:\\nForecasted Table:\\n{forecast_table.to_string(index=False)}\"\n",
    "\n",
    "    avg_output_string = f\"Average Temperature: {average_temperature:.2f} °C\"\n",
    "    max_output_string = f\"Maximum Temperature: {max_temperature:.2f} °C\"\n",
    "    min_output_string = f\"Minimum Temperature: {min_temperature:.2f} °C\"\n",
    "\n",
    "    return output_string, avg_output_string, max_output_string, min_output_string\n",
    "\n",
    "# Create Gradio interface with radio buttons and checkbox\n",
    "city_radio = gr.Radio(\n",
    "    choices=[\"Agartala\", \"Amritsar\", \"Bangalore\", \"Chennai\", \"Delhi\", \"Faridabad\", \"Jabalpur\", \"Mumbai\", \"Pune\", \"Shimla\"],\n",
    "    type=\"value\",\n",
    "    label=\"Select City\"\n",
    ")\n",
    "\n",
    "iface = gr.Interface(\n",
    "    fn=forecast_temperature,\n",
    "    inputs=city_radio,\n",
    "    outputs=[\"text\", \"text\", \"text\", \"text\"],\n",
    "    title=\"Weather Forecast\",\n",
    "    live=True,\n",
    "    theme=\"compact\",  # Change theme to \"compact\" for a cleaner appearance\n",
    "    css=\"\"\"\n",
    "        body {\n",
    "            font-family: Arial, sans-serif;\n",
    "        }\n",
    "        .output {\n",
    "            margin-top: 20px;\n",
    "            text-align: center;\n",
    "        }\n",
    "    \"\"\"\n",
    ")\n",
    "\n",
    "# Launch Gradio interface\n",
    "iface.launch()\n"
   ]
  },
  {
   "cell_type": "code",
   "execution_count": null,
   "id": "e53a6a13",
   "metadata": {},
   "outputs": [],
   "source": []
  }
 ],
 "metadata": {
  "kernelspec": {
   "display_name": "Python 3 (ipykernel)",
   "language": "python",
   "name": "python3"
  },
  "language_info": {
   "codemirror_mode": {
    "name": "ipython",
    "version": 3
   },
   "file_extension": ".py",
   "mimetype": "text/x-python",
   "name": "python",
   "nbconvert_exporter": "python",
   "pygments_lexer": "ipython3",
   "version": "3.9.18"
  }
 },
 "nbformat": 4,
 "nbformat_minor": 5
}
