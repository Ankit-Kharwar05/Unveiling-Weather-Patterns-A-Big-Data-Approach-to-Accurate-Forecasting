{
 "cells": [
  {
   "cell_type": "markdown",
   "id": "88e13919",
   "metadata": {},
   "source": [
    "# LSTM Model"
   ]
  },
  {
   "cell_type": "markdown",
   "id": "26449753",
   "metadata": {},
   "source": [
    "## Website link"
   ]
  },
  {
   "cell_type": "code",
   "execution_count": 74,
   "id": "fe86a53f",
   "metadata": {},
   "outputs": [],
   "source": [
    "import pandas as pd \n",
    "import numpy as np\n",
    "import matplotlib.pyplot as plt\n",
    "import seaborn as sns"
   ]
  },
  {
   "cell_type": "code",
   "execution_count": 75,
   "id": "24a0db4b",
   "metadata": {
    "scrolled": true
   },
   "outputs": [
    {
     "data": {
      "text/html": [
       "<div>\n",
       "<style scoped>\n",
       "    .dataframe tbody tr th:only-of-type {\n",
       "        vertical-align: middle;\n",
       "    }\n",
       "\n",
       "    .dataframe tbody tr th {\n",
       "        vertical-align: top;\n",
       "    }\n",
       "\n",
       "    .dataframe thead th {\n",
       "        text-align: right;\n",
       "    }\n",
       "</style>\n",
       "<table border=\"1\" class=\"dataframe\">\n",
       "  <thead>\n",
       "    <tr style=\"text-align: right;\">\n",
       "      <th></th>\n",
       "      <th>Date</th>\n",
       "      <th>T2M</th>\n",
       "      <th>T2MDEW</th>\n",
       "      <th>T2MWET</th>\n",
       "      <th>PS</th>\n",
       "      <th>PSC</th>\n",
       "      <th>WS2M</th>\n",
       "      <th>QV2M</th>\n",
       "      <th>RH2M</th>\n",
       "      <th>PRECTOTCORR</th>\n",
       "    </tr>\n",
       "  </thead>\n",
       "  <tbody>\n",
       "    <tr>\n",
       "      <th>0</th>\n",
       "      <td>2004010106</td>\n",
       "      <td>11.97</td>\n",
       "      <td>11.30</td>\n",
       "      <td>11.63</td>\n",
       "      <td>101.33</td>\n",
       "      <td>101.51</td>\n",
       "      <td>0.43</td>\n",
       "      <td>8.24</td>\n",
       "      <td>95.50</td>\n",
       "      <td>0.0</td>\n",
       "    </tr>\n",
       "    <tr>\n",
       "      <th>1</th>\n",
       "      <td>2004010107</td>\n",
       "      <td>12.95</td>\n",
       "      <td>11.55</td>\n",
       "      <td>12.25</td>\n",
       "      <td>101.41</td>\n",
       "      <td>101.60</td>\n",
       "      <td>0.33</td>\n",
       "      <td>8.36</td>\n",
       "      <td>91.00</td>\n",
       "      <td>0.0</td>\n",
       "    </tr>\n",
       "    <tr>\n",
       "      <th>2</th>\n",
       "      <td>2004010108</td>\n",
       "      <td>15.06</td>\n",
       "      <td>11.97</td>\n",
       "      <td>13.51</td>\n",
       "      <td>101.49</td>\n",
       "      <td>101.67</td>\n",
       "      <td>0.07</td>\n",
       "      <td>8.61</td>\n",
       "      <td>81.62</td>\n",
       "      <td>0.0</td>\n",
       "    </tr>\n",
       "    <tr>\n",
       "      <th>3</th>\n",
       "      <td>2004010109</td>\n",
       "      <td>19.23</td>\n",
       "      <td>11.73</td>\n",
       "      <td>15.48</td>\n",
       "      <td>101.56</td>\n",
       "      <td>101.74</td>\n",
       "      <td>0.49</td>\n",
       "      <td>8.48</td>\n",
       "      <td>61.62</td>\n",
       "      <td>0.0</td>\n",
       "    </tr>\n",
       "    <tr>\n",
       "      <th>4</th>\n",
       "      <td>2004010110</td>\n",
       "      <td>21.79</td>\n",
       "      <td>11.19</td>\n",
       "      <td>16.48</td>\n",
       "      <td>101.50</td>\n",
       "      <td>101.68</td>\n",
       "      <td>0.60</td>\n",
       "      <td>8.18</td>\n",
       "      <td>50.81</td>\n",
       "      <td>0.0</td>\n",
       "    </tr>\n",
       "  </tbody>\n",
       "</table>\n",
       "</div>"
      ],
      "text/plain": [
       "         Date    T2M  T2MDEW  T2MWET      PS     PSC  WS2M  QV2M   RH2M  \\\n",
       "0  2004010106  11.97   11.30   11.63  101.33  101.51  0.43  8.24  95.50   \n",
       "1  2004010107  12.95   11.55   12.25  101.41  101.60  0.33  8.36  91.00   \n",
       "2  2004010108  15.06   11.97   13.51  101.49  101.67  0.07  8.61  81.62   \n",
       "3  2004010109  19.23   11.73   15.48  101.56  101.74  0.49  8.48  61.62   \n",
       "4  2004010110  21.79   11.19   16.48  101.50  101.68  0.60  8.18  50.81   \n",
       "\n",
       "   PRECTOTCORR  \n",
       "0          0.0  \n",
       "1          0.0  \n",
       "2          0.0  \n",
       "3          0.0  \n",
       "4          0.0  "
      ]
     },
     "execution_count": 75,
     "metadata": {},
     "output_type": "execute_result"
    }
   ],
   "source": [
    "data = pd.read_csv('/Users/darshmac/Documents/Cdac Project/Agartala_combined_data.csv')\n",
    "data.head()"
   ]
  },
  {
   "cell_type": "code",
   "execution_count": 76,
   "id": "a7995fd1",
   "metadata": {},
   "outputs": [
    {
     "data": {
      "text/html": [
       "<div>\n",
       "<style scoped>\n",
       "    .dataframe tbody tr th:only-of-type {\n",
       "        vertical-align: middle;\n",
       "    }\n",
       "\n",
       "    .dataframe tbody tr th {\n",
       "        vertical-align: top;\n",
       "    }\n",
       "\n",
       "    .dataframe thead th {\n",
       "        text-align: right;\n",
       "    }\n",
       "</style>\n",
       "<table border=\"1\" class=\"dataframe\">\n",
       "  <thead>\n",
       "    <tr style=\"text-align: right;\">\n",
       "      <th></th>\n",
       "      <th>Date</th>\n",
       "      <th>T2M</th>\n",
       "      <th>T2MDEW</th>\n",
       "      <th>T2MWET</th>\n",
       "      <th>PS</th>\n",
       "      <th>PSC</th>\n",
       "      <th>WS2M</th>\n",
       "      <th>QV2M</th>\n",
       "      <th>RH2M</th>\n",
       "      <th>PRECTOTCORR</th>\n",
       "    </tr>\n",
       "  </thead>\n",
       "  <tbody>\n",
       "    <tr>\n",
       "      <th>175315</th>\n",
       "      <td>2024010101</td>\n",
       "      <td>15.17</td>\n",
       "      <td>14.13</td>\n",
       "      <td>14.65</td>\n",
       "      <td>101.20</td>\n",
       "      <td>101.38</td>\n",
       "      <td>1.27</td>\n",
       "      <td>10.01</td>\n",
       "      <td>93.69</td>\n",
       "      <td>0.0</td>\n",
       "    </tr>\n",
       "    <tr>\n",
       "      <th>175316</th>\n",
       "      <td>2024010102</td>\n",
       "      <td>14.68</td>\n",
       "      <td>14.28</td>\n",
       "      <td>14.48</td>\n",
       "      <td>101.18</td>\n",
       "      <td>101.36</td>\n",
       "      <td>1.33</td>\n",
       "      <td>10.07</td>\n",
       "      <td>97.56</td>\n",
       "      <td>0.0</td>\n",
       "    </tr>\n",
       "    <tr>\n",
       "      <th>175317</th>\n",
       "      <td>2024010103</td>\n",
       "      <td>14.21</td>\n",
       "      <td>14.21</td>\n",
       "      <td>14.21</td>\n",
       "      <td>101.18</td>\n",
       "      <td>101.36</td>\n",
       "      <td>1.26</td>\n",
       "      <td>10.13</td>\n",
       "      <td>100.00</td>\n",
       "      <td>0.0</td>\n",
       "    </tr>\n",
       "    <tr>\n",
       "      <th>175318</th>\n",
       "      <td>2024010104</td>\n",
       "      <td>13.77</td>\n",
       "      <td>13.77</td>\n",
       "      <td>13.77</td>\n",
       "      <td>101.21</td>\n",
       "      <td>101.39</td>\n",
       "      <td>1.21</td>\n",
       "      <td>10.13</td>\n",
       "      <td>100.00</td>\n",
       "      <td>0.0</td>\n",
       "    </tr>\n",
       "    <tr>\n",
       "      <th>175319</th>\n",
       "      <td>2024010105</td>\n",
       "      <td>13.40</td>\n",
       "      <td>13.40</td>\n",
       "      <td>13.40</td>\n",
       "      <td>101.26</td>\n",
       "      <td>101.44</td>\n",
       "      <td>1.09</td>\n",
       "      <td>10.13</td>\n",
       "      <td>100.00</td>\n",
       "      <td>0.0</td>\n",
       "    </tr>\n",
       "  </tbody>\n",
       "</table>\n",
       "</div>"
      ],
      "text/plain": [
       "              Date    T2M  T2MDEW  T2MWET      PS     PSC  WS2M   QV2M  \\\n",
       "175315  2024010101  15.17   14.13   14.65  101.20  101.38  1.27  10.01   \n",
       "175316  2024010102  14.68   14.28   14.48  101.18  101.36  1.33  10.07   \n",
       "175317  2024010103  14.21   14.21   14.21  101.18  101.36  1.26  10.13   \n",
       "175318  2024010104  13.77   13.77   13.77  101.21  101.39  1.21  10.13   \n",
       "175319  2024010105  13.40   13.40   13.40  101.26  101.44  1.09  10.13   \n",
       "\n",
       "          RH2M  PRECTOTCORR  \n",
       "175315   93.69          0.0  \n",
       "175316   97.56          0.0  \n",
       "175317  100.00          0.0  \n",
       "175318  100.00          0.0  \n",
       "175319  100.00          0.0  "
      ]
     },
     "execution_count": 76,
     "metadata": {},
     "output_type": "execute_result"
    }
   ],
   "source": [
    "data.tail()"
   ]
  },
  {
   "cell_type": "code",
   "execution_count": 77,
   "id": "1838d386",
   "metadata": {},
   "outputs": [],
   "source": [
    "# Drop the last 6 rows from the main DataFrame\n",
    "data = data.iloc[:-6]"
   ]
  },
  {
   "cell_type": "code",
   "execution_count": 78,
   "id": "fc61407e",
   "metadata": {},
   "outputs": [
    {
     "data": {
      "text/html": [
       "<div>\n",
       "<style scoped>\n",
       "    .dataframe tbody tr th:only-of-type {\n",
       "        vertical-align: middle;\n",
       "    }\n",
       "\n",
       "    .dataframe tbody tr th {\n",
       "        vertical-align: top;\n",
       "    }\n",
       "\n",
       "    .dataframe thead th {\n",
       "        text-align: right;\n",
       "    }\n",
       "</style>\n",
       "<table border=\"1\" class=\"dataframe\">\n",
       "  <thead>\n",
       "    <tr style=\"text-align: right;\">\n",
       "      <th></th>\n",
       "      <th>Date</th>\n",
       "      <th>T2M</th>\n",
       "      <th>T2MDEW</th>\n",
       "      <th>T2MWET</th>\n",
       "      <th>PS</th>\n",
       "      <th>PSC</th>\n",
       "      <th>WS2M</th>\n",
       "      <th>QV2M</th>\n",
       "      <th>RH2M</th>\n",
       "      <th>PRECTOTCORR</th>\n",
       "    </tr>\n",
       "  </thead>\n",
       "  <tbody>\n",
       "    <tr>\n",
       "      <th>175309</th>\n",
       "      <td>2023123119</td>\n",
       "      <td>20.90</td>\n",
       "      <td>13.58</td>\n",
       "      <td>17.24</td>\n",
       "      <td>101.20</td>\n",
       "      <td>101.37</td>\n",
       "      <td>0.98</td>\n",
       "      <td>9.58</td>\n",
       "      <td>62.50</td>\n",
       "      <td>0.0</td>\n",
       "    </tr>\n",
       "    <tr>\n",
       "      <th>175310</th>\n",
       "      <td>2023123120</td>\n",
       "      <td>19.62</td>\n",
       "      <td>13.70</td>\n",
       "      <td>16.66</td>\n",
       "      <td>101.23</td>\n",
       "      <td>101.41</td>\n",
       "      <td>1.11</td>\n",
       "      <td>9.64</td>\n",
       "      <td>68.19</td>\n",
       "      <td>0.0</td>\n",
       "    </tr>\n",
       "    <tr>\n",
       "      <th>175311</th>\n",
       "      <td>2023123121</td>\n",
       "      <td>18.37</td>\n",
       "      <td>13.80</td>\n",
       "      <td>16.08</td>\n",
       "      <td>101.24</td>\n",
       "      <td>101.42</td>\n",
       "      <td>1.15</td>\n",
       "      <td>9.70</td>\n",
       "      <td>74.31</td>\n",
       "      <td>0.0</td>\n",
       "    </tr>\n",
       "    <tr>\n",
       "      <th>175312</th>\n",
       "      <td>2023123122</td>\n",
       "      <td>17.34</td>\n",
       "      <td>13.87</td>\n",
       "      <td>15.60</td>\n",
       "      <td>101.25</td>\n",
       "      <td>101.43</td>\n",
       "      <td>1.14</td>\n",
       "      <td>9.77</td>\n",
       "      <td>79.81</td>\n",
       "      <td>0.0</td>\n",
       "    </tr>\n",
       "    <tr>\n",
       "      <th>175313</th>\n",
       "      <td>2023123123</td>\n",
       "      <td>16.54</td>\n",
       "      <td>13.90</td>\n",
       "      <td>15.22</td>\n",
       "      <td>101.20</td>\n",
       "      <td>101.38</td>\n",
       "      <td>1.14</td>\n",
       "      <td>9.83</td>\n",
       "      <td>84.38</td>\n",
       "      <td>0.0</td>\n",
       "    </tr>\n",
       "  </tbody>\n",
       "</table>\n",
       "</div>"
      ],
      "text/plain": [
       "              Date    T2M  T2MDEW  T2MWET      PS     PSC  WS2M  QV2M   RH2M  \\\n",
       "175309  2023123119  20.90   13.58   17.24  101.20  101.37  0.98  9.58  62.50   \n",
       "175310  2023123120  19.62   13.70   16.66  101.23  101.41  1.11  9.64  68.19   \n",
       "175311  2023123121  18.37   13.80   16.08  101.24  101.42  1.15  9.70  74.31   \n",
       "175312  2023123122  17.34   13.87   15.60  101.25  101.43  1.14  9.77  79.81   \n",
       "175313  2023123123  16.54   13.90   15.22  101.20  101.38  1.14  9.83  84.38   \n",
       "\n",
       "        PRECTOTCORR  \n",
       "175309          0.0  \n",
       "175310          0.0  \n",
       "175311          0.0  \n",
       "175312          0.0  \n",
       "175313          0.0  "
      ]
     },
     "execution_count": 78,
     "metadata": {},
     "output_type": "execute_result"
    }
   ],
   "source": [
    "data.tail()"
   ]
  },
  {
   "cell_type": "code",
   "execution_count": 79,
   "id": "b34f84a5",
   "metadata": {},
   "outputs": [],
   "source": [
    "# Create a new DataFrame with the last 744 rows and drop them from the main DataFrame\n",
    "last_month_rows = data.iloc[-744:]\n",
    "data = data.iloc[:-744]"
   ]
  },
  {
   "cell_type": "code",
   "execution_count": 80,
   "id": "48ed1a71",
   "metadata": {},
   "outputs": [
    {
     "data": {
      "text/html": [
       "<div>\n",
       "<style scoped>\n",
       "    .dataframe tbody tr th:only-of-type {\n",
       "        vertical-align: middle;\n",
       "    }\n",
       "\n",
       "    .dataframe tbody tr th {\n",
       "        vertical-align: top;\n",
       "    }\n",
       "\n",
       "    .dataframe thead th {\n",
       "        text-align: right;\n",
       "    }\n",
       "</style>\n",
       "<table border=\"1\" class=\"dataframe\">\n",
       "  <thead>\n",
       "    <tr style=\"text-align: right;\">\n",
       "      <th></th>\n",
       "      <th>Date</th>\n",
       "      <th>T2M</th>\n",
       "      <th>T2MDEW</th>\n",
       "      <th>T2MWET</th>\n",
       "      <th>PS</th>\n",
       "      <th>PSC</th>\n",
       "      <th>WS2M</th>\n",
       "      <th>QV2M</th>\n",
       "      <th>RH2M</th>\n",
       "      <th>PRECTOTCORR</th>\n",
       "    </tr>\n",
       "  </thead>\n",
       "  <tbody>\n",
       "    <tr>\n",
       "      <th>174565</th>\n",
       "      <td>2023113019</td>\n",
       "      <td>21.91</td>\n",
       "      <td>16.82</td>\n",
       "      <td>19.37</td>\n",
       "      <td>101.19</td>\n",
       "      <td>101.37</td>\n",
       "      <td>1.06</td>\n",
       "      <td>11.78</td>\n",
       "      <td>72.38</td>\n",
       "      <td>0.0</td>\n",
       "    </tr>\n",
       "    <tr>\n",
       "      <th>174566</th>\n",
       "      <td>2023113020</td>\n",
       "      <td>21.50</td>\n",
       "      <td>16.54</td>\n",
       "      <td>19.02</td>\n",
       "      <td>101.28</td>\n",
       "      <td>101.46</td>\n",
       "      <td>1.02</td>\n",
       "      <td>11.60</td>\n",
       "      <td>73.00</td>\n",
       "      <td>0.0</td>\n",
       "    </tr>\n",
       "    <tr>\n",
       "      <th>174567</th>\n",
       "      <td>2023113021</td>\n",
       "      <td>21.12</td>\n",
       "      <td>16.33</td>\n",
       "      <td>18.73</td>\n",
       "      <td>101.30</td>\n",
       "      <td>101.48</td>\n",
       "      <td>0.96</td>\n",
       "      <td>11.41</td>\n",
       "      <td>73.75</td>\n",
       "      <td>0.0</td>\n",
       "    </tr>\n",
       "    <tr>\n",
       "      <th>174568</th>\n",
       "      <td>2023113022</td>\n",
       "      <td>20.69</td>\n",
       "      <td>16.20</td>\n",
       "      <td>18.44</td>\n",
       "      <td>101.31</td>\n",
       "      <td>101.48</td>\n",
       "      <td>0.91</td>\n",
       "      <td>11.35</td>\n",
       "      <td>75.12</td>\n",
       "      <td>0.0</td>\n",
       "    </tr>\n",
       "    <tr>\n",
       "      <th>174569</th>\n",
       "      <td>2023113023</td>\n",
       "      <td>20.08</td>\n",
       "      <td>16.11</td>\n",
       "      <td>18.10</td>\n",
       "      <td>101.26</td>\n",
       "      <td>101.44</td>\n",
       "      <td>0.91</td>\n",
       "      <td>11.29</td>\n",
       "      <td>77.62</td>\n",
       "      <td>0.0</td>\n",
       "    </tr>\n",
       "  </tbody>\n",
       "</table>\n",
       "</div>"
      ],
      "text/plain": [
       "              Date    T2M  T2MDEW  T2MWET      PS     PSC  WS2M   QV2M   RH2M  \\\n",
       "174565  2023113019  21.91   16.82   19.37  101.19  101.37  1.06  11.78  72.38   \n",
       "174566  2023113020  21.50   16.54   19.02  101.28  101.46  1.02  11.60  73.00   \n",
       "174567  2023113021  21.12   16.33   18.73  101.30  101.48  0.96  11.41  73.75   \n",
       "174568  2023113022  20.69   16.20   18.44  101.31  101.48  0.91  11.35  75.12   \n",
       "174569  2023113023  20.08   16.11   18.10  101.26  101.44  0.91  11.29  77.62   \n",
       "\n",
       "        PRECTOTCORR  \n",
       "174565          0.0  \n",
       "174566          0.0  \n",
       "174567          0.0  \n",
       "174568          0.0  \n",
       "174569          0.0  "
      ]
     },
     "execution_count": 80,
     "metadata": {},
     "output_type": "execute_result"
    }
   ],
   "source": [
    "data.tail()"
   ]
  },
  {
   "cell_type": "code",
   "execution_count": 81,
   "id": "bcddfcfa",
   "metadata": {},
   "outputs": [
    {
     "data": {
      "text/html": [
       "<div>\n",
       "<style scoped>\n",
       "    .dataframe tbody tr th:only-of-type {\n",
       "        vertical-align: middle;\n",
       "    }\n",
       "\n",
       "    .dataframe tbody tr th {\n",
       "        vertical-align: top;\n",
       "    }\n",
       "\n",
       "    .dataframe thead th {\n",
       "        text-align: right;\n",
       "    }\n",
       "</style>\n",
       "<table border=\"1\" class=\"dataframe\">\n",
       "  <thead>\n",
       "    <tr style=\"text-align: right;\">\n",
       "      <th></th>\n",
       "      <th>Date</th>\n",
       "      <th>T2M</th>\n",
       "      <th>T2MDEW</th>\n",
       "      <th>T2MWET</th>\n",
       "      <th>PS</th>\n",
       "      <th>PSC</th>\n",
       "      <th>WS2M</th>\n",
       "      <th>QV2M</th>\n",
       "      <th>RH2M</th>\n",
       "      <th>PRECTOTCORR</th>\n",
       "    </tr>\n",
       "  </thead>\n",
       "  <tbody>\n",
       "    <tr>\n",
       "      <th>174570</th>\n",
       "      <td>2023120100</td>\n",
       "      <td>19.43</td>\n",
       "      <td>16.06</td>\n",
       "      <td>17.75</td>\n",
       "      <td>101.21</td>\n",
       "      <td>101.39</td>\n",
       "      <td>0.93</td>\n",
       "      <td>11.29</td>\n",
       "      <td>80.69</td>\n",
       "      <td>0.0</td>\n",
       "    </tr>\n",
       "    <tr>\n",
       "      <th>174571</th>\n",
       "      <td>2023120101</td>\n",
       "      <td>18.71</td>\n",
       "      <td>16.09</td>\n",
       "      <td>17.40</td>\n",
       "      <td>101.17</td>\n",
       "      <td>101.35</td>\n",
       "      <td>0.96</td>\n",
       "      <td>11.29</td>\n",
       "      <td>84.69</td>\n",
       "      <td>0.0</td>\n",
       "    </tr>\n",
       "    <tr>\n",
       "      <th>174572</th>\n",
       "      <td>2023120102</td>\n",
       "      <td>18.07</td>\n",
       "      <td>16.17</td>\n",
       "      <td>17.12</td>\n",
       "      <td>101.14</td>\n",
       "      <td>101.32</td>\n",
       "      <td>0.98</td>\n",
       "      <td>11.41</td>\n",
       "      <td>88.69</td>\n",
       "      <td>0.0</td>\n",
       "    </tr>\n",
       "    <tr>\n",
       "      <th>174573</th>\n",
       "      <td>2023120103</td>\n",
       "      <td>17.54</td>\n",
       "      <td>16.26</td>\n",
       "      <td>16.90</td>\n",
       "      <td>101.15</td>\n",
       "      <td>101.33</td>\n",
       "      <td>0.99</td>\n",
       "      <td>11.47</td>\n",
       "      <td>92.31</td>\n",
       "      <td>0.0</td>\n",
       "    </tr>\n",
       "    <tr>\n",
       "      <th>174574</th>\n",
       "      <td>2023120104</td>\n",
       "      <td>17.13</td>\n",
       "      <td>16.32</td>\n",
       "      <td>16.73</td>\n",
       "      <td>101.14</td>\n",
       "      <td>101.32</td>\n",
       "      <td>1.01</td>\n",
       "      <td>11.54</td>\n",
       "      <td>95.06</td>\n",
       "      <td>0.0</td>\n",
       "    </tr>\n",
       "  </tbody>\n",
       "</table>\n",
       "</div>"
      ],
      "text/plain": [
       "              Date    T2M  T2MDEW  T2MWET      PS     PSC  WS2M   QV2M   RH2M  \\\n",
       "174570  2023120100  19.43   16.06   17.75  101.21  101.39  0.93  11.29  80.69   \n",
       "174571  2023120101  18.71   16.09   17.40  101.17  101.35  0.96  11.29  84.69   \n",
       "174572  2023120102  18.07   16.17   17.12  101.14  101.32  0.98  11.41  88.69   \n",
       "174573  2023120103  17.54   16.26   16.90  101.15  101.33  0.99  11.47  92.31   \n",
       "174574  2023120104  17.13   16.32   16.73  101.14  101.32  1.01  11.54  95.06   \n",
       "\n",
       "        PRECTOTCORR  \n",
       "174570          0.0  \n",
       "174571          0.0  \n",
       "174572          0.0  \n",
       "174573          0.0  \n",
       "174574          0.0  "
      ]
     },
     "execution_count": 81,
     "metadata": {},
     "output_type": "execute_result"
    }
   ],
   "source": [
    "last_month_rows.head()"
   ]
  },
  {
   "cell_type": "code",
   "execution_count": 82,
   "id": "f310a9dc",
   "metadata": {},
   "outputs": [
    {
     "data": {
      "text/html": [
       "<div>\n",
       "<style scoped>\n",
       "    .dataframe tbody tr th:only-of-type {\n",
       "        vertical-align: middle;\n",
       "    }\n",
       "\n",
       "    .dataframe tbody tr th {\n",
       "        vertical-align: top;\n",
       "    }\n",
       "\n",
       "    .dataframe thead th {\n",
       "        text-align: right;\n",
       "    }\n",
       "</style>\n",
       "<table border=\"1\" class=\"dataframe\">\n",
       "  <thead>\n",
       "    <tr style=\"text-align: right;\">\n",
       "      <th></th>\n",
       "      <th>Date</th>\n",
       "      <th>T2M</th>\n",
       "      <th>T2MDEW</th>\n",
       "      <th>T2MWET</th>\n",
       "      <th>PS</th>\n",
       "      <th>PSC</th>\n",
       "      <th>WS2M</th>\n",
       "      <th>QV2M</th>\n",
       "      <th>RH2M</th>\n",
       "      <th>PRECTOTCORR</th>\n",
       "    </tr>\n",
       "  </thead>\n",
       "  <tbody>\n",
       "    <tr>\n",
       "      <th>175309</th>\n",
       "      <td>2023123119</td>\n",
       "      <td>20.90</td>\n",
       "      <td>13.58</td>\n",
       "      <td>17.24</td>\n",
       "      <td>101.20</td>\n",
       "      <td>101.37</td>\n",
       "      <td>0.98</td>\n",
       "      <td>9.58</td>\n",
       "      <td>62.50</td>\n",
       "      <td>0.0</td>\n",
       "    </tr>\n",
       "    <tr>\n",
       "      <th>175310</th>\n",
       "      <td>2023123120</td>\n",
       "      <td>19.62</td>\n",
       "      <td>13.70</td>\n",
       "      <td>16.66</td>\n",
       "      <td>101.23</td>\n",
       "      <td>101.41</td>\n",
       "      <td>1.11</td>\n",
       "      <td>9.64</td>\n",
       "      <td>68.19</td>\n",
       "      <td>0.0</td>\n",
       "    </tr>\n",
       "    <tr>\n",
       "      <th>175311</th>\n",
       "      <td>2023123121</td>\n",
       "      <td>18.37</td>\n",
       "      <td>13.80</td>\n",
       "      <td>16.08</td>\n",
       "      <td>101.24</td>\n",
       "      <td>101.42</td>\n",
       "      <td>1.15</td>\n",
       "      <td>9.70</td>\n",
       "      <td>74.31</td>\n",
       "      <td>0.0</td>\n",
       "    </tr>\n",
       "    <tr>\n",
       "      <th>175312</th>\n",
       "      <td>2023123122</td>\n",
       "      <td>17.34</td>\n",
       "      <td>13.87</td>\n",
       "      <td>15.60</td>\n",
       "      <td>101.25</td>\n",
       "      <td>101.43</td>\n",
       "      <td>1.14</td>\n",
       "      <td>9.77</td>\n",
       "      <td>79.81</td>\n",
       "      <td>0.0</td>\n",
       "    </tr>\n",
       "    <tr>\n",
       "      <th>175313</th>\n",
       "      <td>2023123123</td>\n",
       "      <td>16.54</td>\n",
       "      <td>13.90</td>\n",
       "      <td>15.22</td>\n",
       "      <td>101.20</td>\n",
       "      <td>101.38</td>\n",
       "      <td>1.14</td>\n",
       "      <td>9.83</td>\n",
       "      <td>84.38</td>\n",
       "      <td>0.0</td>\n",
       "    </tr>\n",
       "  </tbody>\n",
       "</table>\n",
       "</div>"
      ],
      "text/plain": [
       "              Date    T2M  T2MDEW  T2MWET      PS     PSC  WS2M  QV2M   RH2M  \\\n",
       "175309  2023123119  20.90   13.58   17.24  101.20  101.37  0.98  9.58  62.50   \n",
       "175310  2023123120  19.62   13.70   16.66  101.23  101.41  1.11  9.64  68.19   \n",
       "175311  2023123121  18.37   13.80   16.08  101.24  101.42  1.15  9.70  74.31   \n",
       "175312  2023123122  17.34   13.87   15.60  101.25  101.43  1.14  9.77  79.81   \n",
       "175313  2023123123  16.54   13.90   15.22  101.20  101.38  1.14  9.83  84.38   \n",
       "\n",
       "        PRECTOTCORR  \n",
       "175309          0.0  \n",
       "175310          0.0  \n",
       "175311          0.0  \n",
       "175312          0.0  \n",
       "175313          0.0  "
      ]
     },
     "execution_count": 82,
     "metadata": {},
     "output_type": "execute_result"
    }
   ],
   "source": [
    "last_month_rows.tail()"
   ]
  },
  {
   "cell_type": "code",
   "execution_count": 83,
   "id": "a77419b9",
   "metadata": {},
   "outputs": [
    {
     "name": "stdout",
     "output_type": "stream",
     "text": [
      "                      Date    T2M  T2MDEW  T2MWET      PS     PSC  WS2M  \\\n",
      "0      2004-01-01 06:00:00  11.97   11.30   11.63  101.33  101.51  0.43   \n",
      "1      2004-01-01 07:00:00  12.95   11.55   12.25  101.41  101.60  0.33   \n",
      "2      2004-01-01 08:00:00  15.06   11.97   13.51  101.49  101.67  0.07   \n",
      "3      2004-01-01 09:00:00  19.23   11.73   15.48  101.56  101.74  0.49   \n",
      "4      2004-01-01 10:00:00  21.79   11.19   16.48  101.50  101.68  0.60   \n",
      "...                    ...    ...     ...     ...     ...     ...   ...   \n",
      "174565 2023-11-30 19:00:00  21.91   16.82   19.37  101.19  101.37  1.06   \n",
      "174566 2023-11-30 20:00:00  21.50   16.54   19.02  101.28  101.46  1.02   \n",
      "174567 2023-11-30 21:00:00  21.12   16.33   18.73  101.30  101.48  0.96   \n",
      "174568 2023-11-30 22:00:00  20.69   16.20   18.44  101.31  101.48  0.91   \n",
      "174569 2023-11-30 23:00:00  20.08   16.11   18.10  101.26  101.44  0.91   \n",
      "\n",
      "         QV2M   RH2M  PRECTOTCORR  \n",
      "0        8.24  95.50          0.0  \n",
      "1        8.36  91.00          0.0  \n",
      "2        8.61  81.62          0.0  \n",
      "3        8.48  61.62          0.0  \n",
      "4        8.18  50.81          0.0  \n",
      "...       ...    ...          ...  \n",
      "174565  11.78  72.38          0.0  \n",
      "174566  11.60  73.00          0.0  \n",
      "174567  11.41  73.75          0.0  \n",
      "174568  11.35  75.12          0.0  \n",
      "174569  11.29  77.62          0.0  \n",
      "\n",
      "[174570 rows x 10 columns]\n"
     ]
    }
   ],
   "source": [
    "# convert the date column to datetime format\n",
    "data['Date'] = pd.to_datetime(data['Date'], format='%Y%m%d%H')\n",
    "\n",
    "# print the resulting DataFrame\n",
    "print(data)"
   ]
  },
  {
   "cell_type": "code",
   "execution_count": 84,
   "id": "42fa4580",
   "metadata": {},
   "outputs": [
    {
     "data": {
      "text/html": [
       "<div>\n",
       "<style scoped>\n",
       "    .dataframe tbody tr th:only-of-type {\n",
       "        vertical-align: middle;\n",
       "    }\n",
       "\n",
       "    .dataframe tbody tr th {\n",
       "        vertical-align: top;\n",
       "    }\n",
       "\n",
       "    .dataframe thead th {\n",
       "        text-align: right;\n",
       "    }\n",
       "</style>\n",
       "<table border=\"1\" class=\"dataframe\">\n",
       "  <thead>\n",
       "    <tr style=\"text-align: right;\">\n",
       "      <th></th>\n",
       "      <th>Date</th>\n",
       "      <th>T2M</th>\n",
       "      <th>T2MDEW</th>\n",
       "      <th>T2MWET</th>\n",
       "      <th>PS</th>\n",
       "      <th>PSC</th>\n",
       "      <th>WS2M</th>\n",
       "      <th>QV2M</th>\n",
       "      <th>RH2M</th>\n",
       "      <th>PRECTOTCORR</th>\n",
       "    </tr>\n",
       "  </thead>\n",
       "  <tbody>\n",
       "    <tr>\n",
       "      <th>0</th>\n",
       "      <td>2004-01-01 06:00:00</td>\n",
       "      <td>11.97</td>\n",
       "      <td>11.30</td>\n",
       "      <td>11.63</td>\n",
       "      <td>101.33</td>\n",
       "      <td>101.51</td>\n",
       "      <td>0.43</td>\n",
       "      <td>8.24</td>\n",
       "      <td>95.50</td>\n",
       "      <td>0.0</td>\n",
       "    </tr>\n",
       "    <tr>\n",
       "      <th>1</th>\n",
       "      <td>2004-01-01 07:00:00</td>\n",
       "      <td>12.95</td>\n",
       "      <td>11.55</td>\n",
       "      <td>12.25</td>\n",
       "      <td>101.41</td>\n",
       "      <td>101.60</td>\n",
       "      <td>0.33</td>\n",
       "      <td>8.36</td>\n",
       "      <td>91.00</td>\n",
       "      <td>0.0</td>\n",
       "    </tr>\n",
       "    <tr>\n",
       "      <th>2</th>\n",
       "      <td>2004-01-01 08:00:00</td>\n",
       "      <td>15.06</td>\n",
       "      <td>11.97</td>\n",
       "      <td>13.51</td>\n",
       "      <td>101.49</td>\n",
       "      <td>101.67</td>\n",
       "      <td>0.07</td>\n",
       "      <td>8.61</td>\n",
       "      <td>81.62</td>\n",
       "      <td>0.0</td>\n",
       "    </tr>\n",
       "    <tr>\n",
       "      <th>3</th>\n",
       "      <td>2004-01-01 09:00:00</td>\n",
       "      <td>19.23</td>\n",
       "      <td>11.73</td>\n",
       "      <td>15.48</td>\n",
       "      <td>101.56</td>\n",
       "      <td>101.74</td>\n",
       "      <td>0.49</td>\n",
       "      <td>8.48</td>\n",
       "      <td>61.62</td>\n",
       "      <td>0.0</td>\n",
       "    </tr>\n",
       "    <tr>\n",
       "      <th>4</th>\n",
       "      <td>2004-01-01 10:00:00</td>\n",
       "      <td>21.79</td>\n",
       "      <td>11.19</td>\n",
       "      <td>16.48</td>\n",
       "      <td>101.50</td>\n",
       "      <td>101.68</td>\n",
       "      <td>0.60</td>\n",
       "      <td>8.18</td>\n",
       "      <td>50.81</td>\n",
       "      <td>0.0</td>\n",
       "    </tr>\n",
       "    <tr>\n",
       "      <th>...</th>\n",
       "      <td>...</td>\n",
       "      <td>...</td>\n",
       "      <td>...</td>\n",
       "      <td>...</td>\n",
       "      <td>...</td>\n",
       "      <td>...</td>\n",
       "      <td>...</td>\n",
       "      <td>...</td>\n",
       "      <td>...</td>\n",
       "      <td>...</td>\n",
       "    </tr>\n",
       "    <tr>\n",
       "      <th>174565</th>\n",
       "      <td>2023-11-30 19:00:00</td>\n",
       "      <td>21.91</td>\n",
       "      <td>16.82</td>\n",
       "      <td>19.37</td>\n",
       "      <td>101.19</td>\n",
       "      <td>101.37</td>\n",
       "      <td>1.06</td>\n",
       "      <td>11.78</td>\n",
       "      <td>72.38</td>\n",
       "      <td>0.0</td>\n",
       "    </tr>\n",
       "    <tr>\n",
       "      <th>174566</th>\n",
       "      <td>2023-11-30 20:00:00</td>\n",
       "      <td>21.50</td>\n",
       "      <td>16.54</td>\n",
       "      <td>19.02</td>\n",
       "      <td>101.28</td>\n",
       "      <td>101.46</td>\n",
       "      <td>1.02</td>\n",
       "      <td>11.60</td>\n",
       "      <td>73.00</td>\n",
       "      <td>0.0</td>\n",
       "    </tr>\n",
       "    <tr>\n",
       "      <th>174567</th>\n",
       "      <td>2023-11-30 21:00:00</td>\n",
       "      <td>21.12</td>\n",
       "      <td>16.33</td>\n",
       "      <td>18.73</td>\n",
       "      <td>101.30</td>\n",
       "      <td>101.48</td>\n",
       "      <td>0.96</td>\n",
       "      <td>11.41</td>\n",
       "      <td>73.75</td>\n",
       "      <td>0.0</td>\n",
       "    </tr>\n",
       "    <tr>\n",
       "      <th>174568</th>\n",
       "      <td>2023-11-30 22:00:00</td>\n",
       "      <td>20.69</td>\n",
       "      <td>16.20</td>\n",
       "      <td>18.44</td>\n",
       "      <td>101.31</td>\n",
       "      <td>101.48</td>\n",
       "      <td>0.91</td>\n",
       "      <td>11.35</td>\n",
       "      <td>75.12</td>\n",
       "      <td>0.0</td>\n",
       "    </tr>\n",
       "    <tr>\n",
       "      <th>174569</th>\n",
       "      <td>2023-11-30 23:00:00</td>\n",
       "      <td>20.08</td>\n",
       "      <td>16.11</td>\n",
       "      <td>18.10</td>\n",
       "      <td>101.26</td>\n",
       "      <td>101.44</td>\n",
       "      <td>0.91</td>\n",
       "      <td>11.29</td>\n",
       "      <td>77.62</td>\n",
       "      <td>0.0</td>\n",
       "    </tr>\n",
       "  </tbody>\n",
       "</table>\n",
       "<p>174570 rows × 10 columns</p>\n",
       "</div>"
      ],
      "text/plain": [
       "                      Date    T2M  T2MDEW  T2MWET      PS     PSC  WS2M  \\\n",
       "0      2004-01-01 06:00:00  11.97   11.30   11.63  101.33  101.51  0.43   \n",
       "1      2004-01-01 07:00:00  12.95   11.55   12.25  101.41  101.60  0.33   \n",
       "2      2004-01-01 08:00:00  15.06   11.97   13.51  101.49  101.67  0.07   \n",
       "3      2004-01-01 09:00:00  19.23   11.73   15.48  101.56  101.74  0.49   \n",
       "4      2004-01-01 10:00:00  21.79   11.19   16.48  101.50  101.68  0.60   \n",
       "...                    ...    ...     ...     ...     ...     ...   ...   \n",
       "174565 2023-11-30 19:00:00  21.91   16.82   19.37  101.19  101.37  1.06   \n",
       "174566 2023-11-30 20:00:00  21.50   16.54   19.02  101.28  101.46  1.02   \n",
       "174567 2023-11-30 21:00:00  21.12   16.33   18.73  101.30  101.48  0.96   \n",
       "174568 2023-11-30 22:00:00  20.69   16.20   18.44  101.31  101.48  0.91   \n",
       "174569 2023-11-30 23:00:00  20.08   16.11   18.10  101.26  101.44  0.91   \n",
       "\n",
       "         QV2M   RH2M  PRECTOTCORR  \n",
       "0        8.24  95.50          0.0  \n",
       "1        8.36  91.00          0.0  \n",
       "2        8.61  81.62          0.0  \n",
       "3        8.48  61.62          0.0  \n",
       "4        8.18  50.81          0.0  \n",
       "...       ...    ...          ...  \n",
       "174565  11.78  72.38          0.0  \n",
       "174566  11.60  73.00          0.0  \n",
       "174567  11.41  73.75          0.0  \n",
       "174568  11.35  75.12          0.0  \n",
       "174569  11.29  77.62          0.0  \n",
       "\n",
       "[174570 rows x 10 columns]"
      ]
     },
     "execution_count": 84,
     "metadata": {},
     "output_type": "execute_result"
    }
   ],
   "source": [
    "data"
   ]
  },
  {
   "cell_type": "markdown",
   "id": "f164be48",
   "metadata": {},
   "source": [
    "# Dataset Overview"
   ]
  },
  {
   "cell_type": "markdown",
   "id": "e2a4501f",
   "metadata": {},
   "source": [
    "#### In this section, we will load the dataset and take a preliminary look at its structure and contents."
   ]
  },
  {
   "cell_type": "code",
   "execution_count": 85,
   "id": "fb623312",
   "metadata": {},
   "outputs": [
    {
     "name": "stdout",
     "output_type": "stream",
     "text": [
      "<class 'pandas.core.frame.DataFrame'>\n",
      "RangeIndex: 174570 entries, 0 to 174569\n",
      "Data columns (total 10 columns):\n",
      " #   Column       Non-Null Count   Dtype         \n",
      "---  ------       --------------   -----         \n",
      " 0   Date         174570 non-null  datetime64[ns]\n",
      " 1   T2M          174570 non-null  float64       \n",
      " 2   T2MDEW       174570 non-null  float64       \n",
      " 3   T2MWET       174570 non-null  float64       \n",
      " 4   PS           174570 non-null  float64       \n",
      " 5   PSC          174570 non-null  float64       \n",
      " 6   WS2M         174570 non-null  float64       \n",
      " 7   QV2M         174570 non-null  float64       \n",
      " 8   RH2M         174570 non-null  float64       \n",
      " 9   PRECTOTCORR  174570 non-null  float64       \n",
      "dtypes: datetime64[ns](1), float64(9)\n",
      "memory usage: 13.3 MB\n",
      "None\n"
     ]
    }
   ],
   "source": [
    "print(data.info())"
   ]
  },
  {
   "cell_type": "code",
   "execution_count": 86,
   "id": "4a56b8d6",
   "metadata": {},
   "outputs": [
    {
     "data": {
      "text/html": [
       "<div>\n",
       "<style scoped>\n",
       "    .dataframe tbody tr th:only-of-type {\n",
       "        vertical-align: middle;\n",
       "    }\n",
       "\n",
       "    .dataframe tbody tr th {\n",
       "        vertical-align: top;\n",
       "    }\n",
       "\n",
       "    .dataframe thead th {\n",
       "        text-align: right;\n",
       "    }\n",
       "</style>\n",
       "<table border=\"1\" class=\"dataframe\">\n",
       "  <thead>\n",
       "    <tr style=\"text-align: right;\">\n",
       "      <th></th>\n",
       "      <th>T2M</th>\n",
       "      <th>T2MDEW</th>\n",
       "      <th>T2MWET</th>\n",
       "      <th>PS</th>\n",
       "      <th>PSC</th>\n",
       "      <th>WS2M</th>\n",
       "      <th>QV2M</th>\n",
       "      <th>RH2M</th>\n",
       "      <th>PRECTOTCORR</th>\n",
       "    </tr>\n",
       "  </thead>\n",
       "  <tbody>\n",
       "    <tr>\n",
       "      <th>count</th>\n",
       "      <td>174570.000000</td>\n",
       "      <td>174570.000000</td>\n",
       "      <td>174570.000000</td>\n",
       "      <td>174570.000000</td>\n",
       "      <td>174570.000000</td>\n",
       "      <td>174570.000000</td>\n",
       "      <td>174570.000000</td>\n",
       "      <td>174570.000000</td>\n",
       "      <td>174570.000000</td>\n",
       "    </tr>\n",
       "    <tr>\n",
       "      <th>mean</th>\n",
       "      <td>25.306453</td>\n",
       "      <td>20.171105</td>\n",
       "      <td>22.738776</td>\n",
       "      <td>100.504104</td>\n",
       "      <td>100.678801</td>\n",
       "      <td>1.715763</td>\n",
       "      <td>15.728503</td>\n",
       "      <td>76.321242</td>\n",
       "      <td>0.268617</td>\n",
       "    </tr>\n",
       "    <tr>\n",
       "      <th>std</th>\n",
       "      <td>5.460088</td>\n",
       "      <td>6.335299</td>\n",
       "      <td>5.267519</td>\n",
       "      <td>0.543173</td>\n",
       "      <td>0.546065</td>\n",
       "      <td>1.019928</td>\n",
       "      <td>5.428998</td>\n",
       "      <td>19.781645</td>\n",
       "      <td>0.728106</td>\n",
       "    </tr>\n",
       "    <tr>\n",
       "      <th>min</th>\n",
       "      <td>3.680000</td>\n",
       "      <td>-2.840000</td>\n",
       "      <td>2.040000</td>\n",
       "      <td>98.360000</td>\n",
       "      <td>98.530000</td>\n",
       "      <td>0.010000</td>\n",
       "      <td>3.050000</td>\n",
       "      <td>8.380000</td>\n",
       "      <td>0.000000</td>\n",
       "    </tr>\n",
       "    <tr>\n",
       "      <th>25%</th>\n",
       "      <td>22.440000</td>\n",
       "      <td>15.110000</td>\n",
       "      <td>18.920000</td>\n",
       "      <td>100.070000</td>\n",
       "      <td>100.250000</td>\n",
       "      <td>0.990000</td>\n",
       "      <td>10.620000</td>\n",
       "      <td>64.690000</td>\n",
       "      <td>0.000000</td>\n",
       "    </tr>\n",
       "    <tr>\n",
       "      <th>50%</th>\n",
       "      <td>26.210000</td>\n",
       "      <td>22.430000</td>\n",
       "      <td>24.760000</td>\n",
       "      <td>100.510000</td>\n",
       "      <td>100.690000</td>\n",
       "      <td>1.390000</td>\n",
       "      <td>16.970000</td>\n",
       "      <td>81.000000</td>\n",
       "      <td>0.000000</td>\n",
       "    </tr>\n",
       "    <tr>\n",
       "      <th>75%</th>\n",
       "      <td>28.900000</td>\n",
       "      <td>25.650000</td>\n",
       "      <td>26.780000</td>\n",
       "      <td>100.950000</td>\n",
       "      <td>101.130000</td>\n",
       "      <td>2.270000</td>\n",
       "      <td>20.690000</td>\n",
       "      <td>93.620000</td>\n",
       "      <td>0.200000</td>\n",
       "    </tr>\n",
       "    <tr>\n",
       "      <th>max</th>\n",
       "      <td>41.850000</td>\n",
       "      <td>29.020000</td>\n",
       "      <td>31.410000</td>\n",
       "      <td>101.980000</td>\n",
       "      <td>102.170000</td>\n",
       "      <td>9.720000</td>\n",
       "      <td>25.450000</td>\n",
       "      <td>100.000000</td>\n",
       "      <td>26.680000</td>\n",
       "    </tr>\n",
       "  </tbody>\n",
       "</table>\n",
       "</div>"
      ],
      "text/plain": [
       "                 T2M         T2MDEW         T2MWET             PS  \\\n",
       "count  174570.000000  174570.000000  174570.000000  174570.000000   \n",
       "mean       25.306453      20.171105      22.738776     100.504104   \n",
       "std         5.460088       6.335299       5.267519       0.543173   \n",
       "min         3.680000      -2.840000       2.040000      98.360000   \n",
       "25%        22.440000      15.110000      18.920000     100.070000   \n",
       "50%        26.210000      22.430000      24.760000     100.510000   \n",
       "75%        28.900000      25.650000      26.780000     100.950000   \n",
       "max        41.850000      29.020000      31.410000     101.980000   \n",
       "\n",
       "                 PSC           WS2M           QV2M           RH2M  \\\n",
       "count  174570.000000  174570.000000  174570.000000  174570.000000   \n",
       "mean      100.678801       1.715763      15.728503      76.321242   \n",
       "std         0.546065       1.019928       5.428998      19.781645   \n",
       "min        98.530000       0.010000       3.050000       8.380000   \n",
       "25%       100.250000       0.990000      10.620000      64.690000   \n",
       "50%       100.690000       1.390000      16.970000      81.000000   \n",
       "75%       101.130000       2.270000      20.690000      93.620000   \n",
       "max       102.170000       9.720000      25.450000     100.000000   \n",
       "\n",
       "         PRECTOTCORR  \n",
       "count  174570.000000  \n",
       "mean        0.268617  \n",
       "std         0.728106  \n",
       "min         0.000000  \n",
       "25%         0.000000  \n",
       "50%         0.000000  \n",
       "75%         0.200000  \n",
       "max        26.680000  "
      ]
     },
     "execution_count": 86,
     "metadata": {},
     "output_type": "execute_result"
    }
   ],
   "source": [
    "data.describe()"
   ]
  },
  {
   "cell_type": "code",
   "execution_count": 87,
   "id": "0d22cf4a",
   "metadata": {},
   "outputs": [
    {
     "data": {
      "text/plain": [
       "Index(['Date', 'T2M', 'T2MDEW', 'T2MWET', 'PS', 'PSC', 'WS2M', 'QV2M', 'RH2M',\n",
       "       'PRECTOTCORR'],\n",
       "      dtype='object')"
      ]
     },
     "execution_count": 87,
     "metadata": {},
     "output_type": "execute_result"
    }
   ],
   "source": [
    "data.columns"
   ]
  },
  {
   "cell_type": "markdown",
   "id": "bd8d0c50",
   "metadata": {},
   "source": [
    "# Attempt to fit model"
   ]
  },
  {
   "cell_type": "code",
   "execution_count": 88,
   "id": "6b7414b2",
   "metadata": {},
   "outputs": [
    {
     "data": {
      "image/png": "[encoded data removed]",
      "text/plain": [
       "<Figure size 1500x1000 with 1 Axes>"
      ]
     },
     "metadata": {},
     "output_type": "display_data"
    }
   ],
   "source": [
    "plt.figure(figsize=(15,10))\n",
    "sns.histplot(data.T2M,bins=[i for i in range(0,61,5)],kde=False)\n",
    "plt.title(\"Distribution of Temperature\")\n",
    "plt.grid()\n",
    "plt.show()"
   ]
  },
  {
   "cell_type": "markdown",
   "id": "b3b8bc1a",
   "metadata": {},
   "source": [
    "temperature mostly in the range 25 to 30 centigrate"
   ]
  },
  {
   "cell_type": "code",
   "execution_count": 89,
   "id": "8559eff4",
   "metadata": {},
   "outputs": [],
   "source": [
    "data.index = data['Date']"
   ]
  },
  {
   "cell_type": "code",
   "execution_count": 90,
   "id": "2a77a3f0",
   "metadata": {},
   "outputs": [
    {
     "data": {
      "text/html": [
       "<div>\n",
       "<style scoped>\n",
       "    .dataframe tbody tr th:only-of-type {\n",
       "        vertical-align: middle;\n",
       "    }\n",
       "\n",
       "    .dataframe tbody tr th {\n",
       "        vertical-align: top;\n",
       "    }\n",
       "\n",
       "    .dataframe thead th {\n",
       "        text-align: right;\n",
       "    }\n",
       "</style>\n",
       "<table border=\"1\" class=\"dataframe\">\n",
       "  <thead>\n",
       "    <tr style=\"text-align: right;\">\n",
       "      <th></th>\n",
       "      <th>Date</th>\n",
       "      <th>T2M</th>\n",
       "      <th>T2MDEW</th>\n",
       "      <th>T2MWET</th>\n",
       "      <th>PS</th>\n",
       "      <th>PSC</th>\n",
       "      <th>WS2M</th>\n",
       "      <th>QV2M</th>\n",
       "      <th>RH2M</th>\n",
       "      <th>PRECTOTCORR</th>\n",
       "    </tr>\n",
       "    <tr>\n",
       "      <th>Date</th>\n",
       "      <th></th>\n",
       "      <th></th>\n",
       "      <th></th>\n",
       "      <th></th>\n",
       "      <th></th>\n",
       "      <th></th>\n",
       "      <th></th>\n",
       "      <th></th>\n",
       "      <th></th>\n",
       "      <th></th>\n",
       "    </tr>\n",
       "  </thead>\n",
       "  <tbody>\n",
       "    <tr>\n",
       "      <th>2004-01-01 06:00:00</th>\n",
       "      <td>2004-01-01 06:00:00</td>\n",
       "      <td>11.97</td>\n",
       "      <td>11.30</td>\n",
       "      <td>11.63</td>\n",
       "      <td>101.33</td>\n",
       "      <td>101.51</td>\n",
       "      <td>0.43</td>\n",
       "      <td>8.24</td>\n",
       "      <td>95.50</td>\n",
       "      <td>0.0</td>\n",
       "    </tr>\n",
       "    <tr>\n",
       "      <th>2004-01-01 07:00:00</th>\n",
       "      <td>2004-01-01 07:00:00</td>\n",
       "      <td>12.95</td>\n",
       "      <td>11.55</td>\n",
       "      <td>12.25</td>\n",
       "      <td>101.41</td>\n",
       "      <td>101.60</td>\n",
       "      <td>0.33</td>\n",
       "      <td>8.36</td>\n",
       "      <td>91.00</td>\n",
       "      <td>0.0</td>\n",
       "    </tr>\n",
       "    <tr>\n",
       "      <th>2004-01-01 08:00:00</th>\n",
       "      <td>2004-01-01 08:00:00</td>\n",
       "      <td>15.06</td>\n",
       "      <td>11.97</td>\n",
       "      <td>13.51</td>\n",
       "      <td>101.49</td>\n",
       "      <td>101.67</td>\n",
       "      <td>0.07</td>\n",
       "      <td>8.61</td>\n",
       "      <td>81.62</td>\n",
       "      <td>0.0</td>\n",
       "    </tr>\n",
       "    <tr>\n",
       "      <th>2004-01-01 09:00:00</th>\n",
       "      <td>2004-01-01 09:00:00</td>\n",
       "      <td>19.23</td>\n",
       "      <td>11.73</td>\n",
       "      <td>15.48</td>\n",
       "      <td>101.56</td>\n",
       "      <td>101.74</td>\n",
       "      <td>0.49</td>\n",
       "      <td>8.48</td>\n",
       "      <td>61.62</td>\n",
       "      <td>0.0</td>\n",
       "    </tr>\n",
       "    <tr>\n",
       "      <th>2004-01-01 10:00:00</th>\n",
       "      <td>2004-01-01 10:00:00</td>\n",
       "      <td>21.79</td>\n",
       "      <td>11.19</td>\n",
       "      <td>16.48</td>\n",
       "      <td>101.50</td>\n",
       "      <td>101.68</td>\n",
       "      <td>0.60</td>\n",
       "      <td>8.18</td>\n",
       "      <td>50.81</td>\n",
       "      <td>0.0</td>\n",
       "    </tr>\n",
       "  </tbody>\n",
       "</table>\n",
       "</div>"
      ],
      "text/plain": [
       "                                   Date    T2M  T2MDEW  T2MWET      PS  \\\n",
       "Date                                                                     \n",
       "2004-01-01 06:00:00 2004-01-01 06:00:00  11.97   11.30   11.63  101.33   \n",
       "2004-01-01 07:00:00 2004-01-01 07:00:00  12.95   11.55   12.25  101.41   \n",
       "2004-01-01 08:00:00 2004-01-01 08:00:00  15.06   11.97   13.51  101.49   \n",
       "2004-01-01 09:00:00 2004-01-01 09:00:00  19.23   11.73   15.48  101.56   \n",
       "2004-01-01 10:00:00 2004-01-01 10:00:00  21.79   11.19   16.48  101.50   \n",
       "\n",
       "                        PSC  WS2M  QV2M   RH2M  PRECTOTCORR  \n",
       "Date                                                         \n",
       "2004-01-01 06:00:00  101.51  0.43  8.24  95.50          0.0  \n",
       "2004-01-01 07:00:00  101.60  0.33  8.36  91.00          0.0  \n",
       "2004-01-01 08:00:00  101.67  0.07  8.61  81.62          0.0  \n",
       "2004-01-01 09:00:00  101.74  0.49  8.48  61.62          0.0  \n",
       "2004-01-01 10:00:00  101.68  0.60  8.18  50.81          0.0  "
      ]
     },
     "execution_count": 90,
     "metadata": {},
     "output_type": "execute_result"
    }
   ],
   "source": [
    "data.head()"
   ]
  },
  {
   "cell_type": "code",
   "execution_count": 91,
   "id": "a1ab0d9c",
   "metadata": {},
   "outputs": [
    {
     "data": {
      "text/plain": [
       "Date           0\n",
       "T2M            0\n",
       "T2MDEW         0\n",
       "T2MWET         0\n",
       "PS             0\n",
       "PSC            0\n",
       "WS2M           0\n",
       "QV2M           0\n",
       "RH2M           0\n",
       "PRECTOTCORR    0\n",
       "dtype: int64"
      ]
     },
     "execution_count": 91,
     "metadata": {},
     "output_type": "execute_result"
    }
   ],
   "source": [
    "data.isnull().sum()"
   ]
  },
  {
   "cell_type": "code",
   "execution_count": 92,
   "id": "a772e373",
   "metadata": {},
   "outputs": [],
   "source": [
    "# Rename columns\n",
    "old_columns = ['T2M','T2MDEW','T2MWET','PS','PSC','WS2M','QV2M','RH2M','PRECTOTCORR']\n",
    "new_columns = ['Temp2m','Dew2m','Wet_bulb_temp2m','Surface_pressure','Corrected_atm_pressure','Wind_speed2m','Specific_humidity2m','Relative_humidity2m','Precipitation_corrected']\n",
    "columns_mapping = dict(zip(old_columns, new_columns))\n",
    "data = data.rename(columns=columns_mapping)"
   ]
  },
  {
   "cell_type": "markdown",
   "id": "1ad7e37f",
   "metadata": {},
   "source": [
    "# Temperature Prediction\n",
    "from correlation matrix we observed Surface pressure ,Corrected_atm_pressure,Relative_humidity2m have negative correlation hence we can drop them"
   ]
  },
  {
   "cell_type": "code",
   "execution_count": 93,
   "id": "02de7de4",
   "metadata": {},
   "outputs": [
    {
     "data": {
      "text/html": [
       "<div>\n",
       "<style scoped>\n",
       "    .dataframe tbody tr th:only-of-type {\n",
       "        vertical-align: middle;\n",
       "    }\n",
       "\n",
       "    .dataframe tbody tr th {\n",
       "        vertical-align: top;\n",
       "    }\n",
       "\n",
       "    .dataframe thead th {\n",
       "        text-align: right;\n",
       "    }\n",
       "</style>\n",
       "<table border=\"1\" class=\"dataframe\">\n",
       "  <thead>\n",
       "    <tr style=\"text-align: right;\">\n",
       "      <th></th>\n",
       "      <th>Date</th>\n",
       "      <th>Temp2m</th>\n",
       "      <th>Dew2m</th>\n",
       "      <th>Wet_bulb_temp2m</th>\n",
       "      <th>Surface_pressure</th>\n",
       "      <th>Wind_speed2m</th>\n",
       "      <th>Specific_humidity2m</th>\n",
       "      <th>Relative_humidity2m</th>\n",
       "    </tr>\n",
       "    <tr>\n",
       "      <th>Date</th>\n",
       "      <th></th>\n",
       "      <th></th>\n",
       "      <th></th>\n",
       "      <th></th>\n",
       "      <th></th>\n",
       "      <th></th>\n",
       "      <th></th>\n",
       "      <th></th>\n",
       "    </tr>\n",
       "  </thead>\n",
       "  <tbody>\n",
       "    <tr>\n",
       "      <th>2004-01-01 06:00:00</th>\n",
       "      <td>2004-01-01 06:00:00</td>\n",
       "      <td>11.97</td>\n",
       "      <td>11.30</td>\n",
       "      <td>11.63</td>\n",
       "      <td>101.33</td>\n",
       "      <td>0.43</td>\n",
       "      <td>8.24</td>\n",
       "      <td>95.50</td>\n",
       "    </tr>\n",
       "    <tr>\n",
       "      <th>2004-01-01 07:00:00</th>\n",
       "      <td>2004-01-01 07:00:00</td>\n",
       "      <td>12.95</td>\n",
       "      <td>11.55</td>\n",
       "      <td>12.25</td>\n",
       "      <td>101.41</td>\n",
       "      <td>0.33</td>\n",
       "      <td>8.36</td>\n",
       "      <td>91.00</td>\n",
       "    </tr>\n",
       "    <tr>\n",
       "      <th>2004-01-01 08:00:00</th>\n",
       "      <td>2004-01-01 08:00:00</td>\n",
       "      <td>15.06</td>\n",
       "      <td>11.97</td>\n",
       "      <td>13.51</td>\n",
       "      <td>101.49</td>\n",
       "      <td>0.07</td>\n",
       "      <td>8.61</td>\n",
       "      <td>81.62</td>\n",
       "    </tr>\n",
       "    <tr>\n",
       "      <th>2004-01-01 09:00:00</th>\n",
       "      <td>2004-01-01 09:00:00</td>\n",
       "      <td>19.23</td>\n",
       "      <td>11.73</td>\n",
       "      <td>15.48</td>\n",
       "      <td>101.56</td>\n",
       "      <td>0.49</td>\n",
       "      <td>8.48</td>\n",
       "      <td>61.62</td>\n",
       "    </tr>\n",
       "    <tr>\n",
       "      <th>2004-01-01 10:00:00</th>\n",
       "      <td>2004-01-01 10:00:00</td>\n",
       "      <td>21.79</td>\n",
       "      <td>11.19</td>\n",
       "      <td>16.48</td>\n",
       "      <td>101.50</td>\n",
       "      <td>0.60</td>\n",
       "      <td>8.18</td>\n",
       "      <td>50.81</td>\n",
       "    </tr>\n",
       "  </tbody>\n",
       "</table>\n",
       "</div>"
      ],
      "text/plain": [
       "                                   Date  Temp2m  Dew2m  Wet_bulb_temp2m  \\\n",
       "Date                                                                      \n",
       "2004-01-01 06:00:00 2004-01-01 06:00:00   11.97  11.30            11.63   \n",
       "2004-01-01 07:00:00 2004-01-01 07:00:00   12.95  11.55            12.25   \n",
       "2004-01-01 08:00:00 2004-01-01 08:00:00   15.06  11.97            13.51   \n",
       "2004-01-01 09:00:00 2004-01-01 09:00:00   19.23  11.73            15.48   \n",
       "2004-01-01 10:00:00 2004-01-01 10:00:00   21.79  11.19            16.48   \n",
       "\n",
       "                     Surface_pressure  Wind_speed2m  Specific_humidity2m  \\\n",
       "Date                                                                       \n",
       "2004-01-01 06:00:00            101.33          0.43                 8.24   \n",
       "2004-01-01 07:00:00            101.41          0.33                 8.36   \n",
       "2004-01-01 08:00:00            101.49          0.07                 8.61   \n",
       "2004-01-01 09:00:00            101.56          0.49                 8.48   \n",
       "2004-01-01 10:00:00            101.50          0.60                 8.18   \n",
       "\n",
       "                     Relative_humidity2m  \n",
       "Date                                      \n",
       "2004-01-01 06:00:00                95.50  \n",
       "2004-01-01 07:00:00                91.00  \n",
       "2004-01-01 08:00:00                81.62  \n",
       "2004-01-01 09:00:00                61.62  \n",
       "2004-01-01 10:00:00                50.81  "
      ]
     },
     "execution_count": 93,
     "metadata": {},
     "output_type": "execute_result"
    }
   ],
   "source": [
    "#dropping \n",
    "not_req_col = ['Corrected_atm_pressure','Precipitation_corrected']\n",
    "data = data.drop(columns=not_req_col)\n",
    "data.head()"
   ]
  },
  {
   "cell_type": "code",
   "execution_count": 94,
   "id": "cb6d5e9b",
   "metadata": {},
   "outputs": [
    {
     "data": {
      "text/plain": [
       "Date                   0\n",
       "Temp2m                 0\n",
       "Dew2m                  0\n",
       "Wet_bulb_temp2m        0\n",
       "Surface_pressure       0\n",
       "Wind_speed2m           0\n",
       "Specific_humidity2m    0\n",
       "Relative_humidity2m    0\n",
       "dtype: int64"
      ]
     },
     "execution_count": 94,
     "metadata": {},
     "output_type": "execute_result"
    }
   ],
   "source": [
    "data.isnull().sum()\n",
    "#data =data.fillna(method='ffill')"
   ]
  },
  {
   "cell_type": "code",
   "execution_count": 95,
   "id": "0fa4486b",
   "metadata": {
    "scrolled": true
   },
   "outputs": [
    {
     "name": "stderr",
     "output_type": "stream",
     "text": [
      "/var/folders/yp/tcxqwqns2w52l01lkcdwsy6w0000gn/T/ipykernel_14471/2042967529.py:2: FutureWarning: The default value of numeric_only in DataFrameGroupBy.mean is deprecated. In a future version, numeric_only will default to False. Either specify numeric_only or select only columns which should be valid for the function.\n",
      "  daily_data = data.resample('D').mean()\n"
     ]
    },
    {
     "data": {
      "text/html": [
       "<div>\n",
       "<style scoped>\n",
       "    .dataframe tbody tr th:only-of-type {\n",
       "        vertical-align: middle;\n",
       "    }\n",
       "\n",
       "    .dataframe tbody tr th {\n",
       "        vertical-align: top;\n",
       "    }\n",
       "\n",
       "    .dataframe thead th {\n",
       "        text-align: right;\n",
       "    }\n",
       "</style>\n",
       "<table border=\"1\" class=\"dataframe\">\n",
       "  <thead>\n",
       "    <tr style=\"text-align: right;\">\n",
       "      <th></th>\n",
       "      <th>Temp2m</th>\n",
       "      <th>Dew2m</th>\n",
       "      <th>Wet_bulb_temp2m</th>\n",
       "      <th>Surface_pressure</th>\n",
       "      <th>Wind_speed2m</th>\n",
       "      <th>Specific_humidity2m</th>\n",
       "      <th>Relative_humidity2m</th>\n",
       "    </tr>\n",
       "    <tr>\n",
       "      <th>Date</th>\n",
       "      <th></th>\n",
       "      <th></th>\n",
       "      <th></th>\n",
       "      <th></th>\n",
       "      <th></th>\n",
       "      <th></th>\n",
       "      <th></th>\n",
       "    </tr>\n",
       "  </thead>\n",
       "  <tbody>\n",
       "    <tr>\n",
       "      <th>2004-01-01</th>\n",
       "      <td>18.082222</td>\n",
       "      <td>11.385556</td>\n",
       "      <td>14.735000</td>\n",
       "      <td>101.312222</td>\n",
       "      <td>0.823333</td>\n",
       "      <td>8.308333</td>\n",
       "      <td>67.335556</td>\n",
       "    </tr>\n",
       "    <tr>\n",
       "      <th>2004-01-02</th>\n",
       "      <td>16.062083</td>\n",
       "      <td>11.107083</td>\n",
       "      <td>13.585417</td>\n",
       "      <td>101.339167</td>\n",
       "      <td>1.327500</td>\n",
       "      <td>8.144583</td>\n",
       "      <td>75.190417</td>\n",
       "    </tr>\n",
       "    <tr>\n",
       "      <th>2004-01-03</th>\n",
       "      <td>15.257083</td>\n",
       "      <td>9.621250</td>\n",
       "      <td>12.438333</td>\n",
       "      <td>101.428750</td>\n",
       "      <td>1.260417</td>\n",
       "      <td>7.376667</td>\n",
       "      <td>72.449167</td>\n",
       "    </tr>\n",
       "    <tr>\n",
       "      <th>2004-01-04</th>\n",
       "      <td>14.245000</td>\n",
       "      <td>8.644167</td>\n",
       "      <td>11.445417</td>\n",
       "      <td>101.433750</td>\n",
       "      <td>1.522917</td>\n",
       "      <td>6.898750</td>\n",
       "      <td>72.211250</td>\n",
       "    </tr>\n",
       "    <tr>\n",
       "      <th>2004-01-05</th>\n",
       "      <td>14.408333</td>\n",
       "      <td>8.368333</td>\n",
       "      <td>11.387083</td>\n",
       "      <td>101.467500</td>\n",
       "      <td>1.540833</td>\n",
       "      <td>6.755000</td>\n",
       "      <td>70.745417</td>\n",
       "    </tr>\n",
       "    <tr>\n",
       "      <th>...</th>\n",
       "      <td>...</td>\n",
       "      <td>...</td>\n",
       "      <td>...</td>\n",
       "      <td>...</td>\n",
       "      <td>...</td>\n",
       "      <td>...</td>\n",
       "      <td>...</td>\n",
       "    </tr>\n",
       "    <tr>\n",
       "      <th>2023-11-26</th>\n",
       "      <td>22.372500</td>\n",
       "      <td>18.121250</td>\n",
       "      <td>20.245417</td>\n",
       "      <td>101.299167</td>\n",
       "      <td>1.140000</td>\n",
       "      <td>12.875417</td>\n",
       "      <td>77.879167</td>\n",
       "    </tr>\n",
       "    <tr>\n",
       "      <th>2023-11-27</th>\n",
       "      <td>22.540417</td>\n",
       "      <td>17.685417</td>\n",
       "      <td>20.112917</td>\n",
       "      <td>101.186250</td>\n",
       "      <td>1.156250</td>\n",
       "      <td>12.616250</td>\n",
       "      <td>76.424167</td>\n",
       "    </tr>\n",
       "    <tr>\n",
       "      <th>2023-11-28</th>\n",
       "      <td>23.502083</td>\n",
       "      <td>18.175417</td>\n",
       "      <td>20.838333</td>\n",
       "      <td>100.997500</td>\n",
       "      <td>0.868333</td>\n",
       "      <td>12.922917</td>\n",
       "      <td>73.752500</td>\n",
       "    </tr>\n",
       "    <tr>\n",
       "      <th>2023-11-29</th>\n",
       "      <td>22.342500</td>\n",
       "      <td>18.811250</td>\n",
       "      <td>20.576667</td>\n",
       "      <td>101.089167</td>\n",
       "      <td>0.887917</td>\n",
       "      <td>13.527500</td>\n",
       "      <td>81.955833</td>\n",
       "    </tr>\n",
       "    <tr>\n",
       "      <th>2023-11-30</th>\n",
       "      <td>22.006250</td>\n",
       "      <td>17.507083</td>\n",
       "      <td>19.756250</td>\n",
       "      <td>101.179583</td>\n",
       "      <td>1.297500</td>\n",
       "      <td>12.484583</td>\n",
       "      <td>77.387500</td>\n",
       "    </tr>\n",
       "  </tbody>\n",
       "</table>\n",
       "<p>7274 rows × 7 columns</p>\n",
       "</div>"
      ],
      "text/plain": [
       "               Temp2m      Dew2m  Wet_bulb_temp2m  Surface_pressure  \\\n",
       "Date                                                                  \n",
       "2004-01-01  18.082222  11.385556        14.735000        101.312222   \n",
       "2004-01-02  16.062083  11.107083        13.585417        101.339167   \n",
       "2004-01-03  15.257083   9.621250        12.438333        101.428750   \n",
       "2004-01-04  14.245000   8.644167        11.445417        101.433750   \n",
       "2004-01-05  14.408333   8.368333        11.387083        101.467500   \n",
       "...               ...        ...              ...               ...   \n",
       "2023-11-26  22.372500  18.121250        20.245417        101.299167   \n",
       "2023-11-27  22.540417  17.685417        20.112917        101.186250   \n",
       "2023-11-28  23.502083  18.175417        20.838333        100.997500   \n",
       "2023-11-29  22.342500  18.811250        20.576667        101.089167   \n",
       "2023-11-30  22.006250  17.507083        19.756250        101.179583   \n",
       "\n",
       "            Wind_speed2m  Specific_humidity2m  Relative_humidity2m  \n",
       "Date                                                                \n",
       "2004-01-01      0.823333             8.308333            67.335556  \n",
       "2004-01-02      1.327500             8.144583            75.190417  \n",
       "2004-01-03      1.260417             7.376667            72.449167  \n",
       "2004-01-04      1.522917             6.898750            72.211250  \n",
       "2004-01-05      1.540833             6.755000            70.745417  \n",
       "...                  ...                  ...                  ...  \n",
       "2023-11-26      1.140000            12.875417            77.879167  \n",
       "2023-11-27      1.156250            12.616250            76.424167  \n",
       "2023-11-28      0.868333            12.922917            73.752500  \n",
       "2023-11-29      0.887917            13.527500            81.955833  \n",
       "2023-11-30      1.297500            12.484583            77.387500  \n",
       "\n",
       "[7274 rows x 7 columns]"
      ]
     },
     "execution_count": 95,
     "metadata": {},
     "output_type": "execute_result"
    }
   ],
   "source": [
    "#Daily Data\n",
    "daily_data = data.resample('D').mean()\n",
    "daily_data"
   ]
  },
  {
   "cell_type": "code",
   "execution_count": null,
   "id": "5f5aceac",
   "metadata": {},
   "outputs": [],
   "source": [
    "#Monthly Data\n",
    "monthly_data = data.resample('M').mean()\n",
    "monthly_data"
   ]
  },
  {
   "cell_type": "code",
   "execution_count": null,
   "id": "594731c0",
   "metadata": {},
   "outputs": [],
   "source": [
    "#Yearly Data\n",
    "yearly_data = data.resample('Y').mean()\n",
    "yearly_data"
   ]
  },
  {
   "cell_type": "markdown",
   "id": "8d1ae190",
   "metadata": {},
   "source": [
    "# Normalisation"
   ]
  },
  {
   "cell_type": "code",
   "execution_count": 96,
   "id": "ffcabb12",
   "metadata": {},
   "outputs": [],
   "source": [
    "from sklearn.preprocessing import MinMaxScaler"
   ]
  },
  {
   "cell_type": "code",
   "execution_count": 97,
   "id": "48a69a4f",
   "metadata": {},
   "outputs": [],
   "source": [
    "# Extract and set aside the datetime column\n",
    "datetime_column = data['Date']\n",
    "data = data.drop(columns=['Date'])"
   ]
  },
  {
   "cell_type": "code",
   "execution_count": 127,
   "id": "66688259",
   "metadata": {},
   "outputs": [],
   "source": [
    "#Normalise Data\n",
    "scaler = MinMaxScaler()\n",
    "scaled_data = scaler.fit_transform(data)"
   ]
  },
  {
   "cell_type": "code",
   "execution_count": 107,
   "id": "aae11959",
   "metadata": {},
   "outputs": [],
   "source": [
    "# # Combine the scaled data with the datetime column\n",
    "# scaled_data_with_datetime = pd.DataFrame(scaled_data, columns=data.columns)\n",
    "# scaled_data_with_datetime['Date'] = datetime_column"
   ]
  },
  {
   "cell_type": "code",
   "execution_count": 108,
   "id": "ef8cbd93",
   "metadata": {},
   "outputs": [],
   "source": [
    "# scaled_data_with_datetime.head()"
   ]
  },
  {
   "cell_type": "markdown",
   "id": "1e52337c",
   "metadata": {},
   "source": [
    "# Sequencing Data (12 hours)"
   ]
  },
  {
   "cell_type": "code",
   "execution_count": 109,
   "id": "5176ca5c",
   "metadata": {},
   "outputs": [],
   "source": [
    "#Define sequence(will be taking 12 hours)\n",
    "sequence_length = 12 #number of steps in each sequence\n",
    "\n",
    "#Features\n",
    "num_features = len(data.columns)"
   ]
  },
  {
   "cell_type": "code",
   "execution_count": 110,
   "id": "306baba3",
   "metadata": {},
   "outputs": [],
   "source": [
    "#Create sequence and corresponding labels\n",
    "sequences = []\n",
    "labels = []\n",
    "for i in range(len(scaled_data) - sequence_length):\n",
    "    seq = scaled_data[i:i+sequence_length]\n",
    "    label = scaled_data[i+sequence_length][0] #'T2M' column index\n",
    "    sequences.append(seq)\n",
    "    labels.append(label)"
   ]
  },
  {
   "cell_type": "code",
   "execution_count": 111,
   "id": "0d0886b2",
   "metadata": {},
   "outputs": [],
   "source": [
    "#Converting to numpy array(because pandas need in numpy array)\n",
    "sequences = np.array(sequences)\n",
    "labels = np.array(labels)"
   ]
  },
  {
   "cell_type": "code",
   "execution_count": 112,
   "id": "bd21a4b2",
   "metadata": {},
   "outputs": [],
   "source": [
    "#Split into train and test sets\n",
    "train_size = int(0.8 * len(sequences))\n",
    "train_x,test_x = sequences[:train_size], sequences[train_size:]\n",
    "train_y,test_y = labels[:train_size],labels[train_size:]\n"
   ]
  },
  {
   "cell_type": "code",
   "execution_count": 113,
   "id": "cfbc9607",
   "metadata": {},
   "outputs": [
    {
     "name": "stdout",
     "output_type": "stream",
     "text": [
      "Train X shape :  (139646, 12, 7)\n",
      "Train Y shape :  (139646,)\n",
      "Test X shape:  (34912, 12, 7)\n",
      "Test y shape:  (34912,)\n"
     ]
    }
   ],
   "source": [
    "print(\"Train X shape : \", train_x.shape)\n",
    "print(\"Train Y shape : \", train_y.shape)\n",
    "print(\"Test X shape: \", test_x.shape)\n",
    "print(\"Test y shape: \", test_y.shape)"
   ]
  },
  {
   "cell_type": "markdown",
   "id": "37b5a3ba",
   "metadata": {},
   "source": [
    "# LSTM model"
   ]
  },
  {
   "cell_type": "code",
   "execution_count": 114,
   "id": "c44f5950",
   "metadata": {},
   "outputs": [],
   "source": [
    "from tensorflow.keras.models import Sequential \n",
    "from tensorflow.keras.layers import LSTM,Dense,Dropout\n",
    "from tensorflow.keras.callbacks import EarlyStopping, ModelCheckpoint\n",
    "import tensorflow as tf"
   ]
  },
  {
   "cell_type": "code",
   "execution_count": 115,
   "id": "c54a0d0d",
   "metadata": {},
   "outputs": [],
   "source": [
    "#Create LSTM model\n",
    "model = Sequential()"
   ]
  },
  {
   "cell_type": "code",
   "execution_count": 116,
   "id": "8242d504",
   "metadata": {},
   "outputs": [],
   "source": [
    "#Adding LSTM with dropout\n",
    "model.add(LSTM(units=128, input_shape=(train_x.shape[1], train_x.shape[2]), return_sequences=True))\n",
    "model.add(Dropout(0.2))\n",
    "\n",
    "model.add(LSTM(units=64, return_sequences=True))\n",
    "model.add(Dropout(0.2))\n",
    "\n",
    "model.add(LSTM(units=32, return_sequences=False))\n",
    "model.add(Dropout(0.2))"
   ]
  },
  {
   "cell_type": "code",
   "execution_count": 117,
   "id": "c897819b",
   "metadata": {},
   "outputs": [],
   "source": [
    "#Add a dense outpu layer\n",
    "model.add(Dense(units=1))"
   ]
  },
  {
   "cell_type": "code",
   "execution_count": 118,
   "id": "7db28170",
   "metadata": {},
   "outputs": [],
   "source": [
    "#Complie the model\n",
    "model.compile(optimizer='adam', loss='mean_squared_error')"
   ]
  },
  {
   "cell_type": "code",
   "execution_count": 119,
   "id": "a9ef754f",
   "metadata": {},
   "outputs": [
    {
     "name": "stdout",
     "output_type": "stream",
     "text": [
      "Model: \"sequential_2\"\n",
      "_________________________________________________________________\n",
      " Layer (type)                Output Shape              Param #   \n",
      "=================================================================\n",
      " lstm_6 (LSTM)               (None, 12, 128)           69632     \n",
      "                                                                 \n",
      " dropout_6 (Dropout)         (None, 12, 128)           0         \n",
      "                                                                 \n",
      " lstm_7 (LSTM)               (None, 12, 64)            49408     \n",
      "                                                                 \n",
      " dropout_7 (Dropout)         (None, 12, 64)            0         \n",
      "                                                                 \n",
      " lstm_8 (LSTM)               (None, 32)                12416     \n",
      "                                                                 \n",
      " dropout_8 (Dropout)         (None, 32)                0         \n",
      "                                                                 \n",
      " dense_2 (Dense)             (None, 1)                 33        \n",
      "                                                                 \n",
      "=================================================================\n",
      "Total params: 131,489\n",
      "Trainable params: 131,489\n",
      "Non-trainable params: 0\n",
      "_________________________________________________________________\n"
     ]
    }
   ],
   "source": [
    "model.summary()"
   ]
  },
  {
   "cell_type": "code",
   "execution_count": 120,
   "id": "544290df",
   "metadata": {},
   "outputs": [
    {
     "name": "stdout",
     "output_type": "stream",
     "text": [
      "Epoch 1/50\n",
      "1528/1528 [==============================] - ETA: 0s - loss: 0.0063"
     ]
    },
    {
     "name": "stderr",
     "output_type": "stream",
     "text": [
      "WARNING:absl:Found untraced functions such as _update_step_xla, lstm_cell_6_layer_call_fn, lstm_cell_6_layer_call_and_return_conditional_losses, lstm_cell_7_layer_call_fn, lstm_cell_7_layer_call_and_return_conditional_losses while saving (showing 5 of 7). These functions will not be directly callable after loading.\n"
     ]
    },
    {
     "name": "stdout",
     "output_type": "stream",
     "text": [
      "INFO:tensorflow:Assets written to: /Users/darshmac/Documents/Cdac Project/CDAC-Project/last_check.h1/assets\n"
     ]
    },
    {
     "name": "stderr",
     "output_type": "stream",
     "text": [
      "INFO:tensorflow:Assets written to: /Users/darshmac/Documents/Cdac Project/CDAC-Project/last_check.h1/assets\n"
     ]
    },
    {
     "name": "stdout",
     "output_type": "stream",
     "text": [
      "1528/1528 [==============================] - 78s 46ms/step - loss: 0.0063 - val_loss: 4.0964e-04\n",
      "Epoch 2/50\n",
      "1527/1528 [============================>.] - ETA: 0s - loss: 0.0015"
     ]
    },
    {
     "name": "stderr",
     "output_type": "stream",
     "text": [
      "WARNING:absl:Found untraced functions such as _update_step_xla, lstm_cell_6_layer_call_fn, lstm_cell_6_layer_call_and_return_conditional_losses, lstm_cell_7_layer_call_fn, lstm_cell_7_layer_call_and_return_conditional_losses while saving (showing 5 of 7). These functions will not be directly callable after loading.\n"
     ]
    },
    {
     "name": "stdout",
     "output_type": "stream",
     "text": [
      "INFO:tensorflow:Assets written to: /Users/darshmac/Documents/Cdac Project/CDAC-Project/last_check.h1/assets\n"
     ]
    },
    {
     "name": "stderr",
     "output_type": "stream",
     "text": [
      "INFO:tensorflow:Assets written to: /Users/darshmac/Documents/Cdac Project/CDAC-Project/last_check.h1/assets\n"
     ]
    },
    {
     "name": "stdout",
     "output_type": "stream",
     "text": [
      "1528/1528 [==============================] - 69s 45ms/step - loss: 0.0015 - val_loss: 3.8948e-04\n",
      "Epoch 3/50\n",
      "1527/1528 [============================>.] - ETA: 0s - loss: 7.0981e-04"
     ]
    },
    {
     "name": "stderr",
     "output_type": "stream",
     "text": [
      "WARNING:absl:Found untraced functions such as _update_step_xla, lstm_cell_6_layer_call_fn, lstm_cell_6_layer_call_and_return_conditional_losses, lstm_cell_7_layer_call_fn, lstm_cell_7_layer_call_and_return_conditional_losses while saving (showing 5 of 7). These functions will not be directly callable after loading.\n"
     ]
    },
    {
     "name": "stdout",
     "output_type": "stream",
     "text": [
      "INFO:tensorflow:Assets written to: /Users/darshmac/Documents/Cdac Project/CDAC-Project/last_check.h1/assets\n"
     ]
    },
    {
     "name": "stderr",
     "output_type": "stream",
     "text": [
      "INFO:tensorflow:Assets written to: /Users/darshmac/Documents/Cdac Project/CDAC-Project/last_check.h1/assets\n"
     ]
    },
    {
     "name": "stdout",
     "output_type": "stream",
     "text": [
      "1528/1528 [==============================] - 70s 46ms/step - loss: 7.0971e-04 - val_loss: 1.8552e-04\n",
      "Epoch 4/50\n",
      "1528/1528 [==============================] - 58s 38ms/step - loss: 5.2619e-04 - val_loss: 2.1306e-04\n",
      "Epoch 5/50\n",
      "1528/1528 [==============================] - ETA: 0s - loss: 4.7698e-04"
     ]
    },
    {
     "name": "stderr",
     "output_type": "stream",
     "text": [
      "WARNING:absl:Found untraced functions such as _update_step_xla, lstm_cell_6_layer_call_fn, lstm_cell_6_layer_call_and_return_conditional_losses, lstm_cell_7_layer_call_fn, lstm_cell_7_layer_call_and_return_conditional_losses while saving (showing 5 of 7). These functions will not be directly callable after loading.\n"
     ]
    },
    {
     "name": "stdout",
     "output_type": "stream",
     "text": [
      "INFO:tensorflow:Assets written to: /Users/darshmac/Documents/Cdac Project/CDAC-Project/last_check.h1/assets\n"
     ]
    },
    {
     "name": "stderr",
     "output_type": "stream",
     "text": [
      "INFO:tensorflow:Assets written to: /Users/darshmac/Documents/Cdac Project/CDAC-Project/last_check.h1/assets\n"
     ]
    },
    {
     "name": "stdout",
     "output_type": "stream",
     "text": [
      "1528/1528 [==============================] - 69s 45ms/step - loss: 4.7698e-04 - val_loss: 1.7101e-04\n",
      "Epoch 6/50\n",
      "1528/1528 [==============================] - 56s 37ms/step - loss: 4.5366e-04 - val_loss: 3.1319e-04\n",
      "Epoch 7/50\n",
      "1528/1528 [==============================] - 57s 37ms/step - loss: 4.3090e-04 - val_loss: 2.0980e-04\n",
      "Epoch 8/50\n",
      "1527/1528 [============================>.] - ETA: 0s - loss: 4.1333e-04"
     ]
    },
    {
     "name": "stderr",
     "output_type": "stream",
     "text": [
      "WARNING:absl:Found untraced functions such as _update_step_xla, lstm_cell_6_layer_call_fn, lstm_cell_6_layer_call_and_return_conditional_losses, lstm_cell_7_layer_call_fn, lstm_cell_7_layer_call_and_return_conditional_losses while saving (showing 5 of 7). These functions will not be directly callable after loading.\n"
     ]
    },
    {
     "name": "stdout",
     "output_type": "stream",
     "text": [
      "INFO:tensorflow:Assets written to: /Users/darshmac/Documents/Cdac Project/CDAC-Project/last_check.h1/assets\n"
     ]
    },
    {
     "name": "stderr",
     "output_type": "stream",
     "text": [
      "INFO:tensorflow:Assets written to: /Users/darshmac/Documents/Cdac Project/CDAC-Project/last_check.h1/assets\n"
     ]
    },
    {
     "name": "stdout",
     "output_type": "stream",
     "text": [
      "1528/1528 [==============================] - 68s 45ms/step - loss: 4.1329e-04 - val_loss: 1.3691e-04\n",
      "Epoch 9/50\n",
      "1528/1528 [==============================] - 54s 35ms/step - loss: 4.0061e-04 - val_loss: 1.6676e-04\n",
      "Epoch 10/50\n",
      "1527/1528 [============================>.] - ETA: 0s - loss: 3.8567e-04"
     ]
    },
    {
     "name": "stderr",
     "output_type": "stream",
     "text": [
      "WARNING:absl:Found untraced functions such as _update_step_xla, lstm_cell_6_layer_call_fn, lstm_cell_6_layer_call_and_return_conditional_losses, lstm_cell_7_layer_call_fn, lstm_cell_7_layer_call_and_return_conditional_losses while saving (showing 5 of 7). These functions will not be directly callable after loading.\n"
     ]
    },
    {
     "name": "stdout",
     "output_type": "stream",
     "text": [
      "INFO:tensorflow:Assets written to: /Users/darshmac/Documents/Cdac Project/CDAC-Project/last_check.h1/assets\n"
     ]
    },
    {
     "name": "stderr",
     "output_type": "stream",
     "text": [
      "INFO:tensorflow:Assets written to: /Users/darshmac/Documents/Cdac Project/CDAC-Project/last_check.h1/assets\n"
     ]
    },
    {
     "name": "stdout",
     "output_type": "stream",
     "text": [
      "1528/1528 [==============================] - 67s 44ms/step - loss: 3.8566e-04 - val_loss: 1.3192e-04\n",
      "Epoch 11/50\n",
      "1527/1528 [============================>.] - ETA: 0s - loss: 3.7418e-04"
     ]
    },
    {
     "name": "stderr",
     "output_type": "stream",
     "text": [
      "WARNING:absl:Found untraced functions such as _update_step_xla, lstm_cell_6_layer_call_fn, lstm_cell_6_layer_call_and_return_conditional_losses, lstm_cell_7_layer_call_fn, lstm_cell_7_layer_call_and_return_conditional_losses while saving (showing 5 of 7). These functions will not be directly callable after loading.\n"
     ]
    },
    {
     "name": "stdout",
     "output_type": "stream",
     "text": [
      "INFO:tensorflow:Assets written to: /Users/darshmac/Documents/Cdac Project/CDAC-Project/last_check.h1/assets\n"
     ]
    },
    {
     "name": "stderr",
     "output_type": "stream",
     "text": [
      "INFO:tensorflow:Assets written to: /Users/darshmac/Documents/Cdac Project/CDAC-Project/last_check.h1/assets\n"
     ]
    },
    {
     "name": "stdout",
     "output_type": "stream",
     "text": [
      "1528/1528 [==============================] - 71s 46ms/step - loss: 3.7421e-04 - val_loss: 1.2135e-04\n",
      "Epoch 12/50\n",
      "1528/1528 [==============================] - ETA: 0s - loss: 3.6832e-04"
     ]
    },
    {
     "name": "stderr",
     "output_type": "stream",
     "text": [
      "WARNING:absl:Found untraced functions such as _update_step_xla, lstm_cell_6_layer_call_fn, lstm_cell_6_layer_call_and_return_conditional_losses, lstm_cell_7_layer_call_fn, lstm_cell_7_layer_call_and_return_conditional_losses while saving (showing 5 of 7). These functions will not be directly callable after loading.\n"
     ]
    },
    {
     "name": "stdout",
     "output_type": "stream",
     "text": [
      "INFO:tensorflow:Assets written to: /Users/darshmac/Documents/Cdac Project/CDAC-Project/last_check.h1/assets\n"
     ]
    },
    {
     "name": "stderr",
     "output_type": "stream",
     "text": [
      "INFO:tensorflow:Assets written to: /Users/darshmac/Documents/Cdac Project/CDAC-Project/last_check.h1/assets\n"
     ]
    },
    {
     "name": "stdout",
     "output_type": "stream",
     "text": [
      "1528/1528 [==============================] - 74s 48ms/step - loss: 3.6832e-04 - val_loss: 9.9484e-05\n",
      "Epoch 13/50\n",
      "1528/1528 [==============================] - ETA: 0s - loss: 3.5383e-04"
     ]
    },
    {
     "name": "stderr",
     "output_type": "stream",
     "text": [
      "WARNING:absl:Found untraced functions such as _update_step_xla, lstm_cell_6_layer_call_fn, lstm_cell_6_layer_call_and_return_conditional_losses, lstm_cell_7_layer_call_fn, lstm_cell_7_layer_call_and_return_conditional_losses while saving (showing 5 of 7). These functions will not be directly callable after loading.\n"
     ]
    },
    {
     "name": "stdout",
     "output_type": "stream",
     "text": [
      "INFO:tensorflow:Assets written to: /Users/darshmac/Documents/Cdac Project/CDAC-Project/last_check.h1/assets\n"
     ]
    },
    {
     "name": "stderr",
     "output_type": "stream",
     "text": [
      "INFO:tensorflow:Assets written to: /Users/darshmac/Documents/Cdac Project/CDAC-Project/last_check.h1/assets\n"
     ]
    },
    {
     "name": "stdout",
     "output_type": "stream",
     "text": [
      "1528/1528 [==============================] - 70s 46ms/step - loss: 3.5383e-04 - val_loss: 9.7760e-05\n",
      "Epoch 14/50\n",
      "1527/1528 [============================>.] - ETA: 0s - loss: 3.5798e-04"
     ]
    },
    {
     "name": "stderr",
     "output_type": "stream",
     "text": [
      "WARNING:absl:Found untraced functions such as _update_step_xla, lstm_cell_6_layer_call_fn, lstm_cell_6_layer_call_and_return_conditional_losses, lstm_cell_7_layer_call_fn, lstm_cell_7_layer_call_and_return_conditional_losses while saving (showing 5 of 7). These functions will not be directly callable after loading.\n"
     ]
    },
    {
     "name": "stdout",
     "output_type": "stream",
     "text": [
      "INFO:tensorflow:Assets written to: /Users/darshmac/Documents/Cdac Project/CDAC-Project/last_check.h1/assets\n"
     ]
    },
    {
     "name": "stderr",
     "output_type": "stream",
     "text": [
      "INFO:tensorflow:Assets written to: /Users/darshmac/Documents/Cdac Project/CDAC-Project/last_check.h1/assets\n"
     ]
    },
    {
     "name": "stdout",
     "output_type": "stream",
     "text": [
      "1528/1528 [==============================] - 70s 46ms/step - loss: 3.5799e-04 - val_loss: 9.7277e-05\n",
      "Epoch 15/50\n",
      "1528/1528 [==============================] - 60s 39ms/step - loss: 3.4420e-04 - val_loss: 1.2925e-04\n",
      "Epoch 16/50\n",
      "1528/1528 [==============================] - ETA: 0s - loss: 3.4552e-04"
     ]
    },
    {
     "name": "stderr",
     "output_type": "stream",
     "text": [
      "WARNING:absl:Found untraced functions such as _update_step_xla, lstm_cell_6_layer_call_fn, lstm_cell_6_layer_call_and_return_conditional_losses, lstm_cell_7_layer_call_fn, lstm_cell_7_layer_call_and_return_conditional_losses while saving (showing 5 of 7). These functions will not be directly callable after loading.\n"
     ]
    },
    {
     "name": "stdout",
     "output_type": "stream",
     "text": [
      "INFO:tensorflow:Assets written to: /Users/darshmac/Documents/Cdac Project/CDAC-Project/last_check.h1/assets\n"
     ]
    },
    {
     "name": "stderr",
     "output_type": "stream",
     "text": [
      "INFO:tensorflow:Assets written to: /Users/darshmac/Documents/Cdac Project/CDAC-Project/last_check.h1/assets\n"
     ]
    },
    {
     "name": "stdout",
     "output_type": "stream",
     "text": [
      "1528/1528 [==============================] - 71s 46ms/step - loss: 3.4552e-04 - val_loss: 9.4305e-05\n",
      "Epoch 17/50\n",
      "1528/1528 [==============================] - 59s 39ms/step - loss: 3.3576e-04 - val_loss: 1.2372e-04\n",
      "Epoch 18/50\n",
      "1528/1528 [==============================] - 58s 38ms/step - loss: 3.3313e-04 - val_loss: 1.0427e-04\n",
      "Epoch 19/50\n",
      "1528/1528 [==============================] - 56s 37ms/step - loss: 3.3030e-04 - val_loss: 1.2377e-04\n",
      "Epoch 20/50\n",
      "1528/1528 [==============================] - 55s 36ms/step - loss: 3.2679e-04 - val_loss: 9.8072e-05\n",
      "Epoch 21/50\n",
      "1527/1528 [============================>.] - ETA: 0s - loss: 3.2112e-04"
     ]
    },
    {
     "name": "stderr",
     "output_type": "stream",
     "text": [
      "WARNING:absl:Found untraced functions such as _update_step_xla, lstm_cell_6_layer_call_fn, lstm_cell_6_layer_call_and_return_conditional_losses, lstm_cell_7_layer_call_fn, lstm_cell_7_layer_call_and_return_conditional_losses while saving (showing 5 of 7). These functions will not be directly callable after loading.\n"
     ]
    },
    {
     "name": "stdout",
     "output_type": "stream",
     "text": [
      "INFO:tensorflow:Assets written to: /Users/darshmac/Documents/Cdac Project/CDAC-Project/last_check.h1/assets\n"
     ]
    },
    {
     "name": "stderr",
     "output_type": "stream",
     "text": [
      "INFO:tensorflow:Assets written to: /Users/darshmac/Documents/Cdac Project/CDAC-Project/last_check.h1/assets\n"
     ]
    },
    {
     "name": "stdout",
     "output_type": "stream",
     "text": [
      "1528/1528 [==============================] - 68s 45ms/step - loss: 3.2109e-04 - val_loss: 8.2353e-05\n",
      "Epoch 22/50\n",
      "1528/1528 [==============================] - 55s 36ms/step - loss: 3.1858e-04 - val_loss: 8.8601e-05\n",
      "Epoch 23/50\n",
      "1528/1528 [==============================] - 55s 36ms/step - loss: 3.1314e-04 - val_loss: 1.2001e-04\n",
      "Epoch 24/50\n",
      "1528/1528 [==============================] - 54s 36ms/step - loss: 3.1674e-04 - val_loss: 1.6993e-04\n",
      "Epoch 25/50\n",
      "1528/1528 [==============================] - 54s 35ms/step - loss: 3.0921e-04 - val_loss: 1.1719e-04\n",
      "Epoch 26/50\n",
      "1528/1528 [==============================] - 54s 35ms/step - loss: 3.0927e-04 - val_loss: 9.4913e-05\n"
     ]
    }
   ],
   "source": [
    "#early stopping\n",
    "early_stopping = EarlyStopping(monitor='val_loss', patience=5, restore_best_weights=True)\n",
    "model_checkpoint = ModelCheckpoint('/Users/darshmac/Documents/Cdac Project/CDAC-Project/last_check.h1', monitor='val_loss', save_best_only=True)\n",
    "\n",
    "#Train the model\n",
    "history = model.fit(\n",
    "train_x, train_y,\n",
    "epochs=50,\n",
    "batch_size=64,\n",
    "validation_split=0.3,\n",
    "callbacks=[early_stopping, model_checkpoint])"
   ]
  },
  {
   "cell_type": "code",
   "execution_count": 121,
   "id": "77eb92a3",
   "metadata": {},
   "outputs": [
    {
     "name": "stdout",
     "output_type": "stream",
     "text": [
      "1091/1091 [==============================] - 11s 9ms/step - loss: 9.1106e-05\n",
      "Test Loss:  9.110604878515005e-05\n"
     ]
    }
   ],
   "source": [
    "#Evaluate the best model on the test set\n",
    "import tensorflow as tf\n",
    "best_model = tf.keras.models.load_model('/Users/darshmac/Documents/Cdac Project/CDAC-Project/last_check.h1')\n",
    "test_loss = best_model.evaluate(test_x,test_y)\n",
    "print(\"Test Loss: \",test_loss)"
   ]
  },
  {
   "cell_type": "code",
   "execution_count": 122,
   "id": "06944253",
   "metadata": {},
   "outputs": [
    {
     "data": {
      "image/png": "[encoded data removed]",
      "text/plain": [
       "<Figure size 640x480 with 1 Axes>"
      ]
     },
     "metadata": {},
     "output_type": "display_data"
    }
   ],
   "source": [
    "# Plot training & validation loss values\n",
    "plt.plot(history.history['loss'], label='Train')\n",
    "plt.plot(history.history['val_loss'], label='Validation')\n",
    "\n",
    "# Add a vertical line at the epoch where early stopping occurred\n",
    "if early_stopping.stopped_epoch is not None:\n",
    "    plt.axvline(x=early_stopping.stopped_epoch, color='r', linestyle='--', label='Early Stopping')\n",
    "\n",
    "plt.title('Model Loss')\n",
    "plt.xlabel('Epoch')\n",
    "plt.ylabel('Loss')\n",
    "plt.legend(loc='upper right')\n",
    "plt.show()\n"
   ]
  },
  {
   "cell_type": "code",
   "execution_count": 57,
   "id": "1a49d3f3",
   "metadata": {},
   "outputs": [
    {
     "data": {
      "image/png": "[encoded data removed]",
      "text/plain": [
       "<Figure size 640x480 with 1 Axes>"
      ]
     },
     "metadata": {},
     "output_type": "display_data"
    }
   ],
   "source": [
    "# #Polt training & validation loss values\n",
    "# plt.plot(history.history['loss'])\n",
    "# plt.plot(history.history['val_loss'])\n",
    "# plt.title('Model Loss')\n",
    "# plt.xlabel('Epoch')\n",
    "# plt.ylabel('Loss')\n",
    "# plt.legend(['Train', 'Validation'], loc ='upper right')\n",
    "# plt.show()"
   ]
  },
  {
   "cell_type": "code",
   "execution_count": 123,
   "id": "6fea07e9",
   "metadata": {},
   "outputs": [
    {
     "name": "stdout",
     "output_type": "stream",
     "text": [
      "1091/1091 [==============================] - 12s 9ms/step\n",
      "Mean Absolute Error (MAE) : 0.006306797631502674\n",
      "Mean Squared Error (MSE) : 9.11060649251863e-05\n",
      "Root Mean Squared Error (MAE) : 0.00954494970783955\n"
     ]
    }
   ],
   "source": [
    "from sklearn.metrics import mean_absolute_error, mean_squared_error\n",
    "\n",
    "predictions = best_model.predict(test_x)\n",
    "\n",
    "mae = mean_absolute_error(test_y, predictions)\n",
    "mse = mean_squared_error(test_y, predictions)\n",
    "rmse = np.sqrt(mse)\n",
    "\n",
    "print(\"Mean Absolute Error (MAE) :\", mae)\n",
    "print(\"Mean Squared Error (MSE) :\", mse)\n",
    "print(\"Root Mean Squared Error (MAE) :\", rmse)"
   ]
  },
  {
   "cell_type": "markdown",
   "id": "cf5844e6",
   "metadata": {},
   "source": [
    "### Conversion of data to actual data (inverse transformation)"
   ]
  },
  {
   "cell_type": "code",
   "execution_count": 125,
   "id": "684bed1a",
   "metadata": {},
   "outputs": [
    {
     "name": "stdout",
     "output_type": "stream",
     "text": [
      "1091/1091 [==============================] - 10s 9ms/step\n"
     ]
    }
   ],
   "source": [
    "test_y_copies = np.repeat(test_y.reshape(-1,1), test_x.shape[-1], axis=-1)\n",
    "true_temp = scaler.inverse_transform(test_y_copies)[:,0]\n",
    "\n",
    "#Predicted values\n",
    "prediction = best_model.predict(test_x)\n",
    "prediction_copies = np.repeat(prediction, 7, axis=1)\n",
    "predicted_temp = scaler.inverse_transform(prediction_copies)[:,0]"
   ]
  },
  {
   "cell_type": "code",
   "execution_count": 126,
   "id": "c47a45b8",
   "metadata": {},
   "outputs": [
    {
     "data": {
      "image/png": "[encoded data removed]",
      "text/plain": [
       "<Figure size 1000x600 with 1 Axes>"
      ]
     },
     "metadata": {},
     "output_type": "display_data"
    }
   ],
   "source": [
    "plt.figure(figsize=(10,6))\n",
    "plt.plot(data.index[-100:], true_temp[-100:], label='Actual')\n",
    "plt.plot(data.index[-100:], predicted_temp[-100:], label='Predicted')\n",
    "plt.title('Temperature Prediction Vs Actual')\n",
    "plt.xlabel('Time')\n",
    "plt.ylabel('Temperature')\n",
    "plt.legend()\n",
    "plt.show()"
   ]
  },
  {
   "cell_type": "markdown",
   "id": "1c0358b8",
   "metadata": {},
   "source": [
    "#### Normalising Prediction Data"
   ]
  },
  {
   "cell_type": "code",
   "execution_count": 129,
   "id": "4f677c6e",
   "metadata": {},
   "outputs": [],
   "source": [
    "# Rename columns\n",
    "old_columns = ['T2M','T2MDEW','T2MWET','PS','PSC','WS2M','QV2M','RH2M','PRECTOTCORR']\n",
    "new_columns = ['Temp2m','Dew2m','Wet_bulb_temp2m','Surface_pressure','Corrected_atm_pressure','Wind_speed2m','Specific_humidity2m','Relative_humidity2m','Precipitation_corrected']\n",
    "columns_mapping = dict(zip(old_columns, new_columns))\n",
    "last_month_rows = last_month_rows.rename(columns=columns_mapping)"
   ]
  },
  {
   "cell_type": "code",
   "execution_count": 131,
   "id": "a8c99cb5",
   "metadata": {},
   "outputs": [
    {
     "data": {
      "text/plain": [
       "Index(['Date', 'Temp2m', 'Dew2m', 'Wet_bulb_temp2m', 'Surface_pressure',\n",
       "       'Corrected_atm_pressure', 'Wind_speed2m', 'Specific_humidity2m',\n",
       "       'Relative_humidity2m', 'Precipitation_corrected'],\n",
       "      dtype='object')"
      ]
     },
     "execution_count": 131,
     "metadata": {},
     "output_type": "execute_result"
    }
   ],
   "source": [
    "last_month_rows.columns"
   ]
  },
  {
   "cell_type": "code",
   "execution_count": 138,
   "id": "c4deafc7",
   "metadata": {},
   "outputs": [
    {
     "data": {
      "text/plain": [
       "Index(['Temp2m', 'Dew2m', 'Wet_bulb_temp2m', 'Surface_pressure',\n",
       "       'Wind_speed2m', 'Specific_humidity2m', 'Relative_humidity2m'],\n",
       "      dtype='object')"
      ]
     },
     "execution_count": 138,
     "metadata": {},
     "output_type": "execute_result"
    }
   ],
   "source": [
    "last_month_rows.columns"
   ]
  },
  {
   "cell_type": "code",
   "execution_count": 162,
   "id": "fa473fcf",
   "metadata": {},
   "outputs": [
    {
     "ename": "KeyError",
     "evalue": "\"['Corrected_atm_pressure', 'Precipitation_corrected', 'Date'] not found in axis\"",
     "output_type": "error",
     "traceback": [
      "\u001b[0;31m---------------------------------------------------------------------------\u001b[0m",
      "\u001b[0;31mKeyError\u001b[0m                                  Traceback (most recent call last)",
      "Cell \u001b[0;32mIn[162], line 2\u001b[0m\n\u001b[1;32m      1\u001b[0m d_col \u001b[38;5;241m=\u001b[39m [\u001b[38;5;124m'\u001b[39m\u001b[38;5;124mCorrected_atm_pressure\u001b[39m\u001b[38;5;124m'\u001b[39m,\u001b[38;5;124m'\u001b[39m\u001b[38;5;124mPrecipitation_corrected\u001b[39m\u001b[38;5;124m'\u001b[39m,\u001b[38;5;124m'\u001b[39m\u001b[38;5;124mDate\u001b[39m\u001b[38;5;124m'\u001b[39m]\n\u001b[0;32m----> 2\u001b[0m last_month_rows\u001b[38;5;241m=\u001b[39m \u001b[43mlast_month_rows\u001b[49m\u001b[38;5;241;43m.\u001b[39;49m\u001b[43mdrop\u001b[49m\u001b[43m(\u001b[49m\u001b[43mcolumns\u001b[49m\u001b[38;5;241;43m=\u001b[39;49m\u001b[43md_col\u001b[49m\u001b[43m)\u001b[49m\n",
      "File \u001b[0;32m~/opt/anaconda3/lib/python3.9/site-packages/pandas/util/_decorators.py:331\u001b[0m, in \u001b[0;36mdeprecate_nonkeyword_arguments.<locals>.decorate.<locals>.wrapper\u001b[0;34m(*args, **kwargs)\u001b[0m\n\u001b[1;32m    325\u001b[0m \u001b[38;5;28;01mif\u001b[39;00m \u001b[38;5;28mlen\u001b[39m(args) \u001b[38;5;241m>\u001b[39m num_allow_args:\n\u001b[1;32m    326\u001b[0m     warnings\u001b[38;5;241m.\u001b[39mwarn(\n\u001b[1;32m    327\u001b[0m         msg\u001b[38;5;241m.\u001b[39mformat(arguments\u001b[38;5;241m=\u001b[39m_format_argument_list(allow_args)),\n\u001b[1;32m    328\u001b[0m         \u001b[38;5;167;01mFutureWarning\u001b[39;00m,\n\u001b[1;32m    329\u001b[0m         stacklevel\u001b[38;5;241m=\u001b[39mfind_stack_level(),\n\u001b[1;32m    330\u001b[0m     )\n\u001b[0;32m--> 331\u001b[0m \u001b[38;5;28;01mreturn\u001b[39;00m \u001b[43mfunc\u001b[49m\u001b[43m(\u001b[49m\u001b[38;5;241;43m*\u001b[39;49m\u001b[43margs\u001b[49m\u001b[43m,\u001b[49m\u001b[43m \u001b[49m\u001b[38;5;241;43m*\u001b[39;49m\u001b[38;5;241;43m*\u001b[39;49m\u001b[43mkwargs\u001b[49m\u001b[43m)\u001b[49m\n",
      "File \u001b[0;32m~/opt/anaconda3/lib/python3.9/site-packages/pandas/core/frame.py:5399\u001b[0m, in \u001b[0;36mDataFrame.drop\u001b[0;34m(self, labels, axis, index, columns, level, inplace, errors)\u001b[0m\n\u001b[1;32m   5251\u001b[0m \u001b[38;5;129m@deprecate_nonkeyword_arguments\u001b[39m(version\u001b[38;5;241m=\u001b[39m\u001b[38;5;28;01mNone\u001b[39;00m, allowed_args\u001b[38;5;241m=\u001b[39m[\u001b[38;5;124m\"\u001b[39m\u001b[38;5;124mself\u001b[39m\u001b[38;5;124m\"\u001b[39m, \u001b[38;5;124m\"\u001b[39m\u001b[38;5;124mlabels\u001b[39m\u001b[38;5;124m\"\u001b[39m])\n\u001b[1;32m   5252\u001b[0m \u001b[38;5;28;01mdef\u001b[39;00m \u001b[38;5;21mdrop\u001b[39m(  \u001b[38;5;66;03m# type: ignore[override]\u001b[39;00m\n\u001b[1;32m   5253\u001b[0m     \u001b[38;5;28mself\u001b[39m,\n\u001b[0;32m   (...)\u001b[0m\n\u001b[1;32m   5260\u001b[0m     errors: IgnoreRaise \u001b[38;5;241m=\u001b[39m \u001b[38;5;124m\"\u001b[39m\u001b[38;5;124mraise\u001b[39m\u001b[38;5;124m\"\u001b[39m,\n\u001b[1;32m   5261\u001b[0m ) \u001b[38;5;241m-\u001b[39m\u001b[38;5;241m>\u001b[39m DataFrame \u001b[38;5;241m|\u001b[39m \u001b[38;5;28;01mNone\u001b[39;00m:\n\u001b[1;32m   5262\u001b[0m \u001b[38;5;250m    \u001b[39m\u001b[38;5;124;03m\"\"\"\u001b[39;00m\n\u001b[1;32m   5263\u001b[0m \u001b[38;5;124;03m    Drop specified labels from rows or columns.\u001b[39;00m\n\u001b[1;32m   5264\u001b[0m \n\u001b[0;32m   (...)\u001b[0m\n\u001b[1;32m   5397\u001b[0m \u001b[38;5;124;03m            weight  1.0     0.8\u001b[39;00m\n\u001b[1;32m   5398\u001b[0m \u001b[38;5;124;03m    \"\"\"\u001b[39;00m\n\u001b[0;32m-> 5399\u001b[0m     \u001b[38;5;28;01mreturn\u001b[39;00m \u001b[38;5;28;43msuper\u001b[39;49m\u001b[43m(\u001b[49m\u001b[43m)\u001b[49m\u001b[38;5;241;43m.\u001b[39;49m\u001b[43mdrop\u001b[49m\u001b[43m(\u001b[49m\n\u001b[1;32m   5400\u001b[0m \u001b[43m        \u001b[49m\u001b[43mlabels\u001b[49m\u001b[38;5;241;43m=\u001b[39;49m\u001b[43mlabels\u001b[49m\u001b[43m,\u001b[49m\n\u001b[1;32m   5401\u001b[0m \u001b[43m        \u001b[49m\u001b[43maxis\u001b[49m\u001b[38;5;241;43m=\u001b[39;49m\u001b[43maxis\u001b[49m\u001b[43m,\u001b[49m\n\u001b[1;32m   5402\u001b[0m \u001b[43m        \u001b[49m\u001b[43mindex\u001b[49m\u001b[38;5;241;43m=\u001b[39;49m\u001b[43mindex\u001b[49m\u001b[43m,\u001b[49m\n\u001b[1;32m   5403\u001b[0m \u001b[43m        \u001b[49m\u001b[43mcolumns\u001b[49m\u001b[38;5;241;43m=\u001b[39;49m\u001b[43mcolumns\u001b[49m\u001b[43m,\u001b[49m\n\u001b[1;32m   5404\u001b[0m \u001b[43m        \u001b[49m\u001b[43mlevel\u001b[49m\u001b[38;5;241;43m=\u001b[39;49m\u001b[43mlevel\u001b[49m\u001b[43m,\u001b[49m\n\u001b[1;32m   5405\u001b[0m \u001b[43m        \u001b[49m\u001b[43minplace\u001b[49m\u001b[38;5;241;43m=\u001b[39;49m\u001b[43minplace\u001b[49m\u001b[43m,\u001b[49m\n\u001b[1;32m   5406\u001b[0m \u001b[43m        \u001b[49m\u001b[43merrors\u001b[49m\u001b[38;5;241;43m=\u001b[39;49m\u001b[43merrors\u001b[49m\u001b[43m,\u001b[49m\n\u001b[1;32m   5407\u001b[0m \u001b[43m    \u001b[49m\u001b[43m)\u001b[49m\n",
      "File \u001b[0;32m~/opt/anaconda3/lib/python3.9/site-packages/pandas/util/_decorators.py:331\u001b[0m, in \u001b[0;36mdeprecate_nonkeyword_arguments.<locals>.decorate.<locals>.wrapper\u001b[0;34m(*args, **kwargs)\u001b[0m\n\u001b[1;32m    325\u001b[0m \u001b[38;5;28;01mif\u001b[39;00m \u001b[38;5;28mlen\u001b[39m(args) \u001b[38;5;241m>\u001b[39m num_allow_args:\n\u001b[1;32m    326\u001b[0m     warnings\u001b[38;5;241m.\u001b[39mwarn(\n\u001b[1;32m    327\u001b[0m         msg\u001b[38;5;241m.\u001b[39mformat(arguments\u001b[38;5;241m=\u001b[39m_format_argument_list(allow_args)),\n\u001b[1;32m    328\u001b[0m         \u001b[38;5;167;01mFutureWarning\u001b[39;00m,\n\u001b[1;32m    329\u001b[0m         stacklevel\u001b[38;5;241m=\u001b[39mfind_stack_level(),\n\u001b[1;32m    330\u001b[0m     )\n\u001b[0;32m--> 331\u001b[0m \u001b[38;5;28;01mreturn\u001b[39;00m \u001b[43mfunc\u001b[49m\u001b[43m(\u001b[49m\u001b[38;5;241;43m*\u001b[39;49m\u001b[43margs\u001b[49m\u001b[43m,\u001b[49m\u001b[43m \u001b[49m\u001b[38;5;241;43m*\u001b[39;49m\u001b[38;5;241;43m*\u001b[39;49m\u001b[43mkwargs\u001b[49m\u001b[43m)\u001b[49m\n",
      "File \u001b[0;32m~/opt/anaconda3/lib/python3.9/site-packages/pandas/core/generic.py:4505\u001b[0m, in \u001b[0;36mNDFrame.drop\u001b[0;34m(self, labels, axis, index, columns, level, inplace, errors)\u001b[0m\n\u001b[1;32m   4503\u001b[0m \u001b[38;5;28;01mfor\u001b[39;00m axis, labels \u001b[38;5;129;01min\u001b[39;00m axes\u001b[38;5;241m.\u001b[39mitems():\n\u001b[1;32m   4504\u001b[0m     \u001b[38;5;28;01mif\u001b[39;00m labels \u001b[38;5;129;01mis\u001b[39;00m \u001b[38;5;129;01mnot\u001b[39;00m \u001b[38;5;28;01mNone\u001b[39;00m:\n\u001b[0;32m-> 4505\u001b[0m         obj \u001b[38;5;241m=\u001b[39m \u001b[43mobj\u001b[49m\u001b[38;5;241;43m.\u001b[39;49m\u001b[43m_drop_axis\u001b[49m\u001b[43m(\u001b[49m\u001b[43mlabels\u001b[49m\u001b[43m,\u001b[49m\u001b[43m \u001b[49m\u001b[43maxis\u001b[49m\u001b[43m,\u001b[49m\u001b[43m \u001b[49m\u001b[43mlevel\u001b[49m\u001b[38;5;241;43m=\u001b[39;49m\u001b[43mlevel\u001b[49m\u001b[43m,\u001b[49m\u001b[43m \u001b[49m\u001b[43merrors\u001b[49m\u001b[38;5;241;43m=\u001b[39;49m\u001b[43merrors\u001b[49m\u001b[43m)\u001b[49m\n\u001b[1;32m   4507\u001b[0m \u001b[38;5;28;01mif\u001b[39;00m inplace:\n\u001b[1;32m   4508\u001b[0m     \u001b[38;5;28mself\u001b[39m\u001b[38;5;241m.\u001b[39m_update_inplace(obj)\n",
      "File \u001b[0;32m~/opt/anaconda3/lib/python3.9/site-packages/pandas/core/generic.py:4546\u001b[0m, in \u001b[0;36mNDFrame._drop_axis\u001b[0;34m(self, labels, axis, level, errors, only_slice)\u001b[0m\n\u001b[1;32m   4544\u001b[0m         new_axis \u001b[38;5;241m=\u001b[39m axis\u001b[38;5;241m.\u001b[39mdrop(labels, level\u001b[38;5;241m=\u001b[39mlevel, errors\u001b[38;5;241m=\u001b[39merrors)\n\u001b[1;32m   4545\u001b[0m     \u001b[38;5;28;01melse\u001b[39;00m:\n\u001b[0;32m-> 4546\u001b[0m         new_axis \u001b[38;5;241m=\u001b[39m \u001b[43maxis\u001b[49m\u001b[38;5;241;43m.\u001b[39;49m\u001b[43mdrop\u001b[49m\u001b[43m(\u001b[49m\u001b[43mlabels\u001b[49m\u001b[43m,\u001b[49m\u001b[43m \u001b[49m\u001b[43merrors\u001b[49m\u001b[38;5;241;43m=\u001b[39;49m\u001b[43merrors\u001b[49m\u001b[43m)\u001b[49m\n\u001b[1;32m   4547\u001b[0m     indexer \u001b[38;5;241m=\u001b[39m axis\u001b[38;5;241m.\u001b[39mget_indexer(new_axis)\n\u001b[1;32m   4549\u001b[0m \u001b[38;5;66;03m# Case for non-unique axis\u001b[39;00m\n\u001b[1;32m   4550\u001b[0m \u001b[38;5;28;01melse\u001b[39;00m:\n",
      "File \u001b[0;32m~/opt/anaconda3/lib/python3.9/site-packages/pandas/core/indexes/base.py:6934\u001b[0m, in \u001b[0;36mIndex.drop\u001b[0;34m(self, labels, errors)\u001b[0m\n\u001b[1;32m   6932\u001b[0m \u001b[38;5;28;01mif\u001b[39;00m mask\u001b[38;5;241m.\u001b[39many():\n\u001b[1;32m   6933\u001b[0m     \u001b[38;5;28;01mif\u001b[39;00m errors \u001b[38;5;241m!=\u001b[39m \u001b[38;5;124m\"\u001b[39m\u001b[38;5;124mignore\u001b[39m\u001b[38;5;124m\"\u001b[39m:\n\u001b[0;32m-> 6934\u001b[0m         \u001b[38;5;28;01mraise\u001b[39;00m \u001b[38;5;167;01mKeyError\u001b[39;00m(\u001b[38;5;124mf\u001b[39m\u001b[38;5;124m\"\u001b[39m\u001b[38;5;132;01m{\u001b[39;00m\u001b[38;5;28mlist\u001b[39m(labels[mask])\u001b[38;5;132;01m}\u001b[39;00m\u001b[38;5;124m not found in axis\u001b[39m\u001b[38;5;124m\"\u001b[39m)\n\u001b[1;32m   6935\u001b[0m     indexer \u001b[38;5;241m=\u001b[39m indexer[\u001b[38;5;241m~\u001b[39mmask]\n\u001b[1;32m   6936\u001b[0m \u001b[38;5;28;01mreturn\u001b[39;00m \u001b[38;5;28mself\u001b[39m\u001b[38;5;241m.\u001b[39mdelete(indexer)\n",
      "\u001b[0;31mKeyError\u001b[0m: \"['Corrected_atm_pressure', 'Precipitation_corrected', 'Date'] not found in axis\""
     ]
    }
   ],
   "source": [
    "d_col = ['Corrected_atm_pressure','Precipitation_corrected','Date']\n",
    "last_month_rows= last_month_rows.drop(columns=d_col)"
   ]
  },
  {
   "cell_type": "code",
   "execution_count": 137,
   "id": "b8b382c3",
   "metadata": {},
   "outputs": [],
   "source": [
    "dec_month_data = scaler.transform(last_month_rows)"
   ]
  },
  {
   "cell_type": "code",
   "execution_count": 163,
   "id": "b0fa8b32",
   "metadata": {},
   "outputs": [],
   "source": [
    "last_month_rows_scaled = scaler.transform(last_month_rows)\n",
    "\n",
    "# Assuming 'last_month_rows_scaled' has shape (number_of_rows, number_of_features)\n",
    "# Assuming 'sequence_length' is the sequence length you used during training\n",
    "sequence_length = 12  # Replace with the actual sequence length"
   ]
  },
  {
   "cell_type": "code",
   "execution_count": 166,
   "id": "7e92c1ff",
   "metadata": {},
   "outputs": [],
   "source": [
    "# Reshape the data\n",
    "num_rows, num_features = last_month_rows_scaled.shape\n",
    "num_sequences = num_rows - sequence_length + 1\n",
    "last_month_rows_reshaped = np.zeros((num_sequences, sequence_length, num_features))\n",
    "\n",
    "for i in range(num_sequences):\n",
    "    last_month_rows_reshaped[i] = last_month_rows_scaled[i:i+sequence_length]"
   ]
  },
  {
   "cell_type": "code",
   "execution_count": 167,
   "id": "46c4ccab",
   "metadata": {},
   "outputs": [
    {
     "name": "stdout",
     "output_type": "stream",
     "text": [
      "23/23 [==============================] - 0s 11ms/step\n"
     ]
    }
   ],
   "source": [
    "# Make predictions using the trained model\n",
    "last_month_predictions = best_model.predict(last_month_rows_reshaped)"
   ]
  },
  {
   "cell_type": "code",
   "execution_count": 169,
   "id": "5a3967a3",
   "metadata": {},
   "outputs": [],
   "source": [
    "# Reshape predictions to match the scaler's expectations\n",
    "last_month_predictions_reshaped = last_month_predictions.reshape(-1, 1)"
   ]
  },
  {
   "cell_type": "code",
   "execution_count": 170,
   "id": "9ad9ad70",
   "metadata": {},
   "outputs": [],
   "source": [
    "predictions_copies = np.repeat(last_month_predictions_reshaped, num_features, axis=1)"
   ]
  },
  {
   "cell_type": "code",
   "execution_count": 171,
   "id": "ebd69786",
   "metadata": {},
   "outputs": [],
   "source": [
    "# Inverse transform the predictions\n",
    "predictions_original_scale = scaler.inverse_transform(predictions_copies)"
   ]
  },
  {
   "cell_type": "code",
   "execution_count": 172,
   "id": "05c3592d",
   "metadata": {},
   "outputs": [
    {
     "ename": "ValueError",
     "evalue": "x and y must have same first dimension, but have shapes (732,) and (5131,)",
     "output_type": "error",
     "traceback": [
      "\u001b[0;31m---------------------------------------------------------------------------\u001b[0m",
      "\u001b[0;31mValueError\u001b[0m                                Traceback (most recent call last)",
      "Cell \u001b[0;32mIn[172], line 3\u001b[0m\n\u001b[1;32m      1\u001b[0m \u001b[38;5;66;03m# Plot actual vs predicted values\u001b[39;00m\n\u001b[1;32m      2\u001b[0m plt\u001b[38;5;241m.\u001b[39mplot(last_month_rows\u001b[38;5;241m.\u001b[39mindex[sequence_length:], last_month_rows[\u001b[38;5;124m'\u001b[39m\u001b[38;5;124mTemp2m\u001b[39m\u001b[38;5;124m'\u001b[39m][sequence_length:], label\u001b[38;5;241m=\u001b[39m\u001b[38;5;124m'\u001b[39m\u001b[38;5;124mActual\u001b[39m\u001b[38;5;124m'\u001b[39m, marker\u001b[38;5;241m=\u001b[39m\u001b[38;5;124m'\u001b[39m\u001b[38;5;124mo\u001b[39m\u001b[38;5;124m'\u001b[39m)\n\u001b[0;32m----> 3\u001b[0m \u001b[43mplt\u001b[49m\u001b[38;5;241;43m.\u001b[39;49m\u001b[43mplot\u001b[49m\u001b[43m(\u001b[49m\u001b[43mlast_month_rows\u001b[49m\u001b[38;5;241;43m.\u001b[39;49m\u001b[43mindex\u001b[49m\u001b[43m[\u001b[49m\u001b[43msequence_length\u001b[49m\u001b[43m:\u001b[49m\u001b[43m]\u001b[49m\u001b[43m,\u001b[49m\u001b[43m \u001b[49m\u001b[43mpredictions_original_scale\u001b[49m\u001b[38;5;241;43m.\u001b[39;49m\u001b[43mflatten\u001b[49m\u001b[43m(\u001b[49m\u001b[43m)\u001b[49m\u001b[43m,\u001b[49m\u001b[43m \u001b[49m\u001b[43mlabel\u001b[49m\u001b[38;5;241;43m=\u001b[39;49m\u001b[38;5;124;43m'\u001b[39;49m\u001b[38;5;124;43mPredicted\u001b[39;49m\u001b[38;5;124;43m'\u001b[39;49m\u001b[43m,\u001b[49m\u001b[43m \u001b[49m\u001b[43mmarker\u001b[49m\u001b[38;5;241;43m=\u001b[39;49m\u001b[38;5;124;43m'\u001b[39;49m\u001b[38;5;124;43mo\u001b[39;49m\u001b[38;5;124;43m'\u001b[39;49m\u001b[43m)\u001b[49m\n\u001b[1;32m      4\u001b[0m plt\u001b[38;5;241m.\u001b[39mtitle(\u001b[38;5;124m'\u001b[39m\u001b[38;5;124mActual vs Predicted Values\u001b[39m\u001b[38;5;124m'\u001b[39m)\n\u001b[1;32m      5\u001b[0m plt\u001b[38;5;241m.\u001b[39mxlabel(\u001b[38;5;124m'\u001b[39m\u001b[38;5;124mIndex or Time\u001b[39m\u001b[38;5;124m'\u001b[39m)\n",
      "File \u001b[0;32m~/opt/anaconda3/lib/python3.9/site-packages/matplotlib/pyplot.py:3578\u001b[0m, in \u001b[0;36mplot\u001b[0;34m(scalex, scaley, data, *args, **kwargs)\u001b[0m\n\u001b[1;32m   3570\u001b[0m \u001b[38;5;129m@_copy_docstring_and_deprecators\u001b[39m(Axes\u001b[38;5;241m.\u001b[39mplot)\n\u001b[1;32m   3571\u001b[0m \u001b[38;5;28;01mdef\u001b[39;00m \u001b[38;5;21mplot\u001b[39m(\n\u001b[1;32m   3572\u001b[0m     \u001b[38;5;241m*\u001b[39margs: \u001b[38;5;28mfloat\u001b[39m \u001b[38;5;241m|\u001b[39m ArrayLike \u001b[38;5;241m|\u001b[39m \u001b[38;5;28mstr\u001b[39m,\n\u001b[0;32m   (...)\u001b[0m\n\u001b[1;32m   3576\u001b[0m     \u001b[38;5;241m*\u001b[39m\u001b[38;5;241m*\u001b[39mkwargs,\n\u001b[1;32m   3577\u001b[0m ) \u001b[38;5;241m-\u001b[39m\u001b[38;5;241m>\u001b[39m \u001b[38;5;28mlist\u001b[39m[Line2D]:\n\u001b[0;32m-> 3578\u001b[0m     \u001b[38;5;28;01mreturn\u001b[39;00m \u001b[43mgca\u001b[49m\u001b[43m(\u001b[49m\u001b[43m)\u001b[49m\u001b[38;5;241;43m.\u001b[39;49m\u001b[43mplot\u001b[49m\u001b[43m(\u001b[49m\n\u001b[1;32m   3579\u001b[0m \u001b[43m        \u001b[49m\u001b[38;5;241;43m*\u001b[39;49m\u001b[43margs\u001b[49m\u001b[43m,\u001b[49m\n\u001b[1;32m   3580\u001b[0m \u001b[43m        \u001b[49m\u001b[43mscalex\u001b[49m\u001b[38;5;241;43m=\u001b[39;49m\u001b[43mscalex\u001b[49m\u001b[43m,\u001b[49m\n\u001b[1;32m   3581\u001b[0m \u001b[43m        \u001b[49m\u001b[43mscaley\u001b[49m\u001b[38;5;241;43m=\u001b[39;49m\u001b[43mscaley\u001b[49m\u001b[43m,\u001b[49m\n\u001b[1;32m   3582\u001b[0m \u001b[43m        \u001b[49m\u001b[38;5;241;43m*\u001b[39;49m\u001b[38;5;241;43m*\u001b[39;49m\u001b[43m(\u001b[49m\u001b[43m{\u001b[49m\u001b[38;5;124;43m\"\u001b[39;49m\u001b[38;5;124;43mdata\u001b[39;49m\u001b[38;5;124;43m\"\u001b[39;49m\u001b[43m:\u001b[49m\u001b[43m \u001b[49m\u001b[43mdata\u001b[49m\u001b[43m}\u001b[49m\u001b[43m \u001b[49m\u001b[38;5;28;43;01mif\u001b[39;49;00m\u001b[43m \u001b[49m\u001b[43mdata\u001b[49m\u001b[43m \u001b[49m\u001b[38;5;129;43;01mis\u001b[39;49;00m\u001b[43m \u001b[49m\u001b[38;5;129;43;01mnot\u001b[39;49;00m\u001b[43m \u001b[49m\u001b[38;5;28;43;01mNone\u001b[39;49;00m\u001b[43m \u001b[49m\u001b[38;5;28;43;01melse\u001b[39;49;00m\u001b[43m \u001b[49m\u001b[43m{\u001b[49m\u001b[43m}\u001b[49m\u001b[43m)\u001b[49m\u001b[43m,\u001b[49m\n\u001b[1;32m   3583\u001b[0m \u001b[43m        \u001b[49m\u001b[38;5;241;43m*\u001b[39;49m\u001b[38;5;241;43m*\u001b[39;49m\u001b[43mkwargs\u001b[49m\u001b[43m,\u001b[49m\n\u001b[1;32m   3584\u001b[0m \u001b[43m    \u001b[49m\u001b[43m)\u001b[49m\n",
      "File \u001b[0;32m~/opt/anaconda3/lib/python3.9/site-packages/matplotlib/axes/_axes.py:1721\u001b[0m, in \u001b[0;36mAxes.plot\u001b[0;34m(self, scalex, scaley, data, *args, **kwargs)\u001b[0m\n\u001b[1;32m   1478\u001b[0m \u001b[38;5;250m\u001b[39m\u001b[38;5;124;03m\"\"\"\u001b[39;00m\n\u001b[1;32m   1479\u001b[0m \u001b[38;5;124;03mPlot y versus x as lines and/or markers.\u001b[39;00m\n\u001b[1;32m   1480\u001b[0m \n\u001b[0;32m   (...)\u001b[0m\n\u001b[1;32m   1718\u001b[0m \u001b[38;5;124;03m(``'green'``) or hex strings (``'#008000'``).\u001b[39;00m\n\u001b[1;32m   1719\u001b[0m \u001b[38;5;124;03m\"\"\"\u001b[39;00m\n\u001b[1;32m   1720\u001b[0m kwargs \u001b[38;5;241m=\u001b[39m cbook\u001b[38;5;241m.\u001b[39mnormalize_kwargs(kwargs, mlines\u001b[38;5;241m.\u001b[39mLine2D)\n\u001b[0;32m-> 1721\u001b[0m lines \u001b[38;5;241m=\u001b[39m [\u001b[38;5;241m*\u001b[39m\u001b[38;5;28mself\u001b[39m\u001b[38;5;241m.\u001b[39m_get_lines(\u001b[38;5;28mself\u001b[39m, \u001b[38;5;241m*\u001b[39margs, data\u001b[38;5;241m=\u001b[39mdata, \u001b[38;5;241m*\u001b[39m\u001b[38;5;241m*\u001b[39mkwargs)]\n\u001b[1;32m   1722\u001b[0m \u001b[38;5;28;01mfor\u001b[39;00m line \u001b[38;5;129;01min\u001b[39;00m lines:\n\u001b[1;32m   1723\u001b[0m     \u001b[38;5;28mself\u001b[39m\u001b[38;5;241m.\u001b[39madd_line(line)\n",
      "File \u001b[0;32m~/opt/anaconda3/lib/python3.9/site-packages/matplotlib/axes/_base.py:303\u001b[0m, in \u001b[0;36m_process_plot_var_args.__call__\u001b[0;34m(self, axes, data, *args, **kwargs)\u001b[0m\n\u001b[1;32m    301\u001b[0m     this \u001b[38;5;241m+\u001b[39m\u001b[38;5;241m=\u001b[39m args[\u001b[38;5;241m0\u001b[39m],\n\u001b[1;32m    302\u001b[0m     args \u001b[38;5;241m=\u001b[39m args[\u001b[38;5;241m1\u001b[39m:]\n\u001b[0;32m--> 303\u001b[0m \u001b[38;5;28;01myield from\u001b[39;00m \u001b[38;5;28;43mself\u001b[39;49m\u001b[38;5;241;43m.\u001b[39;49m\u001b[43m_plot_args\u001b[49m\u001b[43m(\u001b[49m\n\u001b[1;32m    304\u001b[0m \u001b[43m    \u001b[49m\u001b[43maxes\u001b[49m\u001b[43m,\u001b[49m\u001b[43m \u001b[49m\u001b[43mthis\u001b[49m\u001b[43m,\u001b[49m\u001b[43m \u001b[49m\u001b[43mkwargs\u001b[49m\u001b[43m,\u001b[49m\u001b[43m \u001b[49m\u001b[43mambiguous_fmt_datakey\u001b[49m\u001b[38;5;241;43m=\u001b[39;49m\u001b[43mambiguous_fmt_datakey\u001b[49m\u001b[43m)\u001b[49m\n",
      "File \u001b[0;32m~/opt/anaconda3/lib/python3.9/site-packages/matplotlib/axes/_base.py:499\u001b[0m, in \u001b[0;36m_process_plot_var_args._plot_args\u001b[0;34m(self, axes, tup, kwargs, return_kwargs, ambiguous_fmt_datakey)\u001b[0m\n\u001b[1;32m    496\u001b[0m     axes\u001b[38;5;241m.\u001b[39myaxis\u001b[38;5;241m.\u001b[39mupdate_units(y)\n\u001b[1;32m    498\u001b[0m \u001b[38;5;28;01mif\u001b[39;00m x\u001b[38;5;241m.\u001b[39mshape[\u001b[38;5;241m0\u001b[39m] \u001b[38;5;241m!=\u001b[39m y\u001b[38;5;241m.\u001b[39mshape[\u001b[38;5;241m0\u001b[39m]:\n\u001b[0;32m--> 499\u001b[0m     \u001b[38;5;28;01mraise\u001b[39;00m \u001b[38;5;167;01mValueError\u001b[39;00m(\u001b[38;5;124mf\u001b[39m\u001b[38;5;124m\"\u001b[39m\u001b[38;5;124mx and y must have same first dimension, but \u001b[39m\u001b[38;5;124m\"\u001b[39m\n\u001b[1;32m    500\u001b[0m                      \u001b[38;5;124mf\u001b[39m\u001b[38;5;124m\"\u001b[39m\u001b[38;5;124mhave shapes \u001b[39m\u001b[38;5;132;01m{\u001b[39;00mx\u001b[38;5;241m.\u001b[39mshape\u001b[38;5;132;01m}\u001b[39;00m\u001b[38;5;124m and \u001b[39m\u001b[38;5;132;01m{\u001b[39;00my\u001b[38;5;241m.\u001b[39mshape\u001b[38;5;132;01m}\u001b[39;00m\u001b[38;5;124m\"\u001b[39m)\n\u001b[1;32m    501\u001b[0m \u001b[38;5;28;01mif\u001b[39;00m x\u001b[38;5;241m.\u001b[39mndim \u001b[38;5;241m>\u001b[39m \u001b[38;5;241m2\u001b[39m \u001b[38;5;129;01mor\u001b[39;00m y\u001b[38;5;241m.\u001b[39mndim \u001b[38;5;241m>\u001b[39m \u001b[38;5;241m2\u001b[39m:\n\u001b[1;32m    502\u001b[0m     \u001b[38;5;28;01mraise\u001b[39;00m \u001b[38;5;167;01mValueError\u001b[39;00m(\u001b[38;5;124mf\u001b[39m\u001b[38;5;124m\"\u001b[39m\u001b[38;5;124mx and y can be no greater than 2D, but have \u001b[39m\u001b[38;5;124m\"\u001b[39m\n\u001b[1;32m    503\u001b[0m                      \u001b[38;5;124mf\u001b[39m\u001b[38;5;124m\"\u001b[39m\u001b[38;5;124mshapes \u001b[39m\u001b[38;5;132;01m{\u001b[39;00mx\u001b[38;5;241m.\u001b[39mshape\u001b[38;5;132;01m}\u001b[39;00m\u001b[38;5;124m and \u001b[39m\u001b[38;5;132;01m{\u001b[39;00my\u001b[38;5;241m.\u001b[39mshape\u001b[38;5;132;01m}\u001b[39;00m\u001b[38;5;124m\"\u001b[39m)\n",
      "\u001b[0;31mValueError\u001b[0m: x and y must have same first dimension, but have shapes (732,) and (5131,)"
     ]
    },
    {
     "data": {
      "image/png": "[encoded data removed]",
      "text/plain": [
       "<Figure size 640x480 with 1 Axes>"
      ]
     },
     "metadata": {},
     "output_type": "display_data"
    }
   ],
   "source": [
    "# Plot actual vs predicted values\n",
    "plt.plot(last_month_rows.index[sequence_length:], last_month_rows['Temp2m'][sequence_length:], label='Actual', marker='o')\n",
    "plt.plot(last_month_rows.index[sequence_length:], predictions_original_scale.flatten(), label='Predicted', marker='o')\n",
    "plt.title('Actual vs Predicted Values')\n",
    "plt.xlabel('Index or Time')\n",
    "plt.ylabel('Temperature (Temp2m)')\n",
    "plt.legend()\n",
    "plt.show()"
   ]
  }
 ],
 "metadata": {
  "kernelspec": {
   "display_name": "Python 3 (ipykernel)",
   "language": "python",
   "name": "python3"
  },
  "language_info": {
   "codemirror_mode": {
    "name": "ipython",
    "version": 3
   },
   "file_extension": ".py",
   "mimetype": "text/x-python",
   "name": "python",
   "nbconvert_exporter": "python",
   "pygments_lexer": "ipython3",
   "version": "3.9.18"
  }
 },
 "nbformat": 4,
 "nbformat_minor": 5
}
