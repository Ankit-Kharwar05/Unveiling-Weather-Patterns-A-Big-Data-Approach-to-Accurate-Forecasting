{
 "cells": [
  {
   "cell_type": "code",
   "execution_count": null,
   "id": "76547c4e",
   "metadata": {},
   "outputs": [
    {
     "name": "stdout",
     "output_type": "stream",
     "text": [
      "Collecting gradio\n",
      "  Downloading gradio-4.19.1-py3-none-any.whl.metadata (15 kB)\n",
      "Collecting aiofiles<24.0,>=22.0 (from gradio)\n",
      "  Downloading aiofiles-23.2.1-py3-none-any.whl.metadata (9.7 kB)\n",
      "Requirement already satisfied: altair<6.0,>=4.2.0 in /Users/darshmac/opt/anaconda3/lib/python3.9/site-packages (from gradio) (4.2.2)\n",
      "Collecting fastapi (from gradio)\n",
      "  Downloading fastapi-0.109.2-py3-none-any.whl.metadata (25 kB)\n",
      "Collecting ffmpy (from gradio)\n",
      "  Downloading ffmpy-0.3.2.tar.gz (5.5 kB)\n",
      "  Preparing metadata (setup.py) ... \u001b[?25ldone\n",
      "\u001b[?25hCollecting gradio-client==0.10.0 (from gradio)\n",
      "  Downloading gradio_client-0.10.0-py3-none-any.whl.metadata (7.1 kB)\n",
      "Requirement already satisfied: httpx in /Users/darshmac/opt/anaconda3/lib/python3.9/site-packages (from gradio) (0.23.3)\n",
      "Collecting huggingface-hub>=0.19.3 (from gradio)\n",
      "  Downloading huggingface_hub-0.20.3-py3-none-any.whl.metadata (12 kB)\n",
      "Requirement already satisfied: importlib-resources<7.0,>=1.3 in /Users/darshmac/opt/anaconda3/lib/python3.9/site-packages (from gradio) (5.12.0)\n",
      "Requirement already satisfied: jinja2<4.0 in /Users/darshmac/opt/anaconda3/lib/python3.9/site-packages (from gradio) (3.1.2)\n",
      "Requirement already satisfied: markupsafe~=2.0 in /Users/darshmac/opt/anaconda3/lib/python3.9/site-packages (from gradio) (2.1.2)\n",
      "Requirement already satisfied: matplotlib~=3.0 in /Users/darshmac/opt/anaconda3/lib/python3.9/site-packages (from gradio) (3.6.3)\n",
      "Requirement already satisfied: numpy~=1.0 in /Users/darshmac/opt/anaconda3/lib/python3.9/site-packages (from gradio) (1.23.5)\n",
      "Collecting orjson~=3.0 (from gradio)\n",
      "  Downloading orjson-3.9.14-cp39-cp39-macosx_10_15_x86_64.macosx_11_0_arm64.macosx_10_15_universal2.whl.metadata (49 kB)\n",
      "\u001b[2K     \u001b[90m━━━━━━━━━━━━━━━━━━━━━━━━━━━━━━━━━━━━━━━━\u001b[0m \u001b[32m49.4/49.4 kB\u001b[0m \u001b[31m1.7 MB/s\u001b[0m eta \u001b[36m0:00:00\u001b[0m\n",
      "\u001b[?25hRequirement already satisfied: packaging in /Users/darshmac/opt/anaconda3/lib/python3.9/site-packages (from gradio) (21.3)\n",
      "Requirement already satisfied: pandas<3.0,>=1.0 in /Users/darshmac/opt/anaconda3/lib/python3.9/site-packages (from gradio) (1.5.3)\n",
      "Requirement already satisfied: pillow<11.0,>=8.0 in /Users/darshmac/opt/anaconda3/lib/python3.9/site-packages (from gradio) (10.0.1)\n",
      "Collecting pydantic>=2.0 (from gradio)\n",
      "  Downloading pydantic-2.6.1-py3-none-any.whl.metadata (83 kB)\n",
      "\u001b[2K     \u001b[90m━━━━━━━━━━━━━━━━━━━━━━━━━━━━━━━━━━━━━━━━\u001b[0m \u001b[32m83.5/83.5 kB\u001b[0m \u001b[31m1.5 MB/s\u001b[0m eta \u001b[36m0:00:00\u001b[0ma \u001b[36m0:00:01\u001b[0m\n",
      "\u001b[?25hCollecting pydub (from gradio)\n",
      "  Downloading pydub-0.25.1-py2.py3-none-any.whl (32 kB)\n",
      "Collecting python-multipart>=0.0.9 (from gradio)\n",
      "  Downloading python_multipart-0.0.9-py3-none-any.whl.metadata (2.5 kB)\n",
      "Requirement already satisfied: pyyaml<7.0,>=5.0 in /Users/darshmac/opt/anaconda3/lib/python3.9/site-packages (from gradio) (6.0)\n",
      "Collecting ruff>=0.1.7 (from gradio)\n",
      "  Downloading ruff-0.2.2-py3-none-macosx_10_12_x86_64.whl.metadata (23 kB)\n",
      "Collecting semantic-version~=2.0 (from gradio)\n",
      "  Downloading semantic_version-2.10.0-py2.py3-none-any.whl (15 kB)\n",
      "Collecting tomlkit==0.12.0 (from gradio)\n",
      "  Downloading tomlkit-0.12.0-py3-none-any.whl.metadata (2.7 kB)\n",
      "Collecting typer<1.0,>=0.9 (from typer[all]<1.0,>=0.9->gradio)\n",
      "  Downloading typer-0.9.0-py3-none-any.whl.metadata (14 kB)\n",
      "Requirement already satisfied: typing-extensions~=4.0 in /Users/darshmac/opt/anaconda3/lib/python3.9/site-packages (from gradio) (4.5.0)\n",
      "Collecting uvicorn>=0.14.0 (from gradio)\n",
      "  Downloading uvicorn-0.27.1-py3-none-any.whl.metadata (6.3 kB)\n",
      "Requirement already satisfied: fsspec in /Users/darshmac/opt/anaconda3/lib/python3.9/site-packages (from gradio-client==0.10.0->gradio) (2023.10.0)\n",
      "Collecting websockets<12.0,>=10.0 (from gradio-client==0.10.0->gradio)\n",
      "  Downloading websockets-11.0.3-cp39-cp39-macosx_10_9_x86_64.whl.metadata (6.6 kB)\n",
      "Requirement already satisfied: entrypoints in /Users/darshmac/opt/anaconda3/lib/python3.9/site-packages (from altair<6.0,>=4.2.0->gradio) (0.4)\n",
      "Requirement already satisfied: jsonschema>=3.0 in /Users/darshmac/opt/anaconda3/lib/python3.9/site-packages (from altair<6.0,>=4.2.0->gradio) (4.17.3)\n",
      "Requirement already satisfied: toolz in /Users/darshmac/opt/anaconda3/lib/python3.9/site-packages (from altair<6.0,>=4.2.0->gradio) (0.12.0)\n",
      "Requirement already satisfied: filelock in /Users/darshmac/opt/anaconda3/lib/python3.9/site-packages (from huggingface-hub>=0.19.3->gradio) (3.13.1)\n",
      "Requirement already satisfied: requests in /Users/darshmac/opt/anaconda3/lib/python3.9/site-packages (from huggingface-hub>=0.19.3->gradio) (2.30.0)\n",
      "Requirement already satisfied: tqdm>=4.42.1 in /Users/darshmac/opt/anaconda3/lib/python3.9/site-packages (from huggingface-hub>=0.19.3->gradio) (4.64.1)\n",
      "Requirement already satisfied: zipp>=3.1.0 in /Users/darshmac/opt/anaconda3/lib/python3.9/site-packages (from importlib-resources<7.0,>=1.3->gradio) (3.15.0)\n",
      "Requirement already satisfied: contourpy>=1.0.1 in /Users/darshmac/opt/anaconda3/lib/python3.9/site-packages (from matplotlib~=3.0->gradio) (1.2.0)\n",
      "Requirement already satisfied: cycler>=0.10 in /Users/darshmac/opt/anaconda3/lib/python3.9/site-packages (from matplotlib~=3.0->gradio) (0.11.0)\n",
      "Requirement already satisfied: fonttools>=4.22.0 in /Users/darshmac/opt/anaconda3/lib/python3.9/site-packages (from matplotlib~=3.0->gradio) (4.25.0)\n",
      "Requirement already satisfied: kiwisolver>=1.0.1 in /Users/darshmac/opt/anaconda3/lib/python3.9/site-packages (from matplotlib~=3.0->gradio) (1.4.4)\n",
      "Requirement already satisfied: pyparsing>=2.2.1 in /Users/darshmac/opt/anaconda3/lib/python3.9/site-packages (from matplotlib~=3.0->gradio) (3.0.9)\n",
      "Requirement already satisfied: python-dateutil>=2.7 in /Users/darshmac/opt/anaconda3/lib/python3.9/site-packages (from matplotlib~=3.0->gradio) (2.8.2)\n",
      "Requirement already satisfied: pytz>=2020.1 in /Users/darshmac/opt/anaconda3/lib/python3.9/site-packages (from pandas<3.0,>=1.0->gradio) (2023.3)\n",
      "Collecting annotated-types>=0.4.0 (from pydantic>=2.0->gradio)\n",
      "  Downloading annotated_types-0.6.0-py3-none-any.whl.metadata (12 kB)\n",
      "Collecting pydantic-core==2.16.2 (from pydantic>=2.0->gradio)\n",
      "  Downloading pydantic_core-2.16.2-cp39-cp39-macosx_10_12_x86_64.whl.metadata (6.5 kB)\n",
      "Collecting typing-extensions~=4.0 (from gradio)\n",
      "  Downloading typing_extensions-4.9.0-py3-none-any.whl.metadata (3.0 kB)\n",
      "Requirement already satisfied: click<9.0.0,>=7.1.1 in /Users/darshmac/opt/anaconda3/lib/python3.9/site-packages (from typer<1.0,>=0.9->typer[all]<1.0,>=0.9->gradio) (8.1.3)\n",
      "Requirement already satisfied: colorama<0.5.0,>=0.4.3 in /Users/darshmac/opt/anaconda3/lib/python3.9/site-packages (from typer[all]<1.0,>=0.9->gradio) (0.4.6)\n",
      "Collecting shellingham<2.0.0,>=1.3.0 (from typer[all]<1.0,>=0.9->gradio)\n",
      "  Downloading shellingham-1.5.4-py2.py3-none-any.whl.metadata (3.5 kB)\n",
      "Requirement already satisfied: rich<14.0.0,>=10.11.0 in /Users/darshmac/opt/anaconda3/lib/python3.9/site-packages (from typer[all]<1.0,>=0.9->gradio) (13.3.5)\n",
      "Requirement already satisfied: h11>=0.8 in /Users/darshmac/opt/anaconda3/lib/python3.9/site-packages (from uvicorn>=0.14.0->gradio) (0.14.0)\n",
      "Collecting starlette<0.37.0,>=0.36.3 (from fastapi->gradio)\n",
      "  Downloading starlette-0.36.3-py3-none-any.whl.metadata (5.9 kB)\n",
      "Requirement already satisfied: certifi in /Users/darshmac/opt/anaconda3/lib/python3.9/site-packages (from httpx->gradio) (2023.5.7)\n",
      "Requirement already satisfied: httpcore<0.17.0,>=0.15.0 in /Users/darshmac/opt/anaconda3/lib/python3.9/site-packages (from httpx->gradio) (0.16.3)\n",
      "Requirement already satisfied: rfc3986<2,>=1.3 in /Users/darshmac/opt/anaconda3/lib/python3.9/site-packages (from rfc3986[idna2008]<2,>=1.3->httpx->gradio) (1.5.0)\n",
      "Requirement already satisfied: sniffio in /Users/darshmac/opt/anaconda3/lib/python3.9/site-packages (from httpx->gradio) (1.3.0)\n",
      "Requirement already satisfied: anyio<5.0,>=3.0 in /Users/darshmac/opt/anaconda3/lib/python3.9/site-packages (from httpcore<0.17.0,>=0.15.0->httpx->gradio) (3.6.2)\n",
      "Requirement already satisfied: attrs>=17.4.0 in /Users/darshmac/opt/anaconda3/lib/python3.9/site-packages (from jsonschema>=3.0->altair<6.0,>=4.2.0->gradio) (23.1.0)\n",
      "Requirement already satisfied: pyrsistent!=0.17.0,!=0.17.1,!=0.17.2,>=0.14.0 in /Users/darshmac/opt/anaconda3/lib/python3.9/site-packages (from jsonschema>=3.0->altair<6.0,>=4.2.0->gradio) (0.19.3)\n"
     ]
    },
    {
     "name": "stdout",
     "output_type": "stream",
     "text": [
      "Requirement already satisfied: six>=1.5 in /Users/darshmac/opt/anaconda3/lib/python3.9/site-packages (from python-dateutil>=2.7->matplotlib~=3.0->gradio) (1.16.0)\n",
      "Requirement already satisfied: idna in /Users/darshmac/opt/anaconda3/lib/python3.9/site-packages (from rfc3986[idna2008]<2,>=1.3->httpx->gradio) (3.4)\n",
      "Requirement already satisfied: markdown-it-py<3.0.0,>=2.2.0 in /Users/darshmac/opt/anaconda3/lib/python3.9/site-packages (from rich<14.0.0,>=10.11.0->typer[all]<1.0,>=0.9->gradio) (2.2.0)\n",
      "Requirement already satisfied: pygments<3.0.0,>=2.13.0 in /Users/darshmac/opt/anaconda3/lib/python3.9/site-packages (from rich<14.0.0,>=10.11.0->typer[all]<1.0,>=0.9->gradio) (2.15.1)\n",
      "Requirement already satisfied: charset-normalizer<4,>=2 in /Users/darshmac/opt/anaconda3/lib/python3.9/site-packages (from requests->huggingface-hub>=0.19.3->gradio) (2.1.1)\n",
      "Requirement already satisfied: urllib3<3,>=1.21.1 in /Users/darshmac/opt/anaconda3/lib/python3.9/site-packages (from requests->huggingface-hub>=0.19.3->gradio) (1.26.15)\n",
      "Requirement already satisfied: mdurl~=0.1 in /Users/darshmac/opt/anaconda3/lib/python3.9/site-packages (from markdown-it-py<3.0.0,>=2.2.0->rich<14.0.0,>=10.11.0->typer[all]<1.0,>=0.9->gradio) (0.1.2)\n",
      "Downloading gradio-4.19.1-py3-none-any.whl (16.9 MB)\n",
      "\u001b[2K   \u001b[90m━━━━━━━━━━━━━━━━━━━━━━━━━━━━━━━━━━━━━━━━\u001b[0m \u001b[32m16.9/16.9 MB\u001b[0m \u001b[31m4.4 MB/s\u001b[0m eta \u001b[36m0:00:00\u001b[0m00:01\u001b[0m00:01\u001b[0m\n",
      "\u001b[?25hDownloading gradio_client-0.10.0-py3-none-any.whl (307 kB)\n",
      "\u001b[2K   \u001b[90m━━━━━━━━━━━━━━━━━━━━━━━━━━━━━━━━━━━━━━━━\u001b[0m \u001b[32m307.7/307.7 kB\u001b[0m \u001b[31m4.3 MB/s\u001b[0m eta \u001b[36m0:00:00\u001b[0ma \u001b[36m0:00:01\u001b[0m\n",
      "\u001b[?25hDownloading tomlkit-0.12.0-py3-none-any.whl (37 kB)\n",
      "Downloading aiofiles-23.2.1-py3-none-any.whl (15 kB)\n",
      "Downloading huggingface_hub-0.20.3-py3-none-any.whl (330 kB)\n",
      "\u001b[2K   \u001b[90m━━━━━━━━━━━━━━━━━━━━━━━━━━━━━━━━━━━━━━━━\u001b[0m \u001b[32m330.1/330.1 kB\u001b[0m \u001b[31m4.2 MB/s\u001b[0m eta \u001b[36m0:00:00\u001b[0m00:01\u001b[0m00:01\u001b[0m\n",
      "\u001b[?25hDownloading orjson-3.9.14-cp39-cp39-macosx_10_15_x86_64.macosx_11_0_arm64.macosx_10_15_universal2.whl (252 kB)\n",
      "\u001b[2K   \u001b[90m━━━━━━━━━━━━━━━━━━━━━━━━━━━━━━━━━━━━━━━━\u001b[0m \u001b[32m252.8/252.8 kB\u001b[0m \u001b[31m4.5 MB/s\u001b[0m eta \u001b[36m0:00:00\u001b[0ma \u001b[36m0:00:01\u001b[0m\n",
      "\u001b[?25hDownloading pydantic-2.6.1-py3-none-any.whl (394 kB)\n",
      "\u001b[2K   \u001b[90m━━━━━━━━━━━━━━━━━━━━━━━━━━━━━━━━━━━━━━━━\u001b[0m \u001b[32m394.8/394.8 kB\u001b[0m \u001b[31m5.0 MB/s\u001b[0m eta \u001b[36m0:00:00\u001b[0m00:01\u001b[0m00:01\u001b[0m\n",
      "\u001b[?25hDownloading pydantic_core-2.16.2-cp39-cp39-macosx_10_12_x86_64.whl (1.9 MB)\n",
      "\u001b[2K   \u001b[90m━━━━━━━━━━━━━━━━━━━━━━━━━━━━━━━━━━━━━━━━\u001b[0m \u001b[32m1.9/1.9 MB\u001b[0m \u001b[31m4.0 MB/s\u001b[0m eta \u001b[36m0:00:00\u001b[0ma \u001b[36m0:00:01\u001b[0m\n",
      "\u001b[?25hDownloading python_multipart-0.0.9-py3-none-any.whl (22 kB)\n",
      "Downloading ruff-0.2.2-py3-none-macosx_10_12_x86_64.whl (7.6 MB)\n",
      "\u001b[2K   \u001b[91m━━━━━━━\u001b[0m\u001b[91m╸\u001b[0m\u001b[90m━━━━━━━━━━━━━━━━━━━━━━━━━━━━━━━━\u001b[0m \u001b[32m1.5/7.6 MB\u001b[0m \u001b[31m3.8 MB/s\u001b[0m eta \u001b[36m0:00:02\u001b[0m"
     ]
    }
   ],
   "source": [
    "pip install gradio"
   ]
  },
  {
   "cell_type": "code",
   "execution_count": 5,
   "id": "cab0a308",
   "metadata": {},
   "outputs": [
    {
     "name": "stdout",
     "output_type": "stream",
     "text": [
      "Requirement already satisfied: typing-extensions in /Users/darshmac/opt/anaconda3/lib/python3.9/site-packages (4.9.0)\n",
      "\n",
      "\u001b[1m[\u001b[0m\u001b[34;49mnotice\u001b[0m\u001b[1;39;49m]\u001b[0m\u001b[39;49m A new release of pip is available: \u001b[0m\u001b[31;49m23.3.2\u001b[0m\u001b[39;49m -> \u001b[0m\u001b[32;49m24.0\u001b[0m\n",
      "\u001b[1m[\u001b[0m\u001b[34;49mnotice\u001b[0m\u001b[1;39;49m]\u001b[0m\u001b[39;49m To update, run: \u001b[0m\u001b[32;49mpip install --upgrade pip\u001b[0m\n",
      "Note: you may need to restart the kernel to use updated packages.\n"
     ]
    }
   ],
   "source": [
    "pip install --upgrade typing-extensions"
   ]
  },
  {
   "cell_type": "code",
   "execution_count": 8,
   "id": "3d175f27",
   "metadata": {},
   "outputs": [
    {
     "name": "stdout",
     "output_type": "stream",
     "text": [
      "Requirement already satisfied: gradio in /Users/darshmac/opt/anaconda3/lib/python3.9/site-packages (4.19.1)\n",
      "Requirement already satisfied: aiofiles<24.0,>=22.0 in /Users/darshmac/opt/anaconda3/lib/python3.9/site-packages (from gradio) (23.2.1)\n",
      "Requirement already satisfied: altair<6.0,>=4.2.0 in /Users/darshmac/opt/anaconda3/lib/python3.9/site-packages (from gradio) (4.2.2)\n",
      "Requirement already satisfied: fastapi in /Users/darshmac/opt/anaconda3/lib/python3.9/site-packages (from gradio) (0.109.2)\n",
      "Requirement already satisfied: ffmpy in /Users/darshmac/opt/anaconda3/lib/python3.9/site-packages (from gradio) (0.3.2)\n",
      "Requirement already satisfied: gradio-client==0.10.0 in /Users/darshmac/opt/anaconda3/lib/python3.9/site-packages (from gradio) (0.10.0)\n",
      "Requirement already satisfied: httpx in /Users/darshmac/opt/anaconda3/lib/python3.9/site-packages (from gradio) (0.23.3)\n",
      "Requirement already satisfied: huggingface-hub>=0.19.3 in /Users/darshmac/opt/anaconda3/lib/python3.9/site-packages (from gradio) (0.20.3)\n",
      "Requirement already satisfied: importlib-resources<7.0,>=1.3 in /Users/darshmac/opt/anaconda3/lib/python3.9/site-packages (from gradio) (5.12.0)\n",
      "Requirement already satisfied: jinja2<4.0 in /Users/darshmac/opt/anaconda3/lib/python3.9/site-packages (from gradio) (3.1.2)\n",
      "Requirement already satisfied: markupsafe~=2.0 in /Users/darshmac/opt/anaconda3/lib/python3.9/site-packages (from gradio) (2.1.2)\n",
      "Requirement already satisfied: matplotlib~=3.0 in /Users/darshmac/opt/anaconda3/lib/python3.9/site-packages (from gradio) (3.6.3)\n",
      "Requirement already satisfied: numpy~=1.0 in /Users/darshmac/opt/anaconda3/lib/python3.9/site-packages (from gradio) (1.23.5)\n",
      "Requirement already satisfied: orjson~=3.0 in /Users/darshmac/opt/anaconda3/lib/python3.9/site-packages (from gradio) (3.9.14)\n",
      "Requirement already satisfied: packaging in /Users/darshmac/opt/anaconda3/lib/python3.9/site-packages (from gradio) (21.3)\n",
      "Requirement already satisfied: pandas<3.0,>=1.0 in /Users/darshmac/opt/anaconda3/lib/python3.9/site-packages (from gradio) (1.5.3)\n",
      "Requirement already satisfied: pillow<11.0,>=8.0 in /Users/darshmac/opt/anaconda3/lib/python3.9/site-packages (from gradio) (10.0.1)\n",
      "Collecting pydantic>=2.0 (from gradio)\n",
      "  Using cached pydantic-2.6.1-py3-none-any.whl.metadata (83 kB)\n",
      "Requirement already satisfied: pydub in /Users/darshmac/opt/anaconda3/lib/python3.9/site-packages (from gradio) (0.25.1)\n",
      "Requirement already satisfied: python-multipart>=0.0.9 in /Users/darshmac/opt/anaconda3/lib/python3.9/site-packages (from gradio) (0.0.9)\n",
      "Requirement already satisfied: pyyaml<7.0,>=5.0 in /Users/darshmac/opt/anaconda3/lib/python3.9/site-packages (from gradio) (6.0)\n",
      "Requirement already satisfied: ruff>=0.1.7 in /Users/darshmac/opt/anaconda3/lib/python3.9/site-packages (from gradio) (0.2.2)\n",
      "Requirement already satisfied: semantic-version~=2.0 in /Users/darshmac/opt/anaconda3/lib/python3.9/site-packages (from gradio) (2.10.0)\n",
      "Requirement already satisfied: tomlkit==0.12.0 in /Users/darshmac/opt/anaconda3/lib/python3.9/site-packages (from gradio) (0.12.0)\n",
      "Requirement already satisfied: typer<1.0,>=0.9 in /Users/darshmac/opt/anaconda3/lib/python3.9/site-packages (from typer[all]<1.0,>=0.9->gradio) (0.9.0)\n",
      "Requirement already satisfied: typing-extensions~=4.0 in /Users/darshmac/opt/anaconda3/lib/python3.9/site-packages (from gradio) (4.9.0)\n",
      "Requirement already satisfied: uvicorn>=0.14.0 in /Users/darshmac/opt/anaconda3/lib/python3.9/site-packages (from gradio) (0.27.1)\n",
      "Requirement already satisfied: fsspec in /Users/darshmac/opt/anaconda3/lib/python3.9/site-packages (from gradio-client==0.10.0->gradio) (2023.10.0)\n",
      "Requirement already satisfied: websockets<12.0,>=10.0 in /Users/darshmac/opt/anaconda3/lib/python3.9/site-packages (from gradio-client==0.10.0->gradio) (11.0.3)\n",
      "Requirement already satisfied: entrypoints in /Users/darshmac/opt/anaconda3/lib/python3.9/site-packages (from altair<6.0,>=4.2.0->gradio) (0.4)\n",
      "Requirement already satisfied: jsonschema>=3.0 in /Users/darshmac/opt/anaconda3/lib/python3.9/site-packages (from altair<6.0,>=4.2.0->gradio) (4.17.3)\n",
      "Requirement already satisfied: toolz in /Users/darshmac/opt/anaconda3/lib/python3.9/site-packages (from altair<6.0,>=4.2.0->gradio) (0.12.0)\n",
      "Requirement already satisfied: filelock in /Users/darshmac/opt/anaconda3/lib/python3.9/site-packages (from huggingface-hub>=0.19.3->gradio) (3.13.1)\n",
      "Requirement already satisfied: requests in /Users/darshmac/opt/anaconda3/lib/python3.9/site-packages (from huggingface-hub>=0.19.3->gradio) (2.30.0)\n",
      "Requirement already satisfied: tqdm>=4.42.1 in /Users/darshmac/opt/anaconda3/lib/python3.9/site-packages (from huggingface-hub>=0.19.3->gradio) (4.64.1)\n",
      "Requirement already satisfied: zipp>=3.1.0 in /Users/darshmac/opt/anaconda3/lib/python3.9/site-packages (from importlib-resources<7.0,>=1.3->gradio) (3.15.0)\n",
      "Requirement already satisfied: contourpy>=1.0.1 in /Users/darshmac/opt/anaconda3/lib/python3.9/site-packages (from matplotlib~=3.0->gradio) (1.2.0)\n",
      "Requirement already satisfied: cycler>=0.10 in /Users/darshmac/opt/anaconda3/lib/python3.9/site-packages (from matplotlib~=3.0->gradio) (0.11.0)\n",
      "Requirement already satisfied: fonttools>=4.22.0 in /Users/darshmac/opt/anaconda3/lib/python3.9/site-packages (from matplotlib~=3.0->gradio) (4.25.0)\n",
      "Requirement already satisfied: kiwisolver>=1.0.1 in /Users/darshmac/opt/anaconda3/lib/python3.9/site-packages (from matplotlib~=3.0->gradio) (1.4.4)\n",
      "Requirement already satisfied: pyparsing>=2.2.1 in /Users/darshmac/opt/anaconda3/lib/python3.9/site-packages (from matplotlib~=3.0->gradio) (3.0.9)\n",
      "Requirement already satisfied: python-dateutil>=2.7 in /Users/darshmac/opt/anaconda3/lib/python3.9/site-packages (from matplotlib~=3.0->gradio) (2.8.2)\n",
      "Requirement already satisfied: pytz>=2020.1 in /Users/darshmac/opt/anaconda3/lib/python3.9/site-packages (from pandas<3.0,>=1.0->gradio) (2023.3)\n",
      "Requirement already satisfied: annotated-types>=0.4.0 in /Users/darshmac/opt/anaconda3/lib/python3.9/site-packages (from pydantic>=2.0->gradio) (0.6.0)\n",
      "Requirement already satisfied: pydantic-core==2.16.2 in /Users/darshmac/opt/anaconda3/lib/python3.9/site-packages (from pydantic>=2.0->gradio) (2.16.2)\n",
      "Requirement already satisfied: click<9.0.0,>=7.1.1 in /Users/darshmac/opt/anaconda3/lib/python3.9/site-packages (from typer<1.0,>=0.9->typer[all]<1.0,>=0.9->gradio) (8.1.3)\n",
      "Requirement already satisfied: colorama<0.5.0,>=0.4.3 in /Users/darshmac/opt/anaconda3/lib/python3.9/site-packages (from typer[all]<1.0,>=0.9->gradio) (0.4.6)\n",
      "Requirement already satisfied: shellingham<2.0.0,>=1.3.0 in /Users/darshmac/opt/anaconda3/lib/python3.9/site-packages (from typer[all]<1.0,>=0.9->gradio) (1.5.4)\n",
      "Requirement already satisfied: rich<14.0.0,>=10.11.0 in /Users/darshmac/opt/anaconda3/lib/python3.9/site-packages (from typer[all]<1.0,>=0.9->gradio) (13.3.5)\n",
      "Requirement already satisfied: h11>=0.8 in /Users/darshmac/opt/anaconda3/lib/python3.9/site-packages (from uvicorn>=0.14.0->gradio) (0.14.0)\n",
      "Requirement already satisfied: starlette<0.37.0,>=0.36.3 in /Users/darshmac/opt/anaconda3/lib/python3.9/site-packages (from fastapi->gradio) (0.36.3)\n",
      "Requirement already satisfied: certifi in /Users/darshmac/opt/anaconda3/lib/python3.9/site-packages (from httpx->gradio) (2023.5.7)\n",
      "Requirement already satisfied: httpcore<0.17.0,>=0.15.0 in /Users/darshmac/opt/anaconda3/lib/python3.9/site-packages (from httpx->gradio) (0.16.3)\n",
      "Requirement already satisfied: rfc3986<2,>=1.3 in /Users/darshmac/opt/anaconda3/lib/python3.9/site-packages (from rfc3986[idna2008]<2,>=1.3->httpx->gradio) (1.5.0)\n",
      "Requirement already satisfied: sniffio in /Users/darshmac/opt/anaconda3/lib/python3.9/site-packages (from httpx->gradio) (1.3.0)\n",
      "Requirement already satisfied: anyio<5.0,>=3.0 in /Users/darshmac/opt/anaconda3/lib/python3.9/site-packages (from httpcore<0.17.0,>=0.15.0->httpx->gradio) (3.6.2)\n",
      "Requirement already satisfied: attrs>=17.4.0 in /Users/darshmac/opt/anaconda3/lib/python3.9/site-packages (from jsonschema>=3.0->altair<6.0,>=4.2.0->gradio) (23.1.0)\n",
      "Requirement already satisfied: pyrsistent!=0.17.0,!=0.17.1,!=0.17.2,>=0.14.0 in /Users/darshmac/opt/anaconda3/lib/python3.9/site-packages (from jsonschema>=3.0->altair<6.0,>=4.2.0->gradio) (0.19.3)\n"
     ]
    },
    {
     "name": "stdout",
     "output_type": "stream",
     "text": [
      "Requirement already satisfied: six>=1.5 in /Users/darshmac/opt/anaconda3/lib/python3.9/site-packages (from python-dateutil>=2.7->matplotlib~=3.0->gradio) (1.16.0)\n",
      "Requirement already satisfied: idna in /Users/darshmac/opt/anaconda3/lib/python3.9/site-packages (from rfc3986[idna2008]<2,>=1.3->httpx->gradio) (3.4)\n",
      "Requirement already satisfied: markdown-it-py<3.0.0,>=2.2.0 in /Users/darshmac/opt/anaconda3/lib/python3.9/site-packages (from rich<14.0.0,>=10.11.0->typer[all]<1.0,>=0.9->gradio) (2.2.0)\n",
      "Requirement already satisfied: pygments<3.0.0,>=2.13.0 in /Users/darshmac/opt/anaconda3/lib/python3.9/site-packages (from rich<14.0.0,>=10.11.0->typer[all]<1.0,>=0.9->gradio) (2.15.1)\n",
      "Requirement already satisfied: charset-normalizer<4,>=2 in /Users/darshmac/opt/anaconda3/lib/python3.9/site-packages (from requests->huggingface-hub>=0.19.3->gradio) (2.1.1)\n",
      "Requirement already satisfied: urllib3<3,>=1.21.1 in /Users/darshmac/opt/anaconda3/lib/python3.9/site-packages (from requests->huggingface-hub>=0.19.3->gradio) (1.26.15)\n",
      "Requirement already satisfied: mdurl~=0.1 in /Users/darshmac/opt/anaconda3/lib/python3.9/site-packages (from markdown-it-py<3.0.0,>=2.2.0->rich<14.0.0,>=10.11.0->typer[all]<1.0,>=0.9->gradio) (0.1.2)\n",
      "Using cached pydantic-2.6.1-py3-none-any.whl (394 kB)\n",
      "Installing collected packages: pydantic\n",
      "  Attempting uninstall: pydantic\n",
      "    Found existing installation: pydantic 1.10.7\n",
      "    Uninstalling pydantic-1.10.7:\n",
      "      Successfully uninstalled pydantic-1.10.7\n",
      "\u001b[31mERROR: pip's dependency resolver does not currently take into account all the packages that are installed. This behaviour is the source of the following dependency conflicts.\n",
      "anaconda-cloud-auth 0.1.4 requires pydantic<2.0, but you have pydantic 2.6.1 which is incompatible.\n",
      "ydata-profiling 4.0.0 requires pydantic<1.11,>=1.8.1, but you have pydantic 2.6.1 which is incompatible.\n",
      "ydata-profiling 4.0.0 requires requests<2.29,>=2.24.0, but you have requests 2.30.0 which is incompatible.\n",
      "ydata-profiling 4.0.0 requires scipy<1.10,>=1.4.1, but you have scipy 1.11.4 which is incompatible.\u001b[0m\u001b[31m\n",
      "\u001b[0mSuccessfully installed pydantic-2.6.1\n",
      "\n",
      "\u001b[1m[\u001b[0m\u001b[34;49mnotice\u001b[0m\u001b[1;39;49m]\u001b[0m\u001b[39;49m A new release of pip is available: \u001b[0m\u001b[31;49m23.3.2\u001b[0m\u001b[39;49m -> \u001b[0m\u001b[32;49m24.0\u001b[0m\n",
      "\u001b[1m[\u001b[0m\u001b[34;49mnotice\u001b[0m\u001b[1;39;49m]\u001b[0m\u001b[39;49m To update, run: \u001b[0m\u001b[32;49mpip install --upgrade pip\u001b[0m\n",
      "Note: you may need to restart the kernel to use updated packages.\n"
     ]
    }
   ],
   "source": [
    "pip install --upgrade gradio\n"
   ]
  },
  {
   "cell_type": "code",
   "execution_count": 9,
   "id": "d6d0bbb9",
   "metadata": {},
   "outputs": [
    {
     "name": "stdout",
     "output_type": "stream",
     "text": [
      "Requirement already satisfied: fastapi in /Users/darshmac/opt/anaconda3/lib/python3.9/site-packages (0.109.2)\n",
      "Requirement already satisfied: pydantic!=1.8,!=1.8.1,!=2.0.0,!=2.0.1,!=2.1.0,<3.0.0,>=1.7.4 in /Users/darshmac/opt/anaconda3/lib/python3.9/site-packages (from fastapi) (2.6.1)\n",
      "Requirement already satisfied: starlette<0.37.0,>=0.36.3 in /Users/darshmac/opt/anaconda3/lib/python3.9/site-packages (from fastapi) (0.36.3)\n",
      "Requirement already satisfied: typing-extensions>=4.8.0 in /Users/darshmac/opt/anaconda3/lib/python3.9/site-packages (from fastapi) (4.9.0)\n",
      "Requirement already satisfied: annotated-types>=0.4.0 in /Users/darshmac/opt/anaconda3/lib/python3.9/site-packages (from pydantic!=1.8,!=1.8.1,!=2.0.0,!=2.0.1,!=2.1.0,<3.0.0,>=1.7.4->fastapi) (0.6.0)\n",
      "Requirement already satisfied: pydantic-core==2.16.2 in /Users/darshmac/opt/anaconda3/lib/python3.9/site-packages (from pydantic!=1.8,!=1.8.1,!=2.0.0,!=2.0.1,!=2.1.0,<3.0.0,>=1.7.4->fastapi) (2.16.2)\n",
      "Requirement already satisfied: anyio<5,>=3.4.0 in /Users/darshmac/opt/anaconda3/lib/python3.9/site-packages (from starlette<0.37.0,>=0.36.3->fastapi) (3.6.2)\n",
      "Requirement already satisfied: idna>=2.8 in /Users/darshmac/opt/anaconda3/lib/python3.9/site-packages (from anyio<5,>=3.4.0->starlette<0.37.0,>=0.36.3->fastapi) (3.4)\n",
      "Requirement already satisfied: sniffio>=1.1 in /Users/darshmac/opt/anaconda3/lib/python3.9/site-packages (from anyio<5,>=3.4.0->starlette<0.37.0,>=0.36.3->fastapi) (1.3.0)\n",
      "\n",
      "\u001b[1m[\u001b[0m\u001b[34;49mnotice\u001b[0m\u001b[1;39;49m]\u001b[0m\u001b[39;49m A new release of pip is available: \u001b[0m\u001b[31;49m23.3.2\u001b[0m\u001b[39;49m -> \u001b[0m\u001b[32;49m24.0\u001b[0m\n",
      "\u001b[1m[\u001b[0m\u001b[34;49mnotice\u001b[0m\u001b[1;39;49m]\u001b[0m\u001b[39;49m To update, run: \u001b[0m\u001b[32;49mpip install --upgrade pip\u001b[0m\n",
      "Note: you may need to restart the kernel to use updated packages.\n"
     ]
    }
   ],
   "source": [
    "pip install --upgrade fastapi"
   ]
  },
  {
   "cell_type": "code",
   "execution_count": 10,
   "id": "2c520d68",
   "metadata": {},
   "outputs": [
    {
     "name": "stdout",
     "output_type": "stream",
     "text": [
      "Requirement already satisfied: pydantic in /Users/darshmac/opt/anaconda3/lib/python3.9/site-packages (2.6.1)\n",
      "Requirement already satisfied: annotated-types>=0.4.0 in /Users/darshmac/opt/anaconda3/lib/python3.9/site-packages (from pydantic) (0.6.0)\n",
      "Requirement already satisfied: pydantic-core==2.16.2 in /Users/darshmac/opt/anaconda3/lib/python3.9/site-packages (from pydantic) (2.16.2)\n",
      "Requirement already satisfied: typing-extensions>=4.6.1 in /Users/darshmac/opt/anaconda3/lib/python3.9/site-packages (from pydantic) (4.9.0)\n",
      "\n",
      "\u001b[1m[\u001b[0m\u001b[34;49mnotice\u001b[0m\u001b[1;39;49m]\u001b[0m\u001b[39;49m A new release of pip is available: \u001b[0m\u001b[31;49m23.3.2\u001b[0m\u001b[39;49m -> \u001b[0m\u001b[32;49m24.0\u001b[0m\n",
      "\u001b[1m[\u001b[0m\u001b[34;49mnotice\u001b[0m\u001b[1;39;49m]\u001b[0m\u001b[39;49m To update, run: \u001b[0m\u001b[32;49mpip install --upgrade pip\u001b[0m\n",
      "Note: you may need to restart the kernel to use updated packages.\n"
     ]
    }
   ],
   "source": [
    "pip install --upgrade pydantic\n"
   ]
  },
  {
   "cell_type": "code",
   "execution_count": 2,
   "id": "d5c268d8",
   "metadata": {},
   "outputs": [
    {
     "name": "stdout",
     "output_type": "stream",
     "text": [
      "Requirement already satisfied: email-validator in /Users/darshmac/opt/anaconda3/lib/python3.9/site-packages (1.3.1)\n",
      "Collecting email-validator\n",
      "  Downloading email_validator-2.1.0.post1-py3-none-any.whl.metadata (25 kB)\n",
      "Requirement already satisfied: dnspython>=2.0.0 in /Users/darshmac/opt/anaconda3/lib/python3.9/site-packages (from email-validator) (2.3.0)\n",
      "Requirement already satisfied: idna>=2.0.0 in /Users/darshmac/opt/anaconda3/lib/python3.9/site-packages (from email-validator) (3.4)\n",
      "Downloading email_validator-2.1.0.post1-py3-none-any.whl (32 kB)\n",
      "Installing collected packages: email-validator\n",
      "  Attempting uninstall: email-validator\n",
      "    Found existing installation: email-validator 1.3.1\n",
      "    Uninstalling email-validator-1.3.1:\n",
      "      Successfully uninstalled email-validator-1.3.1\n",
      "\u001b[31mERROR: pip's dependency resolver does not currently take into account all the packages that are installed. This behaviour is the source of the following dependency conflicts.\n",
      "flask-appbuilder 4.3.0 requires email-validator<2,>=1.0.5, but you have email-validator 2.1.0.post1 which is incompatible.\u001b[0m\u001b[31m\n",
      "\u001b[0mSuccessfully installed email-validator-2.1.0.post1\n",
      "\n",
      "\u001b[1m[\u001b[0m\u001b[34;49mnotice\u001b[0m\u001b[1;39;49m]\u001b[0m\u001b[39;49m A new release of pip is available: \u001b[0m\u001b[31;49m23.3.2\u001b[0m\u001b[39;49m -> \u001b[0m\u001b[32;49m24.0\u001b[0m\n",
      "\u001b[1m[\u001b[0m\u001b[34;49mnotice\u001b[0m\u001b[1;39;49m]\u001b[0m\u001b[39;49m To update, run: \u001b[0m\u001b[32;49mpip install --upgrade pip\u001b[0m\n",
      "Note: you may need to restart the kernel to use updated packages.\n"
     ]
    }
   ],
   "source": [
    "pip install -U email-validator"
   ]
  },
  {
   "cell_type": "code",
   "execution_count": 4,
   "id": "14e1f139",
   "metadata": {},
   "outputs": [],
   "source": [
    "import gradio as gr"
   ]
  },
  {
   "cell_type": "code",
   "execution_count": 5,
   "id": "08811b95",
   "metadata": {},
   "outputs": [],
   "source": [
    "def hello_world(name):\n",
    "    return \"Hello....\"+name+\"!!!!\""
   ]
  },
  {
   "cell_type": "code",
   "execution_count": 6,
   "id": "74e18987",
   "metadata": {},
   "outputs": [
    {
     "data": {
      "text/plain": [
       "'Hello....darsh!!!!'"
      ]
     },
     "execution_count": 6,
     "metadata": {},
     "output_type": "execute_result"
    }
   ],
   "source": [
    "hello_world(\"darsh\")"
   ]
  },
  {
   "cell_type": "markdown",
   "id": "2a24c543",
   "metadata": {},
   "source": [
    "### Taking text input"
   ]
  },
  {
   "cell_type": "code",
   "execution_count": 9,
   "id": "cef45932",
   "metadata": {},
   "outputs": [],
   "source": [
    "interface = gr.Interface(fn = hello_world, inputs = 'text', outputs = \"text\")"
   ]
  },
  {
   "cell_type": "code",
   "execution_count": 11,
   "id": "83963140",
   "metadata": {},
   "outputs": [],
   "source": [
    "interface.launch()"
   ]
  },
  {
   "cell_type": "markdown",
   "id": "5cab4bcc",
   "metadata": {},
   "source": [
    "### With text box"
   ]
  },
  {
   "cell_type": "code",
   "execution_count": 15,
   "id": "59bb69bf",
   "metadata": {},
   "outputs": [],
   "source": [
    "text_box_interface = gr.Interface(fn = hello_world, \n",
    "                                  inputs = gr.Textbox(lines = 5, placeholder = \"Enter your input here.....\"),\n",
    "                                 outputs = 'text')"
   ]
  },
  {
   "cell_type": "code",
   "execution_count": 16,
   "id": "292dedd3",
   "metadata": {},
   "outputs": [
    {
     "name": "stdout",
     "output_type": "stream",
     "text": [
      "Running on local URL:  http://127.0.0.1:7861\n",
      "\n",
      "To create a public link, set `share=True` in `launch()`.\n"
     ]
    },
    {
     "data": {
      "text/html": [
       "<div><iframe src=\"http://127.0.0.1:7861/\" width=\"100%\" height=\"500\" allow=\"autoplay; camera; microphone; clipboard-read; clipboard-write;\" frameborder=\"0\" allowfullscreen></iframe></div>"
      ],
      "text/plain": [
       "<IPython.core.display.HTML object>"
      ]
     },
     "metadata": {},
     "output_type": "display_data"
    },
    {
     "data": {
      "text/plain": []
     },
     "execution_count": 16,
     "metadata": {},
     "output_type": "execute_result"
    }
   ],
   "source": [
    "text_box_interface.launch()"
   ]
  },
  {
   "cell_type": "markdown",
   "id": "7f533c1d",
   "metadata": {},
   "source": [
    "### Image as input"
   ]
  },
  {
   "cell_type": "code",
   "execution_count": 24,
   "id": "32e26d5a",
   "metadata": {},
   "outputs": [],
   "source": [
    "import numpy as np"
   ]
  },
  {
   "cell_type": "code",
   "execution_count": 25,
   "id": "214f1fda",
   "metadata": {},
   "outputs": [
    {
     "name": "stdout",
     "output_type": "stream",
     "text": [
      "Running on local URL:  http://127.0.0.1:7863\n",
      "\n",
      "To create a public link, set `share=True` in `launch()`.\n"
     ]
    },
    {
     "data": {
      "text/html": [
       "<div><iframe src=\"http://127.0.0.1:7863/\" width=\"100%\" height=\"500\" allow=\"autoplay; camera; microphone; clipboard-read; clipboard-write;\" frameborder=\"0\" allowfullscreen></iframe></div>"
      ],
      "text/plain": [
       "<IPython.core.display.HTML object>"
      ]
     },
     "metadata": {},
     "output_type": "display_data"
    },
    {
     "data": {
      "text/plain": []
     },
     "execution_count": 25,
     "metadata": {},
     "output_type": "execute_result"
    }
   ],
   "source": [
    "def sepia(input_img):\n",
    "    sepia_filter = np.array([\n",
    "        [0.393, 0.769, 0.189],\n",
    "        [0.349, 0.686, 0.168],\n",
    "        [0.272, 0.534, 0.131]\n",
    "    ])\n",
    "    sepia_image = input_img.dot(sepia_filter,T)\n",
    "    sepia_img /= sepia_img.max()\n",
    "    return sepia_img\n",
    "iface = gr.Interface(sepia, gr.Image(type='pil'), \"image\")\n",
    "iface.launch()"
   ]
  },
  {
   "cell_type": "markdown",
   "id": "058e84cb",
   "metadata": {},
   "source": [
    "### UI "
   ]
  },
  {
   "cell_type": "code",
   "execution_count": 29,
   "id": "c4696662",
   "metadata": {},
   "outputs": [],
   "source": [
    "# import gradio as gr\n",
    "# import pandas as pd\n",
    "# import joblib\n",
    "# import datasets\n",
    "\n",
    "\n",
    "# inputs = [gr.Dataframe(row_count = (2, \"dynamic\"), col_count=(4,\"dynamic\"), label=\"Input Data\", interactive=1)]\n",
    "\n",
    "# outputs = [gr.Dataframe(row_count = (2, \"dynamic\"), col_count=(1, \"fixed\"), label=\"Predictions\", headers=[\"Failures\"])]\n",
    "\n",
    "# #load model\n",
    "# model = joblib.load(\"model.pkl\")\n",
    "\n",
    "# # we will give our dataframe as example\n",
    "# df = datasets.load_dataset(\"merve/supersoaker-failures\")\n",
    "# df = df[\"train\"].to_pandas()\n",
    "\n",
    "# def infer(input_dataframe):\n",
    "#   return pd.DataFrame(model.predict(input_dataframe))\n",
    "\n",
    "# gr.Interface(fn = infer, inputs = inputs, outputs = outputs, examples = [[df.head(2)]]).launch()"
   ]
  },
  {
   "cell_type": "code",
   "execution_count": 28,
   "id": "5c7fa6a9",
   "metadata": {},
   "outputs": [],
   "source": [
    "# import gradio as gr\n",
    "# import pandas as pd\n",
    "# import datasets\n",
    "# import seaborn as sns\n",
    "# import matplotlib.pyplot as plt\n",
    "\n",
    "# df = datasets.load_dataset(\"merve/supersoaker-failures\")\n",
    "# df = df[\"train\"].to_pandas()\n",
    "# df.dropna(axis=0, inplace=True)\n",
    "\n",
    "# def plot(df):\n",
    "#   plt.scatter(df.measurement_13, df.measurement_15, c = df.loading,alpha=0.5)\n",
    "#   plt.savefig(\"scatter.png\")\n",
    "#   df['failure'].value_counts().plot(kind='bar')\n",
    "#   plt.savefig(\"bar.png\")\n",
    "#   sns.heatmap(df.select_dtypes(include=\"number\").corr())\n",
    "#   plt.savefig(\"corr.png\")\n",
    "#   plots = [\"corr.png\",\"scatter.png\", \"bar.png\"]\n",
    "#   return plots\n",
    "\n",
    "# inputs = [gr.Dataframe(label=\"Supersoaker Production Data\")]\n",
    "# outputs = [gr.Gallery(label=\"Profiling Dashboard\", columns=(1,3))]\n",
    "\n",
    "# gr.Interface(plot, inputs=inputs, outputs=outputs, examples=[df.head(100)], title=\"Supersoaker Failures Analysis Dashboard\").launch()"
   ]
  },
  {
   "cell_type": "markdown",
   "id": "ea17444c",
   "metadata": {},
   "source": [
    "### BMI (multiple input)"
   ]
  },
  {
   "cell_type": "code",
   "execution_count": 39,
   "id": "a1dad843",
   "metadata": {},
   "outputs": [],
   "source": [
    "def bmi(Name,height,weight):\n",
    "    bmi_val = weight / (height ** 2)\n",
    "    return (\"Hello \"+Name+ \" your BMI is \"+str(bmi_val))"
   ]
  },
  {
   "cell_type": "code",
   "execution_count": 40,
   "id": "2ade814c",
   "metadata": {},
   "outputs": [
    {
     "data": {
      "text/plain": [
       "'Hello Darsh your BMI is 24.977043158861342'"
      ]
     },
     "execution_count": 40,
     "metadata": {},
     "output_type": "execute_result"
    }
   ],
   "source": [
    "bmi(\"Darsh\",1.65,68)"
   ]
  },
  {
   "cell_type": "code",
   "execution_count": 41,
   "id": "17084a58",
   "metadata": {},
   "outputs": [],
   "source": [
    "bmi_interface = gr.Interface(\n",
    "    fn=bmi,\n",
    "    inputs=['text', gr.Slider(0, 200, label=\"Height in meters\"), gr.Slider(0, 100, label=\"Weight in kg\")],\n",
    "    outputs='text'\n",
    ")"
   ]
  },
  {
   "cell_type": "code",
   "execution_count": 42,
   "id": "77281afd",
   "metadata": {},
   "outputs": [
    {
     "name": "stdout",
     "output_type": "stream",
     "text": [
      "Running on local URL:  http://127.0.0.1:7866\n",
      "\n",
      "To create a public link, set `share=True` in `launch()`.\n"
     ]
    },
    {
     "data": {
      "text/html": [
       "<div><iframe src=\"http://127.0.0.1:7866/\" width=\"100%\" height=\"500\" allow=\"autoplay; camera; microphone; clipboard-read; clipboard-write;\" frameborder=\"0\" allowfullscreen></iframe></div>"
      ],
      "text/plain": [
       "<IPython.core.display.HTML object>"
      ]
     },
     "metadata": {},
     "output_type": "display_data"
    },
    {
     "data": {
      "text/plain": []
     },
     "execution_count": 42,
     "metadata": {},
     "output_type": "execute_result"
    }
   ],
   "source": [
    "bmi_interface.launch()"
   ]
  },
  {
   "cell_type": "code",
   "execution_count": null,
   "id": "f5d4e210",
   "metadata": {},
   "outputs": [],
   "source": []
  }
 ],
 "metadata": {
  "kernelspec": {
   "display_name": "Python 3 (ipykernel)",
   "language": "python",
   "name": "python3"
  },
  "language_info": {
   "codemirror_mode": {
    "name": "ipython",
    "version": 3
   },
   "file_extension": ".py",
   "mimetype": "text/x-python",
   "name": "python",
   "nbconvert_exporter": "python",
   "pygments_lexer": "ipython3",
   "version": "3.9.18"
  }
 },
 "nbformat": 4,
 "nbformat_minor": 5
}
