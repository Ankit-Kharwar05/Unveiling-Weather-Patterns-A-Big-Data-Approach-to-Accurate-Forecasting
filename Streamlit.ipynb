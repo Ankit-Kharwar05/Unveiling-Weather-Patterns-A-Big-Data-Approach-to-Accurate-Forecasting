{
 "cells": [
  {
   "cell_type": "code",
   "execution_count": 1,
   "id": "6affde2f",
   "metadata": {},
   "outputs": [
    {
     "name": "stdout",
     "output_type": "stream",
     "text": [
      "Requirement already satisfied: streamlit in /Users/darshmac/opt/anaconda3/lib/python3.9/site-packages (1.19.0)\n",
      "Requirement already satisfied: statsmodels in /Users/darshmac/opt/anaconda3/lib/python3.9/site-packages (0.13.5)\n",
      "Requirement already satisfied: scikit-learn in /Users/darshmac/opt/anaconda3/lib/python3.9/site-packages (1.3.0)\n",
      "Requirement already satisfied: pandas in /Users/darshmac/opt/anaconda3/lib/python3.9/site-packages (1.5.3)\n",
      "Requirement already satisfied: matplotlib in /Users/darshmac/opt/anaconda3/lib/python3.9/site-packages (3.6.3)\n",
      "Requirement already satisfied: numpy in /Users/darshmac/opt/anaconda3/lib/python3.9/site-packages (1.23.5)\n",
      "Requirement already satisfied: altair>=3.2.0 in /Users/darshmac/opt/anaconda3/lib/python3.9/site-packages (from streamlit) (4.2.2)\n",
      "Requirement already satisfied: blinker>=1.0.0 in /Users/darshmac/opt/anaconda3/lib/python3.9/site-packages (from streamlit) (1.6.2)\n",
      "Requirement already satisfied: cachetools>=4.0 in /Users/darshmac/opt/anaconda3/lib/python3.9/site-packages (from streamlit) (5.3.0)\n",
      "Requirement already satisfied: click>=7.0 in /Users/darshmac/opt/anaconda3/lib/python3.9/site-packages (from streamlit) (8.1.3)\n",
      "Requirement already satisfied: importlib-metadata>=1.4 in /Users/darshmac/opt/anaconda3/lib/python3.9/site-packages (from streamlit) (4.13.0)\n",
      "Requirement already satisfied: packaging>=14.1 in /Users/darshmac/opt/anaconda3/lib/python3.9/site-packages (from streamlit) (21.3)\n",
      "Requirement already satisfied: pillow>=6.2.0 in /Users/darshmac/opt/anaconda3/lib/python3.9/site-packages (from streamlit) (10.0.1)\n",
      "Requirement already satisfied: protobuf<4,>=3.12 in /Users/darshmac/opt/anaconda3/lib/python3.9/site-packages (from streamlit) (3.19.6)\n",
      "Requirement already satisfied: pyarrow>=4.0 in /Users/darshmac/opt/anaconda3/lib/python3.9/site-packages (from streamlit) (11.0.0)\n",
      "Requirement already satisfied: pympler>=0.9 in /Users/darshmac/opt/anaconda3/lib/python3.9/site-packages (from streamlit) (1.0.1)\n",
      "Requirement already satisfied: python-dateutil in /Users/darshmac/opt/anaconda3/lib/python3.9/site-packages (from streamlit) (2.8.2)\n",
      "Requirement already satisfied: requests>=2.4 in /Users/darshmac/opt/anaconda3/lib/python3.9/site-packages (from streamlit) (2.30.0)\n",
      "Requirement already satisfied: rich>=10.11.0 in /Users/darshmac/opt/anaconda3/lib/python3.9/site-packages (from streamlit) (13.3.5)\n",
      "Requirement already satisfied: semver in /Users/darshmac/opt/anaconda3/lib/python3.9/site-packages (from streamlit) (2.13.0)\n",
      "Requirement already satisfied: toml in /Users/darshmac/opt/anaconda3/lib/python3.9/site-packages (from streamlit) (0.10.2)\n",
      "Requirement already satisfied: typing-extensions>=3.10.0.0 in /Users/darshmac/opt/anaconda3/lib/python3.9/site-packages (from streamlit) (4.9.0)\n",
      "Requirement already satisfied: tzlocal>=1.1 in /Users/darshmac/opt/anaconda3/lib/python3.9/site-packages (from streamlit) (4.2)\n",
      "Requirement already satisfied: validators>=0.2 in /Users/darshmac/opt/anaconda3/lib/python3.9/site-packages (from streamlit) (0.20.0)\n",
      "Requirement already satisfied: gitpython!=3.1.19 in /Users/darshmac/opt/anaconda3/lib/python3.9/site-packages (from streamlit) (3.1.31)\n",
      "Requirement already satisfied: pydeck>=0.1.dev5 in /Users/darshmac/opt/anaconda3/lib/python3.9/site-packages (from streamlit) (0.8.0)\n",
      "Requirement already satisfied: tornado>=6.0.3 in /Users/darshmac/opt/anaconda3/lib/python3.9/site-packages (from streamlit) (6.2)\n",
      "Requirement already satisfied: patsy>=0.5.2 in /Users/darshmac/opt/anaconda3/lib/python3.9/site-packages (from statsmodels) (0.5.3)\n",
      "Requirement already satisfied: scipy>=1.3 in /Users/darshmac/opt/anaconda3/lib/python3.9/site-packages (from statsmodels) (1.11.4)\n",
      "Requirement already satisfied: joblib>=1.1.1 in /Users/darshmac/opt/anaconda3/lib/python3.9/site-packages (from scikit-learn) (1.2.0)\n",
      "Requirement already satisfied: threadpoolctl>=2.0.0 in /Users/darshmac/opt/anaconda3/lib/python3.9/site-packages (from scikit-learn) (2.2.0)\n",
      "Requirement already satisfied: pytz>=2020.1 in /Users/darshmac/opt/anaconda3/lib/python3.9/site-packages (from pandas) (2023.3)\n",
      "Requirement already satisfied: contourpy>=1.0.1 in /Users/darshmac/opt/anaconda3/lib/python3.9/site-packages (from matplotlib) (1.2.0)\n",
      "Requirement already satisfied: cycler>=0.10 in /Users/darshmac/opt/anaconda3/lib/python3.9/site-packages (from matplotlib) (0.11.0)\n",
      "Requirement already satisfied: fonttools>=4.22.0 in /Users/darshmac/opt/anaconda3/lib/python3.9/site-packages (from matplotlib) (4.25.0)\n",
      "Requirement already satisfied: kiwisolver>=1.0.1 in /Users/darshmac/opt/anaconda3/lib/python3.9/site-packages (from matplotlib) (1.4.4)\n",
      "Requirement already satisfied: pyparsing>=2.2.1 in /Users/darshmac/opt/anaconda3/lib/python3.9/site-packages (from matplotlib) (3.0.9)\n",
      "Requirement already satisfied: entrypoints in /Users/darshmac/opt/anaconda3/lib/python3.9/site-packages (from altair>=3.2.0->streamlit) (0.4)\n",
      "Requirement already satisfied: jinja2 in /Users/darshmac/opt/anaconda3/lib/python3.9/site-packages (from altair>=3.2.0->streamlit) (3.1.2)\n",
      "Requirement already satisfied: jsonschema>=3.0 in /Users/darshmac/opt/anaconda3/lib/python3.9/site-packages (from altair>=3.2.0->streamlit) (4.17.3)\n",
      "Requirement already satisfied: toolz in /Users/darshmac/opt/anaconda3/lib/python3.9/site-packages (from altair>=3.2.0->streamlit) (0.12.0)\n",
      "Requirement already satisfied: gitdb<5,>=4.0.1 in /Users/darshmac/opt/anaconda3/lib/python3.9/site-packages (from gitpython!=3.1.19->streamlit) (4.0.10)\n",
      "Requirement already satisfied: zipp>=0.5 in /Users/darshmac/opt/anaconda3/lib/python3.9/site-packages (from importlib-metadata>=1.4->streamlit) (3.15.0)\n",
      "Requirement already satisfied: six in /Users/darshmac/opt/anaconda3/lib/python3.9/site-packages (from patsy>=0.5.2->statsmodels) (1.16.0)\n",
      "Requirement already satisfied: charset-normalizer<4,>=2 in /Users/darshmac/opt/anaconda3/lib/python3.9/site-packages (from requests>=2.4->streamlit) (2.1.1)\n",
      "Requirement already satisfied: idna<4,>=2.5 in /Users/darshmac/opt/anaconda3/lib/python3.9/site-packages (from requests>=2.4->streamlit) (3.4)\n",
      "Requirement already satisfied: urllib3<3,>=1.21.1 in /Users/darshmac/opt/anaconda3/lib/python3.9/site-packages (from requests>=2.4->streamlit) (1.26.15)\n",
      "Requirement already satisfied: certifi>=2017.4.17 in /Users/darshmac/opt/anaconda3/lib/python3.9/site-packages (from requests>=2.4->streamlit) (2023.5.7)\n",
      "Requirement already satisfied: markdown-it-py<3.0.0,>=2.2.0 in /Users/darshmac/opt/anaconda3/lib/python3.9/site-packages (from rich>=10.11.0->streamlit) (2.2.0)\n",
      "Requirement already satisfied: pygments<3.0.0,>=2.13.0 in /Users/darshmac/opt/anaconda3/lib/python3.9/site-packages (from rich>=10.11.0->streamlit) (2.15.1)\n",
      "Requirement already satisfied: pytz-deprecation-shim in /Users/darshmac/opt/anaconda3/lib/python3.9/site-packages (from tzlocal>=1.1->streamlit) (0.1.0.post0)\n",
      "Requirement already satisfied: decorator>=3.4.0 in /Users/darshmac/opt/anaconda3/lib/python3.9/site-packages (from validators>=0.2->streamlit) (5.1.1)\n",
      "Requirement already satisfied: smmap<6,>=3.0.1 in /Users/darshmac/opt/anaconda3/lib/python3.9/site-packages (from gitdb<5,>=4.0.1->gitpython!=3.1.19->streamlit) (5.0.0)\n",
      "Requirement already satisfied: MarkupSafe>=2.0 in /Users/darshmac/opt/anaconda3/lib/python3.9/site-packages (from jinja2->altair>=3.2.0->streamlit) (2.1.2)\n",
      "Requirement already satisfied: attrs>=17.4.0 in /Users/darshmac/opt/anaconda3/lib/python3.9/site-packages (from jsonschema>=3.0->altair>=3.2.0->streamlit) (23.1.0)\n",
      "Requirement already satisfied: pyrsistent!=0.17.0,!=0.17.1,!=0.17.2,>=0.14.0 in /Users/darshmac/opt/anaconda3/lib/python3.9/site-packages (from jsonschema>=3.0->altair>=3.2.0->streamlit) (0.19.3)\n",
      "Requirement already satisfied: mdurl~=0.1 in /Users/darshmac/opt/anaconda3/lib/python3.9/site-packages (from markdown-it-py<3.0.0,>=2.2.0->rich>=10.11.0->streamlit) (0.1.2)\n",
      "Requirement already satisfied: tzdata in /Users/darshmac/opt/anaconda3/lib/python3.9/site-packages (from pytz-deprecation-shim->tzlocal>=1.1->streamlit) (2022.7)\n",
      "\n",
      "\u001b[1m[\u001b[0m\u001b[34;49mnotice\u001b[0m\u001b[1;39;49m]\u001b[0m\u001b[39;49m A new release of pip is available: \u001b[0m\u001b[31;49m23.3.2\u001b[0m\u001b[39;49m -> \u001b[0m\u001b[32;49m24.0\u001b[0m\n",
      "\u001b[1m[\u001b[0m\u001b[34;49mnotice\u001b[0m\u001b[1;39;49m]\u001b[0m\u001b[39;49m To update, run: \u001b[0m\u001b[32;49mpip install --upgrade pip\u001b[0m\n"
     ]
    },
    {
     "name": "stdout",
     "output_type": "stream",
     "text": [
      "Note: you may need to restart the kernel to use updated packages.\n"
     ]
    }
   ],
   "source": [
    "pip install streamlit statsmodels scikit-learn pandas matplotlib numpy"
   ]
  },
  {
   "cell_type": "code",
   "execution_count": 2,
   "id": "ee933c2d",
   "metadata": {},
   "outputs": [
    {
     "name": "stderr",
     "output_type": "stream",
     "text": [
      "2024-02-20 14:34:17.061 \n",
      "  \u001b[33m\u001b[1mWarning:\u001b[0m to view this Streamlit app on a browser, run it with the following\n",
      "  command:\n",
      "\n",
      "    streamlit run /Users/darshmac/opt/anaconda3/lib/python3.9/site-packages/ipykernel_launcher.py [ARGUMENTS]\n"
     ]
    }
   ],
   "source": [
    "import streamlit as st\n",
    "import pickle\n",
    "import pandas as pd\n",
    "import numpy as np\n",
    "from statsmodels.tsa.statespace.sarimax import SARIMAX\n",
    "from sklearn.metrics import mean_squared_error\n",
    "import matplotlib.pyplot as plt\n",
    "\n",
    "# Load the trained model for a specific city\n",
    "def load_model(city_name):\n",
    "    # Convert city name to lowercase\n",
    "    city_name_lower = city_name.lower()\n",
    "    model_file_path = f\"{city_name_lower}_model.pkl\"\n",
    "    with open(model_file_path, 'rb') as f:\n",
    "        model = pickle.load(f)\n",
    "    return model\n",
    "\n",
    "# Your forecast_temperature function\n",
    "def forecast_temperature(city_name):\n",
    "    # Convert city name to lowercase\n",
    "    city_name_lower = city_name.lower()\n",
    "    \n",
    "    # Load the model for the specified city\n",
    "    model = load_model(city_name_lower)\n",
    "    \n",
    "    # Replace this with your actual logic to fetch actual temperature data\n",
    "    # Assuming your model has a predict method, adjust this accordingly\n",
    "    actual_temperature = model.predict()  # Replace with your actual method\n",
    "    \n",
    "    # Forecast temperatures for the next 48 hours\n",
    "    forecast = model.get_forecast(steps=48)\n",
    "    forecast_table = forecast.predicted_mean  # Replace with your actual method for forecast table\n",
    "    \n",
    "    # Plot the predicted values along with the actual values\n",
    "    # Note: You may want to adjust this plotting logic based on your requirements\n",
    "    plt.figure(figsize=(12, 6))\n",
    "    plt.plot(forecast_table.index, forecast_table, label='Forecast', color='red')\n",
    "    plt.title('SARIMA Forecast for Temperature')\n",
    "    plt.xlabel('Date')\n",
    "    plt.ylabel('Temperature')\n",
    "    st.pyplot(plt)  # Display the plot using Streamlit's pyplot\n",
    "    \n",
    "    rmse = np.sqrt(mean_squared_error(test[\"TEMP\"], forecast_table))\n",
    "    st.write(f'Root Mean Squared Error (RMSE): {rmse}')\n",
    "\n",
    "    # Create the output string including the forecasted temperature and the table\n",
    "    output_string = (\n",
    "        f\"Forecasted Temperature for {city_name_lower}: {actual_temperature:.2f} °C\\n\"\n",
    "        \"Forecasted Table:\\n\" + str(forecast_table)\n",
    "    )\n",
    "\n",
    "    st.write(output_string)\n",
    "\n",
    "# Streamlit app\n",
    "st.title(\"SARIMA Temperature Forecasting App\")\n",
    "city_name = st.text_input(\"Enter City Name\")\n",
    "if city_name:\n",
    "    forecast_temperature(city_name)\n"
   ]
  },
  {
   "cell_type": "code",
   "execution_count": null,
   "id": "c831772f",
   "metadata": {},
   "outputs": [],
   "source": []
  }
 ],
 "metadata": {
  "kernelspec": {
   "display_name": "Python 3 (ipykernel)",
   "language": "python",
   "name": "python3"
  },
  "language_info": {
   "codemirror_mode": {
    "name": "ipython",
    "version": 3
   },
   "file_extension": ".py",
   "mimetype": "text/x-python",
   "name": "python",
   "nbconvert_exporter": "python",
   "pygments_lexer": "ipython3",
   "version": "3.9.18"
  }
 },
 "nbformat": 4,
 "nbformat_minor": 5
}
